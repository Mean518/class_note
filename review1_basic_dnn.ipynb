{
 "cells": [
  {
   "cell_type": "code",
   "execution_count": 22,
   "metadata": {},
   "outputs": [],
   "source": [
    "import numpy as np\n",
    "from keras.models import Sequential\n",
    "from keras.layers import Dense\n",
    "# 데이터\n",
    "x = np.array([1,2,3,4,5,6,7,8,9,10])\n",
    "y = np.array([1,2,3,4,5,6,7,8,9,10])"
   ]
  },
  {
   "cell_type": "code",
   "execution_count": 23,
   "metadata": {},
   "outputs": [
    {
     "name": "stdout",
     "output_type": "stream",
     "text": [
      "Epoch 1/50\n",
      "10/10 [==============================] - 0s 9ms/step - loss: 3.5594 - mse: 3.5594 - acc: 0.2000\n",
      "Epoch 2/50\n",
      "10/10 [==============================] - 0s 2ms/step - loss: 0.4763 - mse: 0.4763 - acc: 0.5000\n",
      "Epoch 3/50\n",
      "10/10 [==============================] - 0s 2ms/step - loss: 0.2091 - mse: 0.2091 - acc: 0.7000\n",
      "Epoch 4/50\n",
      "10/10 [==============================] - 0s 2ms/step - loss: 0.1047 - mse: 0.1047 - acc: 0.8000\n",
      "Epoch 5/50\n",
      "10/10 [==============================] - 0s 2ms/step - loss: 0.0137 - mse: 0.0137 - acc: 1.0000\n",
      "Epoch 6/50\n",
      "10/10 [==============================] - 0s 2ms/step - loss: 0.0172 - mse: 0.0172 - acc: 1.0000\n",
      "Epoch 7/50\n",
      "10/10 [==============================] - 0s 2ms/step - loss: 0.0045 - mse: 0.0045 - acc: 1.0000    \n",
      "Epoch 8/50\n",
      "10/10 [==============================] - 0s 2ms/step - loss: 0.0034 - mse: 0.0034 - acc: 1.0000\n",
      "Epoch 9/50\n",
      "10/10 [==============================] - 0s 2ms/step - loss: 0.0027 - mse: 0.0027 - acc: 1.0000\n",
      "Epoch 10/50\n",
      "10/10 [==============================] - 0s 2ms/step - loss: 0.0026 - mse: 0.0026 - acc: 1.0000\n",
      "Epoch 11/50\n",
      "10/10 [==============================] - 0s 2ms/step - loss: 0.0022 - mse: 0.0022 - acc: 1.0000\n",
      "Epoch 12/50\n",
      "10/10 [==============================] - 0s 2ms/step - loss: 0.0016 - mse: 0.0016 - acc: 1.0000\n",
      "Epoch 13/50\n",
      "10/10 [==============================] - 0s 2ms/step - loss: 0.0012 - mse: 0.0012 - acc: 1.0000\n",
      "Epoch 14/50\n",
      "10/10 [==============================] - 0s 2ms/step - loss: 9.9354e-04 - mse: 9.9354e-04 - acc: 1.0000\n",
      "Epoch 15/50\n",
      "10/10 [==============================] - 0s 2ms/step - loss: 8.9346e-04 - mse: 8.9346e-04 - acc: 1.0000\n",
      "Epoch 16/50\n",
      "10/10 [==============================] - 0s 2ms/step - loss: 8.1093e-04 - mse: 8.1093e-04 - acc: 1.0000\n",
      "Epoch 17/50\n",
      "10/10 [==============================] - 0s 2ms/step - loss: 6.7541e-04 - mse: 6.7541e-04 - acc: 1.0000\n",
      "Epoch 18/50\n",
      "10/10 [==============================] - 0s 2ms/step - loss: 5.6342e-04 - mse: 5.6342e-04 - acc: 1.0000\n",
      "Epoch 19/50\n",
      "10/10 [==============================] - 0s 2ms/step - loss: 5.5211e-04 - mse: 5.5211e-04 - acc: 1.0000\n",
      "Epoch 20/50\n",
      "10/10 [==============================] - 0s 2ms/step - loss: 4.5758e-04 - mse: 4.5758e-04 - acc: 1.0000\n",
      "Epoch 21/50\n",
      "10/10 [==============================] - 0s 2ms/step - loss: 3.6069e-04 - mse: 3.6069e-04 - acc: 1.0000\n",
      "Epoch 22/50\n",
      "10/10 [==============================] - 0s 2ms/step - loss: 3.0258e-04 - mse: 3.0258e-04 - acc: 1.0000\n",
      "Epoch 23/50\n",
      "10/10 [==============================] - 0s 2ms/step - loss: 2.5489e-04 - mse: 2.5489e-04 - acc: 1.0000\n",
      "Epoch 24/50\n",
      "10/10 [==============================] - 0s 2ms/step - loss: 2.3203e-04 - mse: 2.3203e-04 - acc: 1.0000\n",
      "Epoch 25/50\n",
      "10/10 [==============================] - 0s 2ms/step - loss: 1.6878e-04 - mse: 1.6878e-04 - acc: 1.0000\n",
      "Epoch 26/50\n",
      "10/10 [==============================] - 0s 2ms/step - loss: 1.4287e-04 - mse: 1.4287e-04 - acc: 1.0000\n",
      "Epoch 27/50\n",
      "10/10 [==============================] - 0s 2ms/step - loss: 1.2073e-04 - mse: 1.2073e-04 - acc: 1.0000\n",
      "Epoch 28/50\n",
      "10/10 [==============================] - 0s 2ms/step - loss: 1.2764e-04 - mse: 1.2764e-04 - acc: 1.0000\n",
      "Epoch 29/50\n",
      "10/10 [==============================] - 0s 2ms/step - loss: 1.0156e-04 - mse: 1.0156e-04 - acc: 1.0000\n",
      "Epoch 30/50\n",
      "10/10 [==============================] - 0s 2ms/step - loss: 7.3047e-05 - mse: 7.3047e-05 - acc: 1.0000\n",
      "Epoch 31/50\n",
      "10/10 [==============================] - 0s 2ms/step - loss: 5.0212e-05 - mse: 5.0212e-05 - acc: 1.0000\n",
      "Epoch 32/50\n",
      "10/10 [==============================] - 0s 2ms/step - loss: 4.9128e-05 - mse: 4.9128e-05 - acc: 1.0000\n",
      "Epoch 33/50\n",
      "10/10 [==============================] - 0s 2ms/step - loss: 3.0042e-05 - mse: 3.0042e-05 - acc: 1.0000\n",
      "Epoch 34/50\n",
      "10/10 [==============================] - 0s 2ms/step - loss: 2.3859e-05 - mse: 2.3859e-05 - acc: 1.0000\n",
      "Epoch 35/50\n",
      "10/10 [==============================] - 0s 2ms/step - loss: 1.9744e-05 - mse: 1.9744e-05 - acc: 1.0000\n",
      "Epoch 36/50\n",
      "10/10 [==============================] - 0s 2ms/step - loss: 1.7704e-05 - mse: 1.7704e-05 - acc: 1.0000\n",
      "Epoch 37/50\n",
      "10/10 [==============================] - 0s 2ms/step - loss: 1.5339e-05 - mse: 1.5339e-05 - acc: 1.0000\n",
      "Epoch 38/50\n",
      "10/10 [==============================] - 0s 2ms/step - loss: 1.1420e-05 - mse: 1.1420e-05 - acc: 1.0000\n",
      "Epoch 39/50\n",
      "10/10 [==============================] - 0s 2ms/step - loss: 7.3303e-06 - mse: 7.3303e-06 - acc: 1.0000\n",
      "Epoch 40/50\n",
      "10/10 [==============================] - 0s 2ms/step - loss: 5.1889e-06 - mse: 5.1889e-06 - acc: 1.0000\n",
      "Epoch 41/50\n",
      "10/10 [==============================] - 0s 2ms/step - loss: 4.8551e-06 - mse: 4.8551e-06 - acc: 1.0000\n",
      "Epoch 42/50\n",
      "10/10 [==============================] - 0s 2ms/step - loss: 3.2745e-06 - mse: 3.2745e-06 - acc: 1.0000\n",
      "Epoch 43/50\n",
      "10/10 [==============================] - 0s 2ms/step - loss: 3.3449e-06 - mse: 3.3449e-06 - acc: 1.0000\n",
      "Epoch 44/50\n",
      "10/10 [==============================] - 0s 2ms/step - loss: 1.8657e-06 - mse: 1.8657e-06 - acc: 1.0000\n",
      "Epoch 45/50\n",
      "10/10 [==============================] - 0s 2ms/step - loss: 1.4883e-06 - mse: 1.4883e-06 - acc: 1.0000\n",
      "Epoch 46/50\n",
      "10/10 [==============================] - 0s 2ms/step - loss: 1.5419e-06 - mse: 1.5419e-06 - acc: 1.0000\n",
      "Epoch 47/50\n",
      "10/10 [==============================] - 0s 2ms/step - loss: 1.2838e-06 - mse: 1.2838e-06 - acc: 1.0000\n",
      "Epoch 48/50\n",
      "10/10 [==============================] - 0s 2ms/step - loss: 8.9222e-07 - mse: 8.9222e-07 - acc: 1.0000\n",
      "Epoch 49/50\n",
      "10/10 [==============================] - 0s 2ms/step - loss: 4.7268e-07 - mse: 4.7268e-07 - acc: 1.0000\n",
      "Epoch 50/50\n",
      "10/10 [==============================] - 0s 2ms/step - loss: 3.2515e-07 - mse: 3.2515e-07 - acc: 1.0000\n"
     ]
    },
    {
     "data": {
      "text/plain": [
       "<keras.callbacks.callbacks.History at 0x25de3fe1f08>"
      ]
     },
     "execution_count": 23,
     "metadata": {},
     "output_type": "execute_result"
    }
   ],
   "source": [
    "# 모델구성\n",
    "model = Sequential()\n",
    "model.add(Dense(50, input_dim=1))\n",
    "model.add(Dense(30))\n",
    "model.add(Dense(1, activation = 'relu'))\n",
    "# 훈련\n",
    "model.compile(loss='mean_squared_error', optimizer='adam',metrics=['mse','acc'])\n",
    "model.fit(x,y, epochs=50, batch_size=1)"
   ]
  },
  {
   "cell_type": "code",
   "execution_count": 24,
   "metadata": {},
   "outputs": [
    {
     "name": "stdout",
     "output_type": "stream",
     "text": [
      "10/10 [==============================] - 0s 3ms/step\n",
      "loss : 2.9970767627673923e-07\n",
      "mse : 2.9970766490805545e-07\n",
      "acc : 1.0\n"
     ]
    }
   ],
   "source": [
    "# 평가\n",
    "loss, mse, acc = model.evaluate(x, y, batch_size=1)\n",
    "print(\"loss :\", loss)\n",
    "print(\"mse :\", mse)\n",
    "print(\"acc :\", acc)"
   ]
  },
  {
   "cell_type": "markdown",
   "metadata": {},
   "source": [
    "규칙을 띄는 데이터의 경우 예쁘게 학습한다는 것을 알 수 있다.\n",
    "but, 데이터가 너무 적어서 성능이 0% ~ 100% 왔다리 갔다리 함"
   ]
  },
  {
   "cell_type": "code",
   "execution_count": 25,
   "metadata": {},
   "outputs": [],
   "source": [
    "x_test = np.array([101,102,103,104,105,106,107,108,109,110])\n",
    "y_test = np.array([101,102,103,104,105,106,107,108,109,110])"
   ]
  },
  {
   "cell_type": "code",
   "execution_count": 27,
   "metadata": {},
   "outputs": [
    {
     "name": "stdout",
     "output_type": "stream",
     "text": [
      "10/10 [==============================] - 0s 2ms/step\n",
      "loss : 0.00010598974768072367\n",
      "mse : 0.00010598974768072367\n",
      "acc : 1.0\n"
     ]
    }
   ],
   "source": [
    "loss, mse, acc = model.evaluate(x_test, y_test, batch_size=1)\n",
    "print(\"loss :\", loss)\n",
    "print(\"mse :\", mse)\n",
    "print(\"acc :\", acc)"
   ]
  },
  {
   "cell_type": "code",
   "execution_count": null,
   "metadata": {},
   "outputs": [],
   "source": [
    "범위와 완전히 벗어난 아이들을 줘도 잘 맞춘다..!"
   ]
  },
  {
   "cell_type": "code",
   "execution_count": 28,
   "metadata": {},
   "outputs": [
    {
     "name": "stdout",
     "output_type": "stream",
     "text": [
      "y_predict 값은 [[100.990204]\n",
      " [101.99009 ]\n",
      " [102.98999 ]\n",
      " [103.98987 ]\n",
      " [104.98976 ]\n",
      " [105.989655]\n",
      " [106.989555]\n",
      " [107.989426]\n",
      " [108.98933 ]\n",
      " [109.98922 ]]\n",
      "MSE 는 0.0001059938920661807\n",
      "RMSE 는 0.010295333509225464\n",
      "R2는  0.9999871522555072\n"
     ]
    }
   ],
   "source": [
    "y_predict = model.predict(x_test)\n",
    "print('y_predict 값은', y_predict)\n",
    "\n",
    "# +추가지표인 RMSE와 R2 구하기\n",
    "from sklearn.metrics import mean_squared_error\n",
    "def RMSE(y_test, y_predict) :\n",
    "    return np.sqrt(mean_squared_error(y_test, y_predict))\n",
    "\n",
    "print('MSE 는', mean_squared_error(y_test, y_predict) )\n",
    "print('RMSE 는', RMSE(y_test, y_predict) )\n",
    "\n",
    "# R2 구하기\n",
    "from sklearn.metrics import r2_score\n",
    "r2 = r2_score(y_test, y_predict)\n",
    "print('R2는 ', r2)"
   ]
  },
  {
   "cell_type": "code",
   "execution_count": null,
   "metadata": {},
   "outputs": [],
   "source": []
  }
 ],
 "metadata": {
  "kernelspec": {
   "display_name": "Python 3",
   "language": "python",
   "name": "python3"
  },
  "language_info": {
   "codemirror_mode": {
    "name": "ipython",
    "version": 3
   },
   "file_extension": ".py",
   "mimetype": "text/x-python",
   "name": "python",
   "nbconvert_exporter": "python",
   "pygments_lexer": "ipython3",
   "version": "3.7.6"
  }
 },
 "nbformat": 4,
 "nbformat_minor": 4
}
