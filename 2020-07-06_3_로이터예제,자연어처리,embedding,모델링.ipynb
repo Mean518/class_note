{
 "cells": [
  {
   "cell_type": "code",
   "execution_count": 1,
   "metadata": {},
   "outputs": [
    {
     "name": "stderr",
     "output_type": "stream",
     "text": [
      "Using TensorFlow backend.\n"
     ]
    }
   ],
   "source": [
    "from keras.datasets import reuters\n",
    "import numpy as np\n",
    "import pandas as pd\n",
    "import matplotlib.pyplot as plt"
   ]
  },
  {
   "cell_type": "code",
   "execution_count": 2,
   "metadata": {},
   "outputs": [],
   "source": [
    "(x_train, y_train), (x_test,y_test) = reuters.load_data(num_words=1000, test_split=0.2) # 가장 많이 쓰여진 단어 1000개"
   ]
  },
  {
   "cell_type": "code",
   "execution_count": 3,
   "metadata": {},
   "outputs": [
    {
     "data": {
      "text/plain": [
       "8982"
      ]
     },
     "execution_count": 3,
     "metadata": {},
     "output_type": "execute_result"
    }
   ],
   "source": [
    "len(x_train) # 뉴스 데이터 개수"
   ]
  },
  {
   "cell_type": "code",
   "execution_count": 4,
   "metadata": {
    "scrolled": true
   },
   "outputs": [
    {
     "data": {
      "text/plain": [
       "87"
      ]
     },
     "execution_count": 4,
     "metadata": {},
     "output_type": "execute_result"
    }
   ],
   "source": [
    "len(x_train[0]) # 첫번째 뉴스데이터의 길이(구의 개수)"
   ]
  },
  {
   "cell_type": "code",
   "execution_count": 5,
   "metadata": {},
   "outputs": [
    {
     "data": {
      "text/plain": [
       "56"
      ]
     },
     "execution_count": 5,
     "metadata": {},
     "output_type": "execute_result"
    }
   ],
   "source": [
    "len(x_train[1]) "
   ]
  },
  {
   "cell_type": "code",
   "execution_count": 6,
   "metadata": {
    "scrolled": true
   },
   "outputs": [
    {
     "data": {
      "text/plain": [
       "array([list([1, 2, 2, 8, 43, 10, 447, 5, 25, 207, 270, 5, 2, 111, 16, 369, 186, 90, 67, 7, 89, 5, 19, 102, 6, 19, 124, 15, 90, 67, 84, 22, 482, 26, 7, 48, 4, 49, 8, 864, 39, 209, 154, 6, 151, 6, 83, 11, 15, 22, 155, 11, 15, 7, 48, 9, 2, 2, 504, 6, 258, 6, 272, 11, 15, 22, 134, 44, 11, 15, 16, 8, 197, 2, 90, 67, 52, 29, 209, 30, 32, 132, 6, 109, 15, 17, 12]),\n",
       "       list([1, 2, 699, 2, 2, 56, 2, 2, 9, 56, 2, 2, 81, 5, 2, 57, 366, 737, 132, 20, 2, 7, 2, 49, 2, 2, 2, 2, 699, 2, 8, 7, 10, 241, 16, 855, 129, 231, 783, 5, 4, 587, 2, 2, 2, 775, 7, 48, 34, 191, 44, 35, 2, 505, 17, 12]),\n",
       "       list([1, 53, 12, 284, 15, 14, 272, 26, 53, 959, 32, 818, 15, 14, 272, 26, 39, 684, 70, 11, 14, 12, 2, 18, 180, 183, 187, 70, 11, 14, 102, 32, 11, 29, 53, 44, 704, 15, 14, 19, 758, 15, 53, 959, 47, 2, 15, 14, 19, 132, 15, 39, 965, 32, 11, 14, 147, 72, 11, 180, 183, 187, 44, 11, 14, 102, 19, 11, 123, 186, 90, 67, 960, 4, 78, 13, 68, 467, 511, 110, 59, 89, 90, 67, 2, 55, 2, 92, 617, 80, 2, 46, 905, 220, 13, 4, 346, 48, 235, 629, 5, 211, 5, 2, 7, 2, 81, 5, 187, 11, 15, 9, 2, 201, 5, 47, 2, 18, 478, 2, 5, 2, 7, 232, 2, 71, 5, 160, 63, 11, 9, 2, 81, 5, 102, 59, 11, 17, 12]),\n",
       "       ...,\n",
       "       list([1, 141, 2, 387, 81, 8, 16, 2, 10, 340, 2, 850, 31, 56, 2, 691, 9, 2, 71, 9, 2, 2, 2, 699, 2, 2, 2, 699, 244, 2, 4, 49, 8, 4, 656, 850, 33, 2, 9, 2, 340, 2, 2, 9, 2, 22, 2, 2, 687, 83, 35, 15, 257, 6, 57, 2, 7, 4, 2, 654, 5, 2, 2, 2, 4, 49, 8, 16, 369, 646, 6, 2, 7, 124, 407, 17, 12]),\n",
       "       list([1, 53, 46, 957, 26, 14, 74, 132, 26, 39, 46, 258, 2, 18, 14, 74, 134, 2, 18, 88, 2, 72, 11, 14, 2, 32, 11, 123, 383, 89, 39, 46, 235, 10, 864, 728, 5, 258, 44, 11, 15, 22, 753, 9, 42, 92, 131, 728, 5, 69, 312, 11, 15, 22, 222, 2, 2, 383, 48, 39, 74, 235, 10, 864, 276, 5, 61, 32, 11, 15, 21, 4, 211, 5, 126, 2, 42, 92, 131, 46, 19, 352, 11, 15, 22, 710, 220, 9, 42, 92, 131, 276, 5, 59, 61, 11, 15, 22, 10, 455, 7, 2, 137, 336, 2, 6, 2, 142, 971, 2, 43, 359, 5, 4, 326, 753, 364, 17, 12]),\n",
       "       list([1, 227, 2, 91, 2, 125, 2, 21, 4, 2, 76, 7, 4, 757, 481, 2, 790, 2, 2, 9, 111, 149, 8, 7, 10, 76, 223, 51, 4, 417, 8, 2, 91, 2, 2, 340, 7, 194, 2, 6, 2, 21, 127, 2, 2, 2, 6, 2, 4, 329, 433, 7, 65, 87, 2, 10, 2, 2, 290, 9, 21, 567, 16, 2, 24, 4, 76, 209, 30, 2, 2, 2, 8, 4, 60, 8, 4, 966, 308, 40, 2, 129, 2, 295, 277, 2, 9, 24, 286, 2, 234, 222, 9, 4, 906, 2, 2, 114, 2, 2, 7, 4, 113, 17, 12])],\n",
       "      dtype=object)"
      ]
     },
     "execution_count": 6,
     "metadata": {},
     "output_type": "execute_result"
    }
   ],
   "source": [
    "x_train  # texts_to_sequences 데이터로 구성되어 있음 -> 각자 길이는 다르니까 패딩작업은 필요함"
   ]
  },
  {
   "cell_type": "code",
   "execution_count": 7,
   "metadata": {},
   "outputs": [
    {
     "data": {
      "text/plain": [
       "46"
      ]
     },
     "execution_count": 7,
     "metadata": {},
     "output_type": "execute_result"
    }
   ],
   "source": [
    "category = max(y_train) + 1 \n",
    "category"
   ]
  },
  {
   "cell_type": "code",
   "execution_count": 8,
   "metadata": {
    "scrolled": true
   },
   "outputs": [
    {
     "data": {
      "text/plain": [
       "3     3159\n",
       "4     1949\n",
       "19     549\n",
       "16     444\n",
       "1      432\n",
       "11     390\n",
       "20     269\n",
       "13     172\n",
       "8      139\n",
       "10     124\n",
       "9      101\n",
       "21     100\n",
       "25      92\n",
       "2       74\n",
       "18      66\n",
       "24      62\n",
       "0       55\n",
       "34      50\n",
       "36      49\n",
       "12      49\n",
       "28      48\n",
       "6       48\n",
       "30      45\n",
       "23      41\n",
       "31      39\n",
       "17      39\n",
       "40      36\n",
       "32      32\n",
       "41      30\n",
       "14      26\n",
       "39      24\n",
       "26      24\n",
       "43      21\n",
       "15      20\n",
       "29      19\n",
       "37      19\n",
       "38      19\n",
       "45      18\n",
       "5       17\n",
       "7       16\n",
       "27      15\n",
       "22      15\n",
       "42      13\n",
       "44      12\n",
       "33      11\n",
       "35      10\n",
       "Name: 0, dtype: int64"
      ]
     },
     "execution_count": 8,
     "metadata": {},
     "output_type": "execute_result"
    }
   ],
   "source": [
    "y_train_pd = pd.DataFrame(y_train) # x인줄 알았는데 y네..!?..\n",
    "y_train_pd[0].value_counts()"
   ]
  },
  {
   "cell_type": "markdown",
   "metadata": {},
   "source": [
    "# 8982의 뉴스데이터를 46가지의 카테고리로 매칭하는 모델"
   ]
  },
  {
   "cell_type": "code",
   "execution_count": 9,
   "metadata": {},
   "outputs": [],
   "source": [
    "# 패딩시키기\n",
    "from keras.preprocessing.sequence import pad_sequences\n",
    "from keras.utils.np_utils import to_categorical"
   ]
  },
  {
   "cell_type": "code",
   "execution_count": 10,
   "metadata": {},
   "outputs": [],
   "source": [
    "x_train = pad_sequences(x_train, maxlen=100, padding='pre') # 너무 긴게 있을수도 있으니 maxlen 사용\n",
    "x_test = pad_sequences(x_test, maxlen=100, padding='pre')"
   ]
  },
  {
   "cell_type": "code",
   "execution_count": 11,
   "metadata": {},
   "outputs": [
    {
     "name": "stdout",
     "output_type": "stream",
     "text": [
      "(8982, 100)\n",
      "(2246, 100)\n"
     ]
    }
   ],
   "source": [
    "print(x_train.shape)\n",
    "print(x_test.shape)"
   ]
  },
  {
   "cell_type": "code",
   "execution_count": 12,
   "metadata": {},
   "outputs": [
    {
     "data": {
      "text/plain": [
       "3"
      ]
     },
     "execution_count": 12,
     "metadata": {},
     "output_type": "execute_result"
    }
   ],
   "source": [
    "y_train[0]"
   ]
  },
  {
   "cell_type": "code",
   "execution_count": 13,
   "metadata": {},
   "outputs": [],
   "source": [
    "y_train = to_categorical(y_train)\n",
    "y_test = to_categorical(y_test)"
   ]
  },
  {
   "cell_type": "code",
   "execution_count": 14,
   "metadata": {
    "scrolled": true
   },
   "outputs": [
    {
     "data": {
      "text/plain": [
       "(8982, 46)"
      ]
     },
     "execution_count": 14,
     "metadata": {},
     "output_type": "execute_result"
    }
   ],
   "source": [
    "y_train.shape"
   ]
  },
  {
   "cell_type": "raw",
   "metadata": {},
   "source": [
    "y_train3 = pad_sequences(y_train1)\n",
    "y_test3 = pad_sequences(y_test1)\n",
    "y에서 원핫 인코딩 대신 pad_sequences 쓸 수 없는 이유 :\n",
    "pad_sequences는 2중 list, 예를 들어 다양한 길이의 8000개 뉴스 기사데이터가 있을때 적용되는 함수임 (이러한 형태에서 사용한다는것을 기억하고 있어야 한다)\n",
    "지금 shape가 (8982,) 즉, 1차원인 y데이터에서는 1차원 -> 2차원의 0/1로 구성된 자릿값 원-핫 인코딩을 사용해줘야 한다."
   ]
  },
  {
   "cell_type": "code",
   "execution_count": 16,
   "metadata": {},
   "outputs": [
    {
     "data": {
      "text/plain": [
       "array([0., 0., 0., 1., 0., 0., 0., 0., 0., 0., 0., 0., 0., 0., 0., 0., 0.,\n",
       "       0., 0., 0., 0., 0., 0., 0., 0., 0., 0., 0., 0., 0., 0., 0., 0., 0.,\n",
       "       0., 0., 0., 0., 0., 0., 0., 0., 0., 0., 0., 0.], dtype=float32)"
      ]
     },
     "execution_count": 16,
     "metadata": {},
     "output_type": "execute_result"
    }
   ],
   "source": [
    "y_train[0] # 3임"
   ]
  },
  {
   "cell_type": "raw",
   "metadata": {},
   "source": [
    "-> 즉, 독립변수는 벡터화 시키고 (이건 임베딩이 대신 해줌)\n",
    "종속변수(분류의 경우)는 원-핫 인코딩 시켜야 한다는 말임"
   ]
  },
  {
   "cell_type": "markdown",
   "metadata": {},
   "source": [
    "# 질문) \n",
    "1) lstm,시계열 이런 키워드가 나왔는데 자연어처리랑 무슨 관련이 있는지? 막연히 최신 댓글이 더 영향력이 커서 그렇게 설명하신건가?\n",
    "아니면 input shape 필요없는거때문에 편리해서 쓰는건가?\n",
    "2) 종속변수도 임베딩으로 벡터화 시키면 안되나요..?!\n",
    "3) 로이터에서 pad_sequences 길이대로 임배딩 시키는게 제일 적합하다고 생각했는데 100이 아닌 1000으로 지정한 이유?"
   ]
  },
  {
   "cell_type": "code",
   "execution_count": 17,
   "metadata": {},
   "outputs": [],
   "source": [
    "from keras.models import Sequential\n",
    "from keras.layers import Dense, LSTM, Embedding, Flatten, Conv1D"
   ]
  },
  {
   "cell_type": "code",
   "execution_count": 18,
   "metadata": {},
   "outputs": [
    {
     "name": "stdout",
     "output_type": "stream",
     "text": [
      "Model: \"sequential_1\"\n",
      "_________________________________________________________________\n",
      "Layer (type)                 Output Shape              Param #   \n",
      "=================================================================\n",
      "embedding_1 (Embedding)      (None, None, 100)         10000     \n",
      "_________________________________________________________________\n",
      "lstm_1 (LSTM)                (None, 64)                42240     \n",
      "_________________________________________________________________\n",
      "dense_1 (Dense)              (None, 128)               8320      \n",
      "_________________________________________________________________\n",
      "dense_2 (Dense)              (None, 46)                5934      \n",
      "=================================================================\n",
      "Total params: 66,494\n",
      "Trainable params: 66,494\n",
      "Non-trainable params: 0\n",
      "_________________________________________________________________\n"
     ]
    }
   ],
   "source": [
    "model = Sequential()\n",
    "# model.add(Embedding(1000, 100, input_length=100)) \n",
    "model.add(Embedding(100, 100))\n",
    "model.add(LSTM(64))\n",
    "model.add(Dense(128))\n",
    "model.add(Dense(46, activation='softmax'))\n",
    "model.summary()"
   ]
  },
  {
   "cell_type": "raw",
   "metadata": {},
   "source": [
    "1) 임베딩 레이어 = 범주화 1000가지 & 아웃풋 노드 100\n",
    "2) lstm으로 받아서 flatten & input shape 필요없음 (그래서 주로 쓰는듯?)\n",
    "3) categorical은 46가지, softmax , categorical_crossentropy 연결"
   ]
  },
  {
   "cell_type": "markdown",
   "metadata": {},
   "source": [
    "# 학습"
   ]
  },
  {
   "cell_type": "code",
   "execution_count": 20,
   "metadata": {
    "scrolled": true
   },
   "outputs": [
    {
     "name": "stderr",
     "output_type": "stream",
     "text": [
      "C:\\Users\\bitcamp\\anaconda3\\lib\\site-packages\\tensorflow_core\\python\\framework\\indexed_slices.py:424: UserWarning: Converting sparse IndexedSlices to a dense Tensor of unknown shape. This may consume a large amount of memory.\n",
      "  \"Converting sparse IndexedSlices to a dense Tensor of unknown shape. \"\n"
     ]
    },
    {
     "name": "stdout",
     "output_type": "stream",
     "text": [
      "Train on 7185 samples, validate on 1797 samples\n",
      "Epoch 1/100\n",
      "7185/7185 [==============================] - 3s 424us/step - loss: 1.2939 - acc: 0.6686 - val_loss: 1.4237 - val_acc: 0.6422\n",
      "Epoch 2/100\n",
      "7185/7185 [==============================] - 3s 379us/step - loss: 1.2523 - acc: 0.6789 - val_loss: 1.4660 - val_acc: 0.6322\n",
      "Epoch 3/100\n",
      "7185/7185 [==============================] - 3s 379us/step - loss: 1.2428 - acc: 0.6788 - val_loss: 1.4410 - val_acc: 0.6528\n",
      "Epoch 4/100\n",
      "7185/7185 [==============================] - 3s 377us/step - loss: 1.2379 - acc: 0.6804 - val_loss: 1.4297 - val_acc: 0.6511\n",
      "Epoch 5/100\n",
      "7185/7185 [==============================] - 3s 384us/step - loss: 1.2213 - acc: 0.6859 - val_loss: 1.4276 - val_acc: 0.6528\n",
      "Epoch 6/100\n",
      "7185/7185 [==============================] - 3s 376us/step - loss: 1.2206 - acc: 0.6857 - val_loss: 1.4466 - val_acc: 0.6522\n",
      "Epoch 7/100\n",
      "7185/7185 [==============================] - 3s 375us/step - loss: 1.2258 - acc: 0.6820 - val_loss: 1.4751 - val_acc: 0.6416\n",
      "Epoch 8/100\n",
      "7185/7185 [==============================] - 3s 383us/step - loss: 1.2112 - acc: 0.6843 - val_loss: 1.4750 - val_acc: 0.6411\n",
      "Epoch 9/100\n",
      "7185/7185 [==============================] - 3s 393us/step - loss: 1.2406 - acc: 0.6814 - val_loss: 1.4699 - val_acc: 0.6439\n",
      "Epoch 10/100\n",
      "7185/7185 [==============================] - 3s 389us/step - loss: 1.2244 - acc: 0.6811 - val_loss: 1.4526 - val_acc: 0.6489\n",
      "Epoch 11/100\n",
      "7185/7185 [==============================] - 3s 370us/step - loss: 1.2021 - acc: 0.6849 - val_loss: 1.4451 - val_acc: 0.6522\n",
      "Epoch 12/100\n",
      "7185/7185 [==============================] - 3s 377us/step - loss: 1.1953 - acc: 0.6880 - val_loss: 1.4484 - val_acc: 0.6450\n",
      "Epoch 13/100\n",
      "7185/7185 [==============================] - 3s 378us/step - loss: 1.1867 - acc: 0.6907 - val_loss: 1.4478 - val_acc: 0.6516\n",
      "Epoch 14/100\n",
      "7185/7185 [==============================] - 3s 385us/step - loss: 1.1754 - acc: 0.6909 - val_loss: 1.4511 - val_acc: 0.6500\n",
      "Epoch 15/100\n",
      "7185/7185 [==============================] - 3s 375us/step - loss: 1.1707 - acc: 0.6941 - val_loss: 1.4681 - val_acc: 0.6439\n",
      "Epoch 16/100\n",
      "7185/7185 [==============================] - ETA: 0s - loss: 1.1512 - acc: 0.699 - 3s 380us/step - loss: 1.1528 - acc: 0.7002 - val_loss: 1.4502 - val_acc: 0.6505\n",
      "Epoch 17/100\n",
      "7185/7185 [==============================] - 3s 378us/step - loss: 1.1515 - acc: 0.6984 - val_loss: 1.4800 - val_acc: 0.6450\n",
      "Epoch 18/100\n",
      "7185/7185 [==============================] - 3s 379us/step - loss: 1.1552 - acc: 0.6992 - val_loss: 1.4722 - val_acc: 0.6533\n",
      "Epoch 19/100\n",
      "7185/7185 [==============================] - 3s 384us/step - loss: 1.1491 - acc: 0.7003 - val_loss: 1.4719 - val_acc: 0.6472\n",
      "Epoch 20/100\n",
      "7185/7185 [==============================] - 3s 396us/step - loss: 1.1404 - acc: 0.7015 - val_loss: 1.4753 - val_acc: 0.6388\n",
      "Epoch 21/100\n",
      "7185/7185 [==============================] - 3s 388us/step - loss: 1.1391 - acc: 0.7010 - val_loss: 1.4848 - val_acc: 0.6472\n",
      "Epoch 22/100\n",
      "7185/7185 [==============================] - 3s 382us/step - loss: 1.1380 - acc: 0.6988 - val_loss: 1.4826 - val_acc: 0.6494\n",
      "Epoch 23/100\n",
      "7185/7185 [==============================] - 3s 376us/step - loss: 1.1217 - acc: 0.7080 - val_loss: 1.4947 - val_acc: 0.6444\n",
      "Epoch 24/100\n",
      "7185/7185 [==============================] - 3s 385us/step - loss: 1.1174 - acc: 0.7084 - val_loss: 1.5044 - val_acc: 0.6427\n",
      "Epoch 25/100\n",
      "7185/7185 [==============================] - 3s 382us/step - loss: 1.1189 - acc: 0.7047 - val_loss: 1.5364 - val_acc: 0.6494\n",
      "Epoch 26/100\n",
      "7185/7185 [==============================] - 3s 383us/step - loss: 1.1202 - acc: 0.7047 - val_loss: 1.5232 - val_acc: 0.6422\n",
      "Epoch 27/100\n",
      "7185/7185 [==============================] - 3s 390us/step - loss: 1.1063 - acc: 0.7116 - val_loss: 1.5124 - val_acc: 0.6494\n",
      "Epoch 28/100\n",
      "7185/7185 [==============================] - 3s 377us/step - loss: 1.1072 - acc: 0.7076 - val_loss: 1.5360 - val_acc: 0.6427\n",
      "Epoch 29/100\n",
      "7185/7185 [==============================] - 3s 379us/step - loss: 1.1023 - acc: 0.7083 - val_loss: 1.5105 - val_acc: 0.6411\n",
      "Epoch 30/100\n",
      "7185/7185 [==============================] - 3s 372us/step - loss: 1.1003 - acc: 0.7106 - val_loss: 1.5743 - val_acc: 0.6266\n",
      "Epoch 31/100\n",
      "7185/7185 [==============================] - 3s 384us/step - loss: 1.1457 - acc: 0.6881 - val_loss: 1.5272 - val_acc: 0.6366\n",
      "Epoch 32/100\n",
      "7185/7185 [==============================] - 3s 375us/step - loss: 1.1072 - acc: 0.7040 - val_loss: 1.5156 - val_acc: 0.6388\n",
      "Epoch 33/100\n",
      "7185/7185 [==============================] - 3s 375us/step - loss: 1.0883 - acc: 0.7126 - val_loss: 1.5206 - val_acc: 0.6444\n",
      "Epoch 34/100\n",
      "7185/7185 [==============================] - 3s 375us/step - loss: 1.0715 - acc: 0.7141 - val_loss: 1.5502 - val_acc: 0.6344\n",
      "Epoch 35/100\n",
      "7185/7185 [==============================] - 3s 376us/step - loss: 1.0663 - acc: 0.7143 - val_loss: 1.5774 - val_acc: 0.6361\n",
      "Epoch 36/100\n",
      "7185/7185 [==============================] - 3s 376us/step - loss: 1.0557 - acc: 0.7189 - val_loss: 1.5511 - val_acc: 0.6416\n",
      "Epoch 37/100\n",
      "7185/7185 [==============================] - 3s 382us/step - loss: 1.0539 - acc: 0.7189 - val_loss: 1.5331 - val_acc: 0.6416\n",
      "Epoch 38/100\n",
      "7185/7185 [==============================] - 3s 381us/step - loss: 1.0310 - acc: 0.7271 - val_loss: 1.5407 - val_acc: 0.6466\n",
      "Epoch 39/100\n",
      "7185/7185 [==============================] - 3s 379us/step - loss: 1.0244 - acc: 0.7241 - val_loss: 1.5436 - val_acc: 0.6383\n",
      "Epoch 40/100\n",
      "7185/7185 [==============================] - 3s 377us/step - loss: 1.0335 - acc: 0.7280 - val_loss: 1.5486 - val_acc: 0.6411\n",
      "Epoch 41/100\n",
      "7185/7185 [==============================] - 3s 380us/step - loss: 1.0341 - acc: 0.7232 - val_loss: 1.5624 - val_acc: 0.6427\n",
      "Epoch 42/100\n",
      "7185/7185 [==============================] - 3s 384us/step - loss: 1.0292 - acc: 0.7215 - val_loss: 1.5872 - val_acc: 0.6400\n",
      "Epoch 43/100\n",
      "7185/7185 [==============================] - 3s 383us/step - loss: 1.0193 - acc: 0.7279 - val_loss: 1.5900 - val_acc: 0.6450\n",
      "Epoch 44/100\n",
      "7185/7185 [==============================] - 3s 383us/step - loss: 1.0101 - acc: 0.7276 - val_loss: 1.5854 - val_acc: 0.6427\n",
      "Epoch 45/100\n",
      "7185/7185 [==============================] - 3s 379us/step - loss: 1.0129 - acc: 0.7282 - val_loss: 1.5908 - val_acc: 0.6405\n",
      "Epoch 46/100\n",
      "7185/7185 [==============================] - 3s 389us/step - loss: 0.9915 - acc: 0.7358 - val_loss: 1.5863 - val_acc: 0.6444\n",
      "Epoch 47/100\n",
      "7185/7185 [==============================] - 3s 383us/step - loss: 0.9801 - acc: 0.7376 - val_loss: 1.5967 - val_acc: 0.6439\n",
      "Epoch 48/100\n",
      "7185/7185 [==============================] - 3s 378us/step - loss: 0.9676 - acc: 0.7400 - val_loss: 1.6173 - val_acc: 0.6450\n",
      "Epoch 49/100\n",
      "7185/7185 [==============================] - 3s 380us/step - loss: 0.9640 - acc: 0.7402 - val_loss: 1.6211 - val_acc: 0.6455\n",
      "Epoch 50/100\n",
      "7185/7185 [==============================] - 3s 376us/step - loss: 0.9486 - acc: 0.7467 - val_loss: 1.6141 - val_acc: 0.6477\n",
      "Epoch 51/100\n",
      "7185/7185 [==============================] - 3s 381us/step - loss: 0.9507 - acc: 0.7442 - val_loss: 1.6919 - val_acc: 0.6383\n",
      "Epoch 52/100\n",
      "7185/7185 [==============================] - 3s 376us/step - loss: 0.9551 - acc: 0.7427 - val_loss: 1.6375 - val_acc: 0.6361\n",
      "Epoch 53/100\n",
      "7185/7185 [==============================] - 3s 377us/step - loss: 0.9517 - acc: 0.7427 - val_loss: 1.6522 - val_acc: 0.6383\n",
      "Epoch 54/100\n",
      "7185/7185 [==============================] - 3s 386us/step - loss: 0.9229 - acc: 0.7475 - val_loss: 1.6960 - val_acc: 0.6361\n",
      "Epoch 55/100\n",
      "7185/7185 [==============================] - 3s 380us/step - loss: 0.9232 - acc: 0.7481 - val_loss: 1.6974 - val_acc: 0.6427\n",
      "Epoch 56/100\n",
      "7185/7185 [==============================] - 3s 383us/step - loss: 0.9141 - acc: 0.7499 - val_loss: 1.7205 - val_acc: 0.6344\n",
      "Epoch 57/100\n",
      "6600/7185 [==========================>...] - ETA: 0s - loss: 0.9224 - acc: 0.7514"
     ]
    },
    {
     "ename": "KeyboardInterrupt",
     "evalue": "",
     "output_type": "error",
     "traceback": [
      "\u001b[1;31m---------------------------------------------------------------------------\u001b[0m",
      "\u001b[1;31mKeyboardInterrupt\u001b[0m                         Traceback (most recent call last)",
      "\u001b[1;32m<ipython-input-20-905ab13c6f1b>\u001b[0m in \u001b[0;36m<module>\u001b[1;34m\u001b[0m\n\u001b[0;32m      1\u001b[0m \u001b[0mmodel\u001b[0m\u001b[1;33m.\u001b[0m\u001b[0mcompile\u001b[0m\u001b[1;33m(\u001b[0m\u001b[0moptimizer\u001b[0m\u001b[1;33m=\u001b[0m\u001b[1;34m'adam'\u001b[0m\u001b[1;33m,\u001b[0m \u001b[0mloss\u001b[0m\u001b[1;33m=\u001b[0m\u001b[1;34m'categorical_crossentropy'\u001b[0m\u001b[1;33m,\u001b[0m\u001b[0mmetrics\u001b[0m\u001b[1;33m=\u001b[0m\u001b[1;33m[\u001b[0m\u001b[1;34m'acc'\u001b[0m\u001b[1;33m]\u001b[0m\u001b[1;33m)\u001b[0m\u001b[1;33m\u001b[0m\u001b[1;33m\u001b[0m\u001b[0m\n\u001b[1;32m----> 2\u001b[1;33m \u001b[0mhistory\u001b[0m \u001b[1;33m=\u001b[0m \u001b[0mmodel\u001b[0m\u001b[1;33m.\u001b[0m\u001b[0mfit\u001b[0m\u001b[1;33m(\u001b[0m\u001b[0mx_train\u001b[0m\u001b[1;33m,\u001b[0m \u001b[0my_train\u001b[0m\u001b[1;33m,\u001b[0m \u001b[0mepochs\u001b[0m\u001b[1;33m=\u001b[0m\u001b[1;36m100\u001b[0m\u001b[1;33m,\u001b[0m \u001b[0mbatch_size\u001b[0m\u001b[1;33m=\u001b[0m\u001b[1;36m200\u001b[0m\u001b[1;33m,\u001b[0m \u001b[0mvalidation_split\u001b[0m\u001b[1;33m=\u001b[0m\u001b[1;36m0.2\u001b[0m\u001b[1;33m)\u001b[0m\u001b[1;33m\u001b[0m\u001b[1;33m\u001b[0m\u001b[0m\n\u001b[0m\u001b[0;32m      3\u001b[0m \u001b[0macc\u001b[0m \u001b[1;33m=\u001b[0m \u001b[0mmodel\u001b[0m\u001b[1;33m.\u001b[0m\u001b[0mevaluate\u001b[0m\u001b[1;33m(\u001b[0m\u001b[0mx_test\u001b[0m\u001b[1;33m,\u001b[0m\u001b[0my_test\u001b[0m\u001b[1;33m)\u001b[0m\u001b[1;33m[\u001b[0m\u001b[1;36m1\u001b[0m\u001b[1;33m]\u001b[0m\u001b[1;33m\u001b[0m\u001b[1;33m\u001b[0m\u001b[0m\n\u001b[0;32m      4\u001b[0m \u001b[0mprint\u001b[0m\u001b[1;33m(\u001b[0m\u001b[1;34m'acc :'\u001b[0m\u001b[1;33m,\u001b[0m\u001b[0macc\u001b[0m\u001b[1;33m)\u001b[0m\u001b[1;33m\u001b[0m\u001b[1;33m\u001b[0m\u001b[0m\n",
      "\u001b[1;32m~\\anaconda3\\lib\\site-packages\\keras\\engine\\training.py\u001b[0m in \u001b[0;36mfit\u001b[1;34m(self, x, y, batch_size, epochs, verbose, callbacks, validation_split, validation_data, shuffle, class_weight, sample_weight, initial_epoch, steps_per_epoch, validation_steps, validation_freq, max_queue_size, workers, use_multiprocessing, **kwargs)\u001b[0m\n\u001b[0;32m   1237\u001b[0m                                         \u001b[0msteps_per_epoch\u001b[0m\u001b[1;33m=\u001b[0m\u001b[0msteps_per_epoch\u001b[0m\u001b[1;33m,\u001b[0m\u001b[1;33m\u001b[0m\u001b[1;33m\u001b[0m\u001b[0m\n\u001b[0;32m   1238\u001b[0m                                         \u001b[0mvalidation_steps\u001b[0m\u001b[1;33m=\u001b[0m\u001b[0mvalidation_steps\u001b[0m\u001b[1;33m,\u001b[0m\u001b[1;33m\u001b[0m\u001b[1;33m\u001b[0m\u001b[0m\n\u001b[1;32m-> 1239\u001b[1;33m                                         validation_freq=validation_freq)\n\u001b[0m\u001b[0;32m   1240\u001b[0m \u001b[1;33m\u001b[0m\u001b[0m\n\u001b[0;32m   1241\u001b[0m     def evaluate(self,\n",
      "\u001b[1;32m~\\anaconda3\\lib\\site-packages\\keras\\engine\\training_arrays.py\u001b[0m in \u001b[0;36mfit_loop\u001b[1;34m(model, fit_function, fit_inputs, out_labels, batch_size, epochs, verbose, callbacks, val_function, val_inputs, shuffle, initial_epoch, steps_per_epoch, validation_steps, validation_freq)\u001b[0m\n\u001b[0;32m    194\u001b[0m                     \u001b[0mins_batch\u001b[0m\u001b[1;33m[\u001b[0m\u001b[0mi\u001b[0m\u001b[1;33m]\u001b[0m \u001b[1;33m=\u001b[0m \u001b[0mins_batch\u001b[0m\u001b[1;33m[\u001b[0m\u001b[0mi\u001b[0m\u001b[1;33m]\u001b[0m\u001b[1;33m.\u001b[0m\u001b[0mtoarray\u001b[0m\u001b[1;33m(\u001b[0m\u001b[1;33m)\u001b[0m\u001b[1;33m\u001b[0m\u001b[1;33m\u001b[0m\u001b[0m\n\u001b[0;32m    195\u001b[0m \u001b[1;33m\u001b[0m\u001b[0m\n\u001b[1;32m--> 196\u001b[1;33m                 \u001b[0mouts\u001b[0m \u001b[1;33m=\u001b[0m \u001b[0mfit_function\u001b[0m\u001b[1;33m(\u001b[0m\u001b[0mins_batch\u001b[0m\u001b[1;33m)\u001b[0m\u001b[1;33m\u001b[0m\u001b[1;33m\u001b[0m\u001b[0m\n\u001b[0m\u001b[0;32m    197\u001b[0m                 \u001b[0mouts\u001b[0m \u001b[1;33m=\u001b[0m \u001b[0mto_list\u001b[0m\u001b[1;33m(\u001b[0m\u001b[0mouts\u001b[0m\u001b[1;33m)\u001b[0m\u001b[1;33m\u001b[0m\u001b[1;33m\u001b[0m\u001b[0m\n\u001b[0;32m    198\u001b[0m                 \u001b[1;32mfor\u001b[0m \u001b[0ml\u001b[0m\u001b[1;33m,\u001b[0m \u001b[0mo\u001b[0m \u001b[1;32min\u001b[0m \u001b[0mzip\u001b[0m\u001b[1;33m(\u001b[0m\u001b[0mout_labels\u001b[0m\u001b[1;33m,\u001b[0m \u001b[0mouts\u001b[0m\u001b[1;33m)\u001b[0m\u001b[1;33m:\u001b[0m\u001b[1;33m\u001b[0m\u001b[1;33m\u001b[0m\u001b[0m\n",
      "\u001b[1;32m~\\anaconda3\\lib\\site-packages\\tensorflow_core\\python\\keras\\backend.py\u001b[0m in \u001b[0;36m__call__\u001b[1;34m(self, inputs)\u001b[0m\n\u001b[0;32m   3738\u001b[0m         \u001b[0mvalue\u001b[0m \u001b[1;33m=\u001b[0m \u001b[0mmath_ops\u001b[0m\u001b[1;33m.\u001b[0m\u001b[0mcast\u001b[0m\u001b[1;33m(\u001b[0m\u001b[0mvalue\u001b[0m\u001b[1;33m,\u001b[0m \u001b[0mtensor\u001b[0m\u001b[1;33m.\u001b[0m\u001b[0mdtype\u001b[0m\u001b[1;33m)\u001b[0m\u001b[1;33m\u001b[0m\u001b[1;33m\u001b[0m\u001b[0m\n\u001b[0;32m   3739\u001b[0m       \u001b[0mconverted_inputs\u001b[0m\u001b[1;33m.\u001b[0m\u001b[0mappend\u001b[0m\u001b[1;33m(\u001b[0m\u001b[0mvalue\u001b[0m\u001b[1;33m)\u001b[0m\u001b[1;33m\u001b[0m\u001b[1;33m\u001b[0m\u001b[0m\n\u001b[1;32m-> 3740\u001b[1;33m     \u001b[0moutputs\u001b[0m \u001b[1;33m=\u001b[0m \u001b[0mself\u001b[0m\u001b[1;33m.\u001b[0m\u001b[0m_graph_fn\u001b[0m\u001b[1;33m(\u001b[0m\u001b[1;33m*\u001b[0m\u001b[0mconverted_inputs\u001b[0m\u001b[1;33m)\u001b[0m\u001b[1;33m\u001b[0m\u001b[1;33m\u001b[0m\u001b[0m\n\u001b[0m\u001b[0;32m   3741\u001b[0m \u001b[1;33m\u001b[0m\u001b[0m\n\u001b[0;32m   3742\u001b[0m     \u001b[1;31m# EagerTensor.numpy() will often make a copy to ensure memory safety.\u001b[0m\u001b[1;33m\u001b[0m\u001b[1;33m\u001b[0m\u001b[1;33m\u001b[0m\u001b[0m\n",
      "\u001b[1;32m~\\anaconda3\\lib\\site-packages\\tensorflow_core\\python\\eager\\function.py\u001b[0m in \u001b[0;36m__call__\u001b[1;34m(self, *args, **kwargs)\u001b[0m\n\u001b[0;32m   1079\u001b[0m       \u001b[0mTypeError\u001b[0m\u001b[1;33m:\u001b[0m \u001b[0mFor\u001b[0m \u001b[0minvalid\u001b[0m \u001b[0mpositional\u001b[0m\u001b[1;33m/\u001b[0m\u001b[0mkeyword\u001b[0m \u001b[0margument\u001b[0m \u001b[0mcombinations\u001b[0m\u001b[1;33m.\u001b[0m\u001b[1;33m\u001b[0m\u001b[1;33m\u001b[0m\u001b[0m\n\u001b[0;32m   1080\u001b[0m     \"\"\"\n\u001b[1;32m-> 1081\u001b[1;33m     \u001b[1;32mreturn\u001b[0m \u001b[0mself\u001b[0m\u001b[1;33m.\u001b[0m\u001b[0m_call_impl\u001b[0m\u001b[1;33m(\u001b[0m\u001b[0margs\u001b[0m\u001b[1;33m,\u001b[0m \u001b[0mkwargs\u001b[0m\u001b[1;33m)\u001b[0m\u001b[1;33m\u001b[0m\u001b[1;33m\u001b[0m\u001b[0m\n\u001b[0m\u001b[0;32m   1082\u001b[0m \u001b[1;33m\u001b[0m\u001b[0m\n\u001b[0;32m   1083\u001b[0m   \u001b[1;32mdef\u001b[0m \u001b[0m_call_impl\u001b[0m\u001b[1;33m(\u001b[0m\u001b[0mself\u001b[0m\u001b[1;33m,\u001b[0m \u001b[0margs\u001b[0m\u001b[1;33m,\u001b[0m \u001b[0mkwargs\u001b[0m\u001b[1;33m,\u001b[0m \u001b[0mcancellation_manager\u001b[0m\u001b[1;33m=\u001b[0m\u001b[1;32mNone\u001b[0m\u001b[1;33m)\u001b[0m\u001b[1;33m:\u001b[0m\u001b[1;33m\u001b[0m\u001b[1;33m\u001b[0m\u001b[0m\n",
      "\u001b[1;32m~\\anaconda3\\lib\\site-packages\\tensorflow_core\\python\\eager\\function.py\u001b[0m in \u001b[0;36m_call_impl\u001b[1;34m(self, args, kwargs, cancellation_manager)\u001b[0m\n\u001b[0;32m   1119\u001b[0m       raise TypeError(\"Keyword arguments {} unknown. Expected {}.\".format(\n\u001b[0;32m   1120\u001b[0m           list(kwargs.keys()), list(self._arg_keywords)))\n\u001b[1;32m-> 1121\u001b[1;33m     \u001b[1;32mreturn\u001b[0m \u001b[0mself\u001b[0m\u001b[1;33m.\u001b[0m\u001b[0m_call_flat\u001b[0m\u001b[1;33m(\u001b[0m\u001b[0margs\u001b[0m\u001b[1;33m,\u001b[0m \u001b[0mself\u001b[0m\u001b[1;33m.\u001b[0m\u001b[0mcaptured_inputs\u001b[0m\u001b[1;33m,\u001b[0m \u001b[0mcancellation_manager\u001b[0m\u001b[1;33m)\u001b[0m\u001b[1;33m\u001b[0m\u001b[1;33m\u001b[0m\u001b[0m\n\u001b[0m\u001b[0;32m   1122\u001b[0m \u001b[1;33m\u001b[0m\u001b[0m\n\u001b[0;32m   1123\u001b[0m   \u001b[1;32mdef\u001b[0m \u001b[0m_filtered_call\u001b[0m\u001b[1;33m(\u001b[0m\u001b[0mself\u001b[0m\u001b[1;33m,\u001b[0m \u001b[0margs\u001b[0m\u001b[1;33m,\u001b[0m \u001b[0mkwargs\u001b[0m\u001b[1;33m)\u001b[0m\u001b[1;33m:\u001b[0m\u001b[1;33m\u001b[0m\u001b[1;33m\u001b[0m\u001b[0m\n",
      "\u001b[1;32m~\\anaconda3\\lib\\site-packages\\tensorflow_core\\python\\eager\\function.py\u001b[0m in \u001b[0;36m_call_flat\u001b[1;34m(self, args, captured_inputs, cancellation_manager)\u001b[0m\n\u001b[0;32m   1222\u001b[0m     \u001b[1;32mif\u001b[0m \u001b[0mexecuting_eagerly\u001b[0m\u001b[1;33m:\u001b[0m\u001b[1;33m\u001b[0m\u001b[1;33m\u001b[0m\u001b[0m\n\u001b[0;32m   1223\u001b[0m       flat_outputs = forward_function.call(\n\u001b[1;32m-> 1224\u001b[1;33m           ctx, args, cancellation_manager=cancellation_manager)\n\u001b[0m\u001b[0;32m   1225\u001b[0m     \u001b[1;32melse\u001b[0m\u001b[1;33m:\u001b[0m\u001b[1;33m\u001b[0m\u001b[1;33m\u001b[0m\u001b[0m\n\u001b[0;32m   1226\u001b[0m       \u001b[0mgradient_name\u001b[0m \u001b[1;33m=\u001b[0m \u001b[0mself\u001b[0m\u001b[1;33m.\u001b[0m\u001b[0m_delayed_rewrite_functions\u001b[0m\u001b[1;33m.\u001b[0m\u001b[0mregister\u001b[0m\u001b[1;33m(\u001b[0m\u001b[1;33m)\u001b[0m\u001b[1;33m\u001b[0m\u001b[1;33m\u001b[0m\u001b[0m\n",
      "\u001b[1;32m~\\anaconda3\\lib\\site-packages\\tensorflow_core\\python\\eager\\function.py\u001b[0m in \u001b[0;36mcall\u001b[1;34m(self, ctx, args, cancellation_manager)\u001b[0m\n\u001b[0;32m    509\u001b[0m               \u001b[0minputs\u001b[0m\u001b[1;33m=\u001b[0m\u001b[0margs\u001b[0m\u001b[1;33m,\u001b[0m\u001b[1;33m\u001b[0m\u001b[1;33m\u001b[0m\u001b[0m\n\u001b[0;32m    510\u001b[0m               \u001b[0mattrs\u001b[0m\u001b[1;33m=\u001b[0m\u001b[1;33m(\u001b[0m\u001b[1;34m\"executor_type\"\u001b[0m\u001b[1;33m,\u001b[0m \u001b[0mexecutor_type\u001b[0m\u001b[1;33m,\u001b[0m \u001b[1;34m\"config_proto\"\u001b[0m\u001b[1;33m,\u001b[0m \u001b[0mconfig\u001b[0m\u001b[1;33m)\u001b[0m\u001b[1;33m,\u001b[0m\u001b[1;33m\u001b[0m\u001b[1;33m\u001b[0m\u001b[0m\n\u001b[1;32m--> 511\u001b[1;33m               ctx=ctx)\n\u001b[0m\u001b[0;32m    512\u001b[0m         \u001b[1;32melse\u001b[0m\u001b[1;33m:\u001b[0m\u001b[1;33m\u001b[0m\u001b[1;33m\u001b[0m\u001b[0m\n\u001b[0;32m    513\u001b[0m           outputs = execute.execute_with_cancellation(\n",
      "\u001b[1;32m~\\anaconda3\\lib\\site-packages\\tensorflow_core\\python\\eager\\execute.py\u001b[0m in \u001b[0;36mquick_execute\u001b[1;34m(op_name, num_outputs, inputs, attrs, ctx, name)\u001b[0m\n\u001b[0;32m     59\u001b[0m     tensors = pywrap_tensorflow.TFE_Py_Execute(ctx._handle, device_name,\n\u001b[0;32m     60\u001b[0m                                                \u001b[0mop_name\u001b[0m\u001b[1;33m,\u001b[0m \u001b[0minputs\u001b[0m\u001b[1;33m,\u001b[0m \u001b[0mattrs\u001b[0m\u001b[1;33m,\u001b[0m\u001b[1;33m\u001b[0m\u001b[1;33m\u001b[0m\u001b[0m\n\u001b[1;32m---> 61\u001b[1;33m                                                num_outputs)\n\u001b[0m\u001b[0;32m     62\u001b[0m   \u001b[1;32mexcept\u001b[0m \u001b[0mcore\u001b[0m\u001b[1;33m.\u001b[0m\u001b[0m_NotOkStatusException\u001b[0m \u001b[1;32mas\u001b[0m \u001b[0me\u001b[0m\u001b[1;33m:\u001b[0m\u001b[1;33m\u001b[0m\u001b[1;33m\u001b[0m\u001b[0m\n\u001b[0;32m     63\u001b[0m     \u001b[1;32mif\u001b[0m \u001b[0mname\u001b[0m \u001b[1;32mis\u001b[0m \u001b[1;32mnot\u001b[0m \u001b[1;32mNone\u001b[0m\u001b[1;33m:\u001b[0m\u001b[1;33m\u001b[0m\u001b[1;33m\u001b[0m\u001b[0m\n",
      "\u001b[1;31mKeyboardInterrupt\u001b[0m: "
     ]
    }
   ],
   "source": [
    "model.compile(optimizer='adam', loss='categorical_crossentropy',metrics=['acc'])\n",
    "history = model.fit(x_train, y_train, epochs=100, batch_size=200, validation_split=0.2)\n",
    "acc = model.evaluate(x_test,y_test)[1]\n",
    "print('acc :',acc)"
   ]
  },
  {
   "cell_type": "markdown",
   "metadata": {},
   "source": [
    "## 그래프로 학습곡선 확인"
   ]
  },
  {
   "cell_type": "code",
   "execution_count": 22,
   "metadata": {},
   "outputs": [
    {
     "data": {
      "image/png": "[encoded data removed]",
      "text/plain": [
       "<Figure size 432x288 with 1 Axes>"
      ]
     },
     "metadata": {
      "needs_background": "light"
     },
     "output_type": "display_data"
    }
   ],
   "source": [
    "y_val_loss = history.history['val_loss']\n",
    "y_loss = history.history['loss']\n",
    "\n",
    "plt.plot(y_val_loss, marker='.', c='red', label='Test Loss')\n",
    "plt.plot(y_loss, marker='.', c='black', label='Train Loss')\n",
    "plt.legend(loc='upper right')\n",
    "plt.grid();plt.xlabel('epoch');plt.ylabel('loss');plt.show()"
   ]
  },
  {
   "cell_type": "code",
   "execution_count": null,
   "metadata": {},
   "outputs": [],
   "source": []
  }
 ],
 "metadata": {
  "kernelspec": {
   "display_name": "Python 3",
   "language": "python",
   "name": "python3"
  },
  "language_info": {
   "codemirror_mode": {
    "name": "ipython",
    "version": 3
   },
   "file_extension": ".py",
   "mimetype": "text/x-python",
   "name": "python",
   "nbconvert_exporter": "python",
   "pygments_lexer": "ipython3",
   "version": "3.7.6"
  }
 },
 "nbformat": 4,
 "nbformat_minor": 4
}
