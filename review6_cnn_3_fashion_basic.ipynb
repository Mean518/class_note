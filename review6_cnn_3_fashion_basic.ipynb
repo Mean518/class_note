{
 "cells": [
  {
   "cell_type": "code",
   "execution_count": 1,
   "metadata": {},
   "outputs": [
    {
     "name": "stderr",
     "output_type": "stream",
     "text": [
      "Using TensorFlow backend.\n"
     ]
    },
    {
     "name": "stdout",
     "output_type": "stream",
     "text": [
      "(60000, 28, 28)\n",
      "(10000, 28, 28)\n",
      "(60000,)\n",
      "(10000,)\n"
     ]
    }
   ],
   "source": [
    "import numpy as np\n",
    "import matplotlib.pyplot as plt\n",
    "from keras.datasets import mnist\n",
    "\n",
    "(x_train, y_train), (x_test, y_test) = mnist.load_data()\n",
    "\n",
    "print(x_train.shape)\n",
    "print(x_test.shape)\n",
    "print(y_train.shape)\n",
    "print(y_test.shape)"
   ]
  },
  {
   "cell_type": "code",
   "execution_count": 2,
   "metadata": {},
   "outputs": [
    {
     "name": "stdout",
     "output_type": "stream",
     "text": [
      "7\n"
     ]
    },
    {
     "data": {
      "text/plain": [
       "<matplotlib.image.AxesImage at 0x2cade365748>"
      ]
     },
     "execution_count": 2,
     "metadata": {},
     "output_type": "execute_result"
    },
    {
     "data": {
      "image/png": "[encoded data removed]",
      "text/plain": [
       "<Figure size 432x288 with 1 Axes>"
      ]
     },
     "metadata": {
      "needs_background": "light"
     },
     "output_type": "display_data"
    }
   ],
   "source": [
    "print(y_test[0])\n",
    "plt.imshow(x_test[0])"
   ]
  },
  {
   "cell_type": "code",
   "execution_count": 3,
   "metadata": {},
   "outputs": [
    {
     "name": "stdout",
     "output_type": "stream",
     "text": [
      "(60000, 10)\n"
     ]
    }
   ],
   "source": [
    "from keras.utils import np_utils\n",
    "y_train = np_utils.to_categorical(y_train)\n",
    "y_test = np_utils.to_categorical(y_test)\n",
    "print(y_train.shape)"
   ]
  },
  {
   "cell_type": "code",
   "execution_count": 4,
   "metadata": {},
   "outputs": [],
   "source": [
    "x_train = (x_train/255).reshape(60000, 28, 28, 1)\n",
    "x_test = (x_test/255).reshape(10000, 28, 28, 1)"
   ]
  },
  {
   "cell_type": "code",
   "execution_count": 5,
   "metadata": {},
   "outputs": [
    {
     "name": "stdout",
     "output_type": "stream",
     "text": [
      "Model: \"sequential_1\"\n",
      "_________________________________________________________________\n",
      "Layer (type)                 Output Shape              Param #   \n",
      "=================================================================\n",
      "conv2d_1 (Conv2D)            (None, 28, 28, 5)         25        \n",
      "_________________________________________________________________\n",
      "conv2d_2 (Conv2D)            (None, 28, 28, 32)        1472      \n",
      "_________________________________________________________________\n",
      "conv2d_3 (Conv2D)            (None, 28, 28, 64)        8256      \n",
      "_________________________________________________________________\n",
      "conv2d_4 (Conv2D)            (None, 28, 28, 5)         1285      \n",
      "_________________________________________________________________\n",
      "flatten_1 (Flatten)          (None, 3920)              0         \n",
      "_________________________________________________________________\n",
      "dense_1 (Dense)              (None, 10)                39210     \n",
      "=================================================================\n",
      "Total params: 50,248\n",
      "Trainable params: 50,248\n",
      "Non-trainable params: 0\n",
      "_________________________________________________________________\n"
     ]
    }
   ],
   "source": [
    "from keras.models import Sequential\n",
    "from keras.layers import Dense, Conv2D, MaxPooling2D, Flatten\n",
    "\n",
    "model = Sequential()\n",
    "model.add(Conv2D(5, (2,2), input_shape=(28,28,1), padding='same')) \n",
    "model.add(Conv2D(32, (3,3), padding='same')) \n",
    "model.add(Conv2D(64, (2,2), padding='same')) \n",
    "# model.add(Conv2D(16, (2,2), padding='same'))\n",
    "model.add(Conv2D(5, (2,2), padding='same')) \n",
    "# model.add(Conv2D(5, (2,2), strides=2))  # (3,3,5) 6/2=3\n",
    "# model.add(Conv2D(5, (2,2), strides=2, padding='same'))  # (3,3,5) 6/2=3\n",
    "# model.add(MaxPooling2D(pool_size=2)) # (None, 3, 3, 5)\n",
    "# 4차원을 2차원으로 쫙 펴준다\n",
    "model.add(Flatten())\n",
    "model.add(Dense(10, activation='softmax'))\n",
    "model.summary()"
   ]
  },
  {
   "cell_type": "code",
   "execution_count": 7,
   "metadata": {
    "scrolled": true
   },
   "outputs": [
    {
     "name": "stdout",
     "output_type": "stream",
     "text": [
      "Train on 48000 samples, validate on 12000 samples\n",
      "Epoch 1/50\n",
      "48000/48000 [==============================] - 4s 82us/step - loss: 0.5147 - acc: 0.8500 - val_loss: 0.3062 - val_acc: 0.9109\n",
      "Epoch 2/50\n",
      "48000/48000 [==============================] - 2s 44us/step - loss: 0.3063 - acc: 0.9122 - val_loss: 0.2888 - val_acc: 0.9178\n",
      "Epoch 3/50\n",
      "48000/48000 [==============================] - 2s 45us/step - loss: 0.2919 - acc: 0.9171 - val_loss: 0.2755 - val_acc: 0.9256\n",
      "Epoch 4/50\n",
      "48000/48000 [==============================] - 2s 45us/step - loss: 0.2858 - acc: 0.9184 - val_loss: 0.2689 - val_acc: 0.9239\n",
      "Epoch 5/50\n",
      "48000/48000 [==============================] - 2s 45us/step - loss: 0.2793 - acc: 0.9218 - val_loss: 0.2749 - val_acc: 0.9238\n",
      "Epoch 6/50\n",
      "48000/48000 [==============================] - 2s 45us/step - loss: 0.2758 - acc: 0.9231 - val_loss: 0.2722 - val_acc: 0.9240\n",
      "Epoch 7/50\n",
      "48000/48000 [==============================] - 2s 45us/step - loss: 0.2735 - acc: 0.9230 - val_loss: 0.2683 - val_acc: 0.9254\n",
      "Epoch 8/50\n",
      "48000/48000 [==============================] - 2s 45us/step - loss: 0.2686 - acc: 0.9245 - val_loss: 0.2684 - val_acc: 0.9281\n",
      "Epoch 9/50\n",
      "48000/48000 [==============================] - 2s 45us/step - loss: 0.2656 - acc: 0.9260 - val_loss: 0.2720 - val_acc: 0.9253\n",
      "Epoch 10/50\n",
      "48000/48000 [==============================] - 2s 45us/step - loss: 0.2621 - acc: 0.9273 - val_loss: 0.2765 - val_acc: 0.9240\n",
      "Epoch 11/50\n",
      "48000/48000 [==============================] - 2s 45us/step - loss: 0.2570 - acc: 0.9286 - val_loss: 0.2690 - val_acc: 0.92770s - loss: 0.2547 - acc:\n",
      "Epoch 12/50\n",
      "48000/48000 [==============================] - 2s 45us/step - loss: 0.2543 - acc: 0.9288 - val_loss: 0.2724 - val_acc: 0.9270\n",
      "Epoch 13/50\n",
      "48000/48000 [==============================] - 2s 45us/step - loss: 0.2517 - acc: 0.9283 - val_loss: 0.2840 - val_acc: 0.9233\n",
      "Epoch 14/50\n",
      "48000/48000 [==============================] - 2s 45us/step - loss: 0.2484 - acc: 0.9302 - val_loss: 0.2801 - val_acc: 0.9243\n",
      "Epoch 15/50\n",
      "48000/48000 [==============================] - 2s 45us/step - loss: 0.2483 - acc: 0.9302 - val_loss: 0.2789 - val_acc: 0.9234\n",
      "Epoch 16/50\n",
      "48000/48000 [==============================] - 2s 45us/step - loss: 0.2425 - acc: 0.9313 - val_loss: 0.2855 - val_acc: 0.9217\n",
      "Epoch 17/50\n",
      "48000/48000 [==============================] - 2s 45us/step - loss: 0.2424 - acc: 0.9321 - val_loss: 0.2816 - val_acc: 0.9251\n",
      "Epoch 18/50\n",
      "48000/48000 [==============================] - 2s 46us/step - loss: 0.2400 - acc: 0.9323 - val_loss: 0.2816 - val_acc: 0.9250\n",
      "Epoch 19/50\n",
      "48000/48000 [==============================] - 2s 46us/step - loss: 0.2397 - acc: 0.9317 - val_loss: 0.2891 - val_acc: 0.9209\n",
      "Epoch 20/50\n",
      "48000/48000 [==============================] - 2s 46us/step - loss: 0.2382 - acc: 0.9324 - val_loss: 0.2940 - val_acc: 0.9200\n",
      "Epoch 21/50\n",
      "48000/48000 [==============================] - 2s 45us/step - loss: 0.2387 - acc: 0.9328 - val_loss: 0.2861 - val_acc: 0.9236\n",
      "Epoch 22/50\n",
      "48000/48000 [==============================] - 2s 45us/step - loss: 0.2358 - acc: 0.9323 - val_loss: 0.2882 - val_acc: 0.9231\n",
      "Epoch 23/50\n",
      "48000/48000 [==============================] - 2s 45us/step - loss: 0.2344 - acc: 0.9345 - val_loss: 0.2921 - val_acc: 0.9210\n",
      "Epoch 24/50\n",
      "48000/48000 [==============================] - 2s 45us/step - loss: 0.2342 - acc: 0.9341 - val_loss: 0.2848 - val_acc: 0.9240\n",
      "Epoch 25/50\n",
      "48000/48000 [==============================] - 2s 45us/step - loss: 0.2353 - acc: 0.9333 - val_loss: 0.2939 - val_acc: 0.9227\n",
      "Epoch 26/50\n",
      "48000/48000 [==============================] - 2s 45us/step - loss: 0.2323 - acc: 0.9348 - val_loss: 0.2906 - val_acc: 0.9241\n",
      "Epoch 27/50\n",
      "48000/48000 [==============================] - 2s 46us/step - loss: 0.2323 - acc: 0.9338 - val_loss: 0.2875 - val_acc: 0.9224\n",
      "Epoch 28/50\n",
      "48000/48000 [==============================] - 2s 45us/step - loss: 0.2313 - acc: 0.9340 - val_loss: 0.2940 - val_acc: 0.9217\n",
      "Epoch 29/50\n",
      "48000/48000 [==============================] - 2s 45us/step - loss: 0.2302 - acc: 0.9349 - val_loss: 0.2917 - val_acc: 0.9222\n",
      "Epoch 30/50\n",
      "48000/48000 [==============================] - 2s 46us/step - loss: 0.2301 - acc: 0.9349 - val_loss: 0.2905 - val_acc: 0.9214\n",
      "Epoch 31/50\n",
      "48000/48000 [==============================] - 2s 45us/step - loss: 0.2288 - acc: 0.9349 - val_loss: 0.2896 - val_acc: 0.9252\n",
      "Epoch 32/50\n",
      "48000/48000 [==============================] - 2s 46us/step - loss: 0.2302 - acc: 0.9349 - val_loss: 0.2943 - val_acc: 0.9225\n",
      "Epoch 33/50\n",
      "48000/48000 [==============================] - 2s 45us/step - loss: 0.2290 - acc: 0.9350 - val_loss: 0.2919 - val_acc: 0.9233\n",
      "Epoch 34/50\n",
      "48000/48000 [==============================] - 2s 45us/step - loss: 0.2268 - acc: 0.9347 - val_loss: 0.2935 - val_acc: 0.9224\n",
      "Epoch 35/50\n",
      "48000/48000 [==============================] - 2s 46us/step - loss: 0.2282 - acc: 0.9344 - val_loss: 0.2984 - val_acc: 0.9187\n",
      "Epoch 36/50\n",
      "48000/48000 [==============================] - 2s 45us/step - loss: 0.2277 - acc: 0.9349 - val_loss: 0.2985 - val_acc: 0.9232\n",
      "Epoch 37/50\n",
      "48000/48000 [==============================] - 2s 45us/step - loss: 0.2265 - acc: 0.9353 - val_loss: 0.2986 - val_acc: 0.9199\n",
      "Epoch 38/50\n",
      "48000/48000 [==============================] - 2s 45us/step - loss: 0.2249 - acc: 0.9365 - val_loss: 0.2969 - val_acc: 0.9211\n",
      "Epoch 39/50\n",
      "48000/48000 [==============================] - 2s 45us/step - loss: 0.2265 - acc: 0.9355 - val_loss: 0.2909 - val_acc: 0.9225\n",
      "Epoch 40/50\n",
      "48000/48000 [==============================] - 2s 45us/step - loss: 0.2284 - acc: 0.9355 - val_loss: 0.2933 - val_acc: 0.9244\n",
      "Epoch 41/50\n",
      "48000/48000 [==============================] - 2s 46us/step - loss: 0.2261 - acc: 0.9354 - val_loss: 0.2940 - val_acc: 0.9237\n",
      "Epoch 42/50\n",
      "48000/48000 [==============================] - 2s 45us/step - loss: 0.2267 - acc: 0.9360 - val_loss: 0.3068 - val_acc: 0.9192\n",
      "Epoch 43/50\n",
      "48000/48000 [==============================] - 2s 45us/step - loss: 0.2255 - acc: 0.9357 - val_loss: 0.2944 - val_acc: 0.9256\n",
      "Epoch 44/50\n",
      "48000/48000 [==============================] - 2s 45us/step - loss: 0.2242 - acc: 0.9363 - val_loss: 0.2952 - val_acc: 0.9226 - acc: 0.\n",
      "Epoch 45/50\n",
      "48000/48000 [==============================] - 2s 46us/step - loss: 0.2237 - acc: 0.9364 - val_loss: 0.2934 - val_acc: 0.9213\n",
      "Epoch 46/50\n",
      "48000/48000 [==============================] - 2s 45us/step - loss: 0.2238 - acc: 0.9367 - val_loss: 0.2938 - val_acc: 0.9243\n",
      "Epoch 47/50\n",
      "48000/48000 [==============================] - 2s 45us/step - loss: 0.2234 - acc: 0.9358 - val_loss: 0.3007 - val_acc: 0.9193\n",
      "Epoch 48/50\n",
      "48000/48000 [==============================] - 2s 45us/step - loss: 0.2247 - acc: 0.9364 - val_loss: 0.2969 - val_acc: 0.9212\n",
      "Epoch 49/50\n",
      "48000/48000 [==============================] - 2s 45us/step - loss: 0.2237 - acc: 0.9362 - val_loss: 0.2995 - val_acc: 0.9214\n",
      "Epoch 50/50\n",
      "48000/48000 [==============================] - 2s 45us/step - loss: 0.2223 - acc: 0.9365 - val_loss: 0.2944 - val_acc: 0.9229\n"
     ]
    }
   ],
   "source": [
    "model.compile(loss='categorical_crossentropy', optimizer='adam', metrics=['acc'])  \n",
    "hist = model.fit(x_train,y_train, epochs=50, validation_split=0.2, batch_size=500)\n",
    "# 과적합이 전혀 없다... ㄷㄷ"
   ]
  },
  {
   "cell_type": "code",
   "execution_count": 8,
   "metadata": {},
   "outputs": [
    {
     "data": {
      "image/png": "[encoded data removed]",
      "text/plain": [
       "<Figure size 720x720 with 2 Axes>"
      ]
     },
     "metadata": {
      "needs_background": "light"
     },
     "output_type": "display_data"
    }
   ],
   "source": [
    "import matplotlib.pyplot as plt\n",
    "plt.figure(figsize=(10,10))\n",
    "plt.subplot(2,1,1) # 2행 1열 에 첫번째꺼 그리겠다\n",
    "plt.plot(hist.history['loss'], marker='.', c='gray', label='loss')\n",
    "plt.plot(hist.history['val_loss'], marker='.', c='red', label='val_loss')\n",
    "plt.grid()\n",
    "plt.xlabel('epoch', size=15)\n",
    "plt.ylabel('loss', size=16)\n",
    "plt.legend(loc='upper left')\n",
    "\n",
    "plt.subplot(2,1,2) # 2행 1열 에 두번째꺼 그리겠다\n",
    "plt.plot(hist.history['acc'], marker='.', c='gray', label='acc')  \n",
    "plt.plot(hist.history['val_acc'], marker='.', c='red', label='val_acc')\n",
    "plt.grid()\n",
    "plt.xlabel('epoch', size=15)\n",
    "plt.ylabel('acc', size=16)\n",
    "plt.legend(loc='upper left')\n",
    "plt.show()"
   ]
  },
  {
   "cell_type": "code",
   "execution_count": 9,
   "metadata": {},
   "outputs": [
    {
     "name": "stdout",
     "output_type": "stream",
     "text": [
      "10000/10000 [==============================] - 1s 76us/step\n",
      "loss 는 0.2984686483338475\n",
      "acc 는 0.9236000180244446\n"
     ]
    }
   ],
   "source": [
    "loss, acc = model.evaluate(x_test,y_test) \n",
    "print('loss 는',loss)\n",
    "print('acc 는',acc)"
   ]
  },
  {
   "cell_type": "code",
   "execution_count": 10,
   "metadata": {},
   "outputs": [
    {
     "data": {
      "text/plain": [
       "array([7, 2, 1, ..., 4, 5, 6], dtype=int64)"
      ]
     },
     "execution_count": 10,
     "metadata": {},
     "output_type": "execute_result"
    }
   ],
   "source": [
    "predict = model.predict(x_test)\n",
    "# print(predict)\n",
    "np.argmax(predict, axis = 1)"
   ]
  },
  {
   "cell_type": "code",
   "execution_count": 11,
   "metadata": {},
   "outputs": [
    {
     "data": {
      "text/plain": [
       "array([7, 2, 1, ..., 4, 5, 6], dtype=int64)"
      ]
     },
     "execution_count": 11,
     "metadata": {},
     "output_type": "execute_result"
    }
   ],
   "source": [
    "np.argmax(y_test, axis = 1)"
   ]
  }
 ],
 "metadata": {
  "kernelspec": {
   "display_name": "Python 3",
   "language": "python",
   "name": "python3"
  },
  "language_info": {
   "codemirror_mode": {
    "name": "ipython",
    "version": 3
   },
   "file_extension": ".py",
   "mimetype": "text/x-python",
   "name": "python",
   "nbconvert_exporter": "python",
   "pygments_lexer": "ipython3",
   "version": "3.7.6"
  }
 },
 "nbformat": 4,
 "nbformat_minor": 4
}
