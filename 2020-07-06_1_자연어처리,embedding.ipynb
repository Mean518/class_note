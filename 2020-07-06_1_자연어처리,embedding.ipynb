{
 "cells": [
  {
   "cell_type": "code",
   "execution_count": 2,
   "metadata": {},
   "outputs": [],
   "source": [
    "from keras.preprocessing.text import Tokenizer"
   ]
  },
  {
   "cell_type": "code",
   "execution_count": 3,
   "metadata": {},
   "outputs": [],
   "source": [
    "docs = ['너무 재밌어요', '참 최고에요', '참 잘 만든 영화에요',\n",
    "        '추천하고 싶은 영화입니다', '한 번 더 보고 싶네요', '글쎄요',\n",
    "        '별로에요', '생각보다 지루해요',  '연기가 어색해요',\n",
    "        '재미없어요', '너무 재미없다', '참 재밌네요']"
   ]
  },
  {
   "cell_type": "code",
   "execution_count": 4,
   "metadata": {},
   "outputs": [],
   "source": [
    "text_tokener = Tokenizer() "
   ]
  },
  {
   "cell_type": "code",
   "execution_count": 5,
   "metadata": {},
   "outputs": [
    {
     "data": {
      "text/plain": [
       "<keras_preprocessing.text.Tokenizer at 0x246acb82148>"
      ]
     },
     "execution_count": 5,
     "metadata": {},
     "output_type": "execute_result"
    }
   ],
   "source": [
    "text_tokener"
   ]
  },
  {
   "cell_type": "code",
   "execution_count": 6,
   "metadata": {},
   "outputs": [],
   "source": [
    "# 1 fit_on_texts\n",
    "text_tokener.fit_on_texts(docs)"
   ]
  },
  {
   "cell_type": "code",
   "execution_count": 7,
   "metadata": {
    "scrolled": true
   },
   "outputs": [
    {
     "data": {
      "text/plain": [
       "{'참': 1,\n",
       " '너무': 2,\n",
       " '재밌어요': 3,\n",
       " '최고에요': 4,\n",
       " '잘': 5,\n",
       " '만든': 6,\n",
       " '영화에요': 7,\n",
       " '추천하고': 8,\n",
       " '싶은': 9,\n",
       " '영화입니다': 10,\n",
       " '한': 11,\n",
       " '번': 12,\n",
       " '더': 13,\n",
       " '보고': 14,\n",
       " '싶네요': 15,\n",
       " '글쎄요': 16,\n",
       " '별로에요': 17,\n",
       " '생각보다': 18,\n",
       " '지루해요': 19,\n",
       " '연기가': 20,\n",
       " '어색해요': 21,\n",
       " '재미없어요': 22,\n",
       " '재미없다': 23,\n",
       " '재밌네요': 24}"
      ]
     },
     "execution_count": 7,
     "metadata": {},
     "output_type": "execute_result"
    }
   ],
   "source": [
    "# 1_1. word_index\n",
    "text_tokener.word_index"
   ]
  },
  {
   "cell_type": "code",
   "execution_count": 10,
   "metadata": {},
   "outputs": [
    {
     "data": {
      "text/plain": [
       "[[2, 3],\n",
       " [1, 4],\n",
       " [1, 5, 6, 7],\n",
       " [8, 9, 10],\n",
       " [11, 12, 13, 14, 15],\n",
       " [16],\n",
       " [17],\n",
       " [18, 19],\n",
       " [20, 21],\n",
       " [22],\n",
       " [2, 23],\n",
       " [1, 24]]"
      ]
     },
     "execution_count": 10,
     "metadata": {},
     "output_type": "execute_result"
    }
   ],
   "source": [
    "# 1_2) texts_to_sequences 각 문장을 숫자로 바꿔서 나타내줌\n",
    "x = text_tokener.texts_to_sequences(docs)\n",
    "x"
   ]
  },
  {
   "cell_type": "code",
   "execution_count": 9,
   "metadata": {},
   "outputs": [],
   "source": [
    "from keras.preprocessing.sequence import pad_sequences # 패딩으로 와꾸 맞춰주기"
   ]
  },
  {
   "cell_type": "code",
   "execution_count": 12,
   "metadata": {},
   "outputs": [
    {
     "data": {
      "text/plain": [
       "array([[ 2,  3,  0,  0,  0],\n",
       "       [ 1,  4,  0,  0,  0],\n",
       "       [ 1,  5,  6,  7,  0],\n",
       "       [ 8,  9, 10,  0,  0],\n",
       "       [11, 12, 13, 14, 15],\n",
       "       [16,  0,  0,  0,  0],\n",
       "       [17,  0,  0,  0,  0],\n",
       "       [18, 19,  0,  0,  0],\n",
       "       [20, 21,  0,  0,  0],\n",
       "       [22,  0,  0,  0,  0],\n",
       "       [ 2, 23,  0,  0,  0],\n",
       "       [ 1, 24,  0,  0,  0]])"
      ]
     },
     "execution_count": 12,
     "metadata": {},
     "output_type": "execute_result"
    }
   ],
   "source": [
    "pad_x = pad_sequences(x, padding='post', value=0)\n",
    "pad_x"
   ]
  },
  {
   "cell_type": "code",
   "execution_count": 13,
   "metadata": {},
   "outputs": [
    {
     "data": {
      "text/plain": [
       "array([[ 1,  1,  1,  2,  3],\n",
       "       [ 1,  1,  1,  1,  4],\n",
       "       [ 1,  1,  5,  6,  7],\n",
       "       [ 1,  1,  8,  9, 10],\n",
       "       [11, 12, 13, 14, 15],\n",
       "       [ 1,  1,  1,  1, 16],\n",
       "       [ 1,  1,  1,  1, 17],\n",
       "       [ 1,  1,  1, 18, 19],\n",
       "       [ 1,  1,  1, 20, 21],\n",
       "       [ 1,  1,  1,  1, 22],\n",
       "       [ 1,  1,  1,  2, 23],\n",
       "       [ 1,  1,  1,  1, 24]])"
      ]
     },
     "execution_count": 13,
     "metadata": {},
     "output_type": "execute_result"
    }
   ],
   "source": [
    "pad_x = pad_sequences(x, padding='pre', value=1)\n",
    "pad_x"
   ]
  },
  {
   "cell_type": "code",
   "execution_count": null,
   "metadata": {},
   "outputs": [],
   "source": []
  }
 ],
 "metadata": {
  "kernelspec": {
   "display_name": "Python 3",
   "language": "python",
   "name": "python3"
  },
  "language_info": {
   "codemirror_mode": {
    "name": "ipython",
    "version": 3
   },
   "file_extension": ".py",
   "mimetype": "text/x-python",
   "name": "python",
   "nbconvert_exporter": "python",
   "pygments_lexer": "ipython3",
   "version": "3.7.6"
  }
 },
 "nbformat": 4,
 "nbformat_minor": 4
}
