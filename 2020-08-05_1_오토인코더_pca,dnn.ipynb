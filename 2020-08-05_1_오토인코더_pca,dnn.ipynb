{
 "cells": [
  {
   "cell_type": "raw",
   "metadata": {},
   "source": [
    "\n",
    "오토인코더의 메인개념은 한마디로 중요한 것을 뽑아오는 것이다.\n",
    "이미지에서 많이 쓰이나 본데,\n",
    "압축(인코더)을 해서 중요한 걸 남기고, 다시 디코더를 해서 원래 값으로 복원시키는 과정을 거침으로써 중요한걸 얻어내는 방식을 뜻한다.\n",
    "\n",
    "\n",
    "x데이터 자체의 데이터를 보며\n",
    "\n",
    "'특색이 있는' ( 우리가 사용한 데이터로 보면 검정색 글씨가 있는 픽셀 ) 부분은 더 많이 남기고\n",
    "\n",
    "'특색이 없는' ( 하얀색 배경 ) 부분은 삭제시켜서\n",
    "\n",
    "압축(인코더) 시키는 메커니즘이다.\n",
    "\n",
    "\n",
    "사실 이 개념은 pca에서도 그대로 사용되었었다.\n",
    "\n",
    "pca는 x데이터 자체를 압축시키는데, \n",
    "이 내용에 대해서 생긴 의문이 생겨서\n",
    "\n",
    "pca시 아주 중요한 칼럼 데이터가 소실되면 오히려 손해 아니냐는 질문을 했는데\n",
    "\n",
    "복원시에 99.9%가 복원되며\n",
    "\n",
    "압축시 '필요없는'데이터를 더 압축시킨다고 보기 보다는 '중복되는(=별반 차이가 없는)' 데이터를 더 압축시킨다고 보는게 더 명확한 표현인 것 같다.\n",
    "\n",
    "\n",
    "pca는 전처리 단계에서 아예 칼럼 수를 줄이고 모델에 넣는거고,\n",
    "\n",
    "이제 모델 첫단에서 노드로 줄이면서 압축시키는 방식을 오토인코더라고 부르는것 같았다.\n",
    "\n",
    "(그렇다면 우리가 다이아몬드 모델을 만들때 처음에 노드수를 확 줄여서 시작하는거 자체가 피처추출을 하고 있었기 때문에 성능이 좋아졌다는것을 알게되고 놀랐다..!\n",
    "\n",
    "+ 추가로 만약 728칼럼에서는 158개 정도까지 줄여도 99%를 가지고 있으니까 158 이상으로는 써야되는거처럼\n",
    "\n",
    "데이터의 절대적인 볼륨을 본 다음에 어느 정도까지가 압축'범위'가 될 것인지 판단하는 것도 중요한 것이란걸 알게되었다. )\n",
    "\n",
    "\n",
    "아무튼 이러한 특징추출 하는 애들이 있어서,\n",
    "\n",
    "잡음(noise)가 껴 있어도 기존의 형태로 바꿀 수 있고 (다만 압축하다보니 흐려지는 것은 어쩔 수 없다. -> GAN이 상당부분 보완했다고 한다.)\n",
    "\n",
    "이미지 분석시 해당 이미지의 특성도 추출하는 식으로 활용하는 것 같다.\n",
    "\n",
    "(일단 지금은 전처리단으로 생각하는게 적합한거 같다.)\n",
    "\n",
    "이미지 프로젝트를 안해봐서 'fit'한 사용용도는 모르겠음"
   ]
  },
  {
   "cell_type": "code",
   "execution_count": 1,
   "metadata": {},
   "outputs": [],
   "source": [
    "import numpy as np\n",
    "import matplotlib.pyplot as plt\n",
    "from tensorflow.keras.datasets import mnist\n",
    "\n",
    "(x_train, y_train), (x_test, y_test) = mnist.load_data()"
   ]
  },
  {
   "cell_type": "code",
   "execution_count": 2,
   "metadata": {},
   "outputs": [],
   "source": [
    "x_train = (x_train/255).reshape(-1, 28*28)\n",
    "x_test = (x_test/255).reshape(-1, 28*28)"
   ]
  },
  {
   "cell_type": "code",
   "execution_count": 3,
   "metadata": {},
   "outputs": [],
   "source": [
    "from tensorflow.keras.models import Sequential, Model\n",
    "from tensorflow.keras.layers import Dense, Conv2D, MaxPooling2D, Flatten, Input"
   ]
  },
  {
   "cell_type": "code",
   "execution_count": 4,
   "metadata": {},
   "outputs": [
    {
     "name": "stdout",
     "output_type": "stream",
     "text": [
      "Model: \"model\"\n",
      "_________________________________________________________________\n",
      "Layer (type)                 Output Shape              Param #   \n",
      "=================================================================\n",
      "input_1 (InputLayer)         [(None, 784)]             0         \n",
      "_________________________________________________________________\n",
      "dense (Dense)                (None, 32)                25120     \n",
      "_________________________________________________________________\n",
      "dense_1 (Dense)              (None, 784)               25872     \n",
      "=================================================================\n",
      "Total params: 50,992\n",
      "Trainable params: 50,992\n",
      "Non-trainable params: 0\n",
      "_________________________________________________________________\n"
     ]
    }
   ],
   "source": [
    "input = Input(shape=(784,))\n",
    "encoded = Dense(32, activation='relu')(input)     # 이게 오토인코더에서 피처 추출 역할을 한다\n",
    "decoded = Dense(784, activation='sigmoid')(encoded)\n",
    "\n",
    "autoencoder = Model(input, decoded)\n",
    "autoencoder.summary()"
   ]
  },
  {
   "cell_type": "code",
   "execution_count": 5,
   "metadata": {
    "scrolled": true
   },
   "outputs": [
    {
     "name": "stdout",
     "output_type": "stream",
     "text": [
      "Train on 48000 samples, validate on 12000 samples\n",
      "Epoch 1/50\n",
      "48000/48000 [==============================] - 1s 26us/sample - loss: 0.0771 - val_loss: 0.0443\n",
      "Epoch 2/50\n",
      "48000/48000 [==============================] - 1s 13us/sample - loss: 0.0375 - val_loss: 0.0324\n",
      "Epoch 3/50\n",
      "48000/48000 [==============================] - 1s 13us/sample - loss: 0.0295 - val_loss: 0.0265\n",
      "Epoch 4/50\n",
      "48000/48000 [==============================] - 1s 13us/sample - loss: 0.0246 - val_loss: 0.0226\n",
      "Epoch 5/50\n",
      "48000/48000 [==============================] - 1s 13us/sample - loss: 0.0213 - val_loss: 0.0198\n",
      "Epoch 6/50\n",
      "48000/48000 [==============================] - 1s 13us/sample - loss: 0.0188 - val_loss: 0.0177\n",
      "Epoch 7/50\n",
      "48000/48000 [==============================] - 1s 13us/sample - loss: 0.0169 - val_loss: 0.0159\n",
      "Epoch 8/50\n",
      "48000/48000 [==============================] - 1s 13us/sample - loss: 0.0153 - val_loss: 0.0146\n",
      "Epoch 9/50\n",
      "48000/48000 [==============================] - 1s 13us/sample - loss: 0.0141 - val_loss: 0.0136\n",
      "Epoch 10/50\n",
      "48000/48000 [==============================] - 1s 13us/sample - loss: 0.0132 - val_loss: 0.0128\n",
      "Epoch 11/50\n",
      "48000/48000 [==============================] - 1s 13us/sample - loss: 0.0125 - val_loss: 0.0122\n",
      "Epoch 12/50\n",
      "48000/48000 [==============================] - 1s 14us/sample - loss: 0.0119 - val_loss: 0.0118\n",
      "Epoch 13/50\n",
      "48000/48000 [==============================] - 1s 15us/sample - loss: 0.0116 - val_loss: 0.0115\n",
      "Epoch 14/50\n",
      "48000/48000 [==============================] - 1s 13us/sample - loss: 0.0113 - val_loss: 0.0113\n",
      "Epoch 15/50\n",
      "48000/48000 [==============================] - 1s 13us/sample - loss: 0.0111 - val_loss: 0.0111\n",
      "Epoch 16/50\n",
      "48000/48000 [==============================] - 1s 13us/sample - loss: 0.0109 - val_loss: 0.0110\n",
      "Epoch 17/50\n",
      "48000/48000 [==============================] - 1s 13us/sample - loss: 0.0108 - val_loss: 0.0109\n",
      "Epoch 18/50\n",
      "48000/48000 [==============================] - 1s 13us/sample - loss: 0.0107 - val_loss: 0.0108\n",
      "Epoch 19/50\n",
      "48000/48000 [==============================] - 1s 13us/sample - loss: 0.0106 - val_loss: 0.0107\n",
      "Epoch 20/50\n",
      "48000/48000 [==============================] - 1s 13us/sample - loss: 0.0105 - val_loss: 0.0106\n",
      "Epoch 21/50\n",
      "48000/48000 [==============================] - 1s 13us/sample - loss: 0.0105 - val_loss: 0.0106\n",
      "Epoch 22/50\n",
      "48000/48000 [==============================] - 1s 13us/sample - loss: 0.0104 - val_loss: 0.0106\n",
      "Epoch 23/50\n",
      "48000/48000 [==============================] - 1s 14us/sample - loss: 0.0104 - val_loss: 0.0106\n",
      "Epoch 24/50\n",
      "48000/48000 [==============================] - 1s 13us/sample - loss: 0.0103 - val_loss: 0.0105\n",
      "Epoch 25/50\n",
      "48000/48000 [==============================] - 1s 13us/sample - loss: 0.0103 - val_loss: 0.0105\n",
      "Epoch 26/50\n",
      "48000/48000 [==============================] - 1s 13us/sample - loss: 0.0103 - val_loss: 0.0104\n",
      "Epoch 27/50\n",
      "48000/48000 [==============================] - 1s 13us/sample - loss: 0.0103 - val_loss: 0.0104\n",
      "Epoch 28/50\n",
      "48000/48000 [==============================] - 1s 13us/sample - loss: 0.0102 - val_loss: 0.0104\n",
      "Epoch 29/50\n",
      "48000/48000 [==============================] - 1s 13us/sample - loss: 0.0102 - val_loss: 0.0104\n",
      "Epoch 30/50\n",
      "48000/48000 [==============================] - 1s 13us/sample - loss: 0.0102 - val_loss: 0.0104\n",
      "Epoch 31/50\n",
      "48000/48000 [==============================] - 1s 13us/sample - loss: 0.0102 - val_loss: 0.0103\n",
      "Epoch 32/50\n",
      "48000/48000 [==============================] - 1s 13us/sample - loss: 0.0101 - val_loss: 0.0103\n",
      "Epoch 33/50\n",
      "48000/48000 [==============================] - 1s 13us/sample - loss: 0.0101 - val_loss: 0.0103\n",
      "Epoch 34/50\n",
      "48000/48000 [==============================] - 1s 13us/sample - loss: 0.0101 - val_loss: 0.0103\n",
      "Epoch 35/50\n",
      "48000/48000 [==============================] - 1s 13us/sample - loss: 0.0101 - val_loss: 0.0103\n",
      "Epoch 36/50\n",
      "48000/48000 [==============================] - 1s 13us/sample - loss: 0.0101 - val_loss: 0.0103\n",
      "Epoch 37/50\n",
      "48000/48000 [==============================] - 1s 13us/sample - loss: 0.0101 - val_loss: 0.0103\n",
      "Epoch 38/50\n",
      "48000/48000 [==============================] - 1s 13us/sample - loss: 0.0101 - val_loss: 0.0102\n",
      "Epoch 39/50\n",
      "48000/48000 [==============================] - 1s 13us/sample - loss: 0.0101 - val_loss: 0.0102\n",
      "Epoch 40/50\n",
      "48000/48000 [==============================] - 1s 13us/sample - loss: 0.0100 - val_loss: 0.0102\n",
      "Epoch 41/50\n",
      "48000/48000 [==============================] - 1s 13us/sample - loss: 0.0100 - val_loss: 0.0102\n",
      "Epoch 42/50\n",
      "48000/48000 [==============================] - 1s 13us/sample - loss: 0.0100 - val_loss: 0.0102\n",
      "Epoch 43/50\n",
      "48000/48000 [==============================] - 1s 14us/sample - loss: 0.0100 - val_loss: 0.0102\n",
      "Epoch 44/50\n",
      "48000/48000 [==============================] - 1s 13us/sample - loss: 0.0100 - val_loss: 0.0102\n",
      "Epoch 45/50\n",
      "48000/48000 [==============================] - 1s 13us/sample - loss: 0.0100 - val_loss: 0.0102\n",
      "Epoch 46/50\n",
      "48000/48000 [==============================] - 1s 13us/sample - loss: 0.0100 - val_loss: 0.0102\n",
      "Epoch 47/50\n",
      "48000/48000 [==============================] - 1s 13us/sample - loss: 0.0100 - val_loss: 0.0102\n",
      "Epoch 48/50\n",
      "48000/48000 [==============================] - 1s 14us/sample - loss: 0.0100 - val_loss: 0.0102\n",
      "Epoch 49/50\n",
      "48000/48000 [==============================] - 1s 14us/sample - loss: 0.0100 - val_loss: 0.0102\n",
      "Epoch 50/50\n",
      "48000/48000 [==============================] - 1s 13us/sample - loss: 0.0100 - val_loss: 0.0102\n"
     ]
    }
   ],
   "source": [
    "autoencoder.compile(optimizer='adam', loss='mse')\n",
    "autoencoder.fit(x_train, x_train, epochs=50, batch_size=256, validation_split=0.2)\n",
    "encoded_imgs = autoencoder.predict(x_test)"
   ]
  },
  {
   "cell_type": "code",
   "execution_count": 6,
   "metadata": {},
   "outputs": [
    {
     "data": {
      "image/png": "[encoded data removed]",
      "text/plain": [
       "<Figure size 1440x288 with 20 Axes>"
      ]
     },
     "metadata": {
      "needs_background": "light"
     },
     "output_type": "display_data"
    }
   ],
   "source": [
    "# matplotlib 은 넘나 여러방식이 있어서 제일 간단한 내 방식으로 엑셀정리 해놔야할 필요성을 많이 느낀다.\n",
    "import matplotlib.pyplot as plt\n",
    "n = 10\n",
    "plt.figure(figsize=(20,4))\n",
    "for i in range(n):\n",
    "    ax = plt.subplot(2, n, i+1)\n",
    "    plt.imshow(x_test[i].reshape(28,28))\n",
    "    plt.gray()\n",
    "    ax.get_xaxis().set_visible(False)\n",
    "    ax.get_yaxis().set_visible(False)\n",
    "    \n",
    "    ax = plt.subplot(2, n, i+1+n)\n",
    "    plt.imshow(encoded_imgs[i].reshape(28,28))\n",
    "    plt.gray()\n",
    "    ax.get_xaxis().set_visible(False)\n",
    "    ax.get_yaxis().set_visible(False)\n",
    "\n",
    "plt.show()"
   ]
  },
  {
   "cell_type": "code",
   "execution_count": 7,
   "metadata": {},
   "outputs": [],
   "source": [
    "# PCA를 보자\n",
    "\n",
    "import numpy as np\n",
    "from sklearn.decomposition import PCA\n",
    "from sklearn.datasets import load_diabetes"
   ]
  },
  {
   "cell_type": "code",
   "execution_count": 8,
   "metadata": {},
   "outputs": [
    {
     "name": "stdout",
     "output_type": "stream",
     "text": [
      "[0.40242142 0.14923182 0.12059623 0.09554764 0.06621856]\n",
      "0.8340156689459766\n"
     ]
    }
   ],
   "source": [
    "dataset = load_diabetes()\n",
    "\n",
    "x = dataset.data\n",
    "y = dataset.target\n",
    "\n",
    "pca = PCA(n_components=5)\n",
    "x2 = pca.fit_transform(x)\n",
    "pca_evr = pca.explained_variance_ratio_  # 압축한 컬럼별 중요비율\n",
    "print(pca_evr)\n",
    "print(sum(pca_evr))  # 0.83 -> pca(10 -> 5칼럼으로 압축)해서 중요한 0.17은 소실했다"
   ]
  },
  {
   "cell_type": "raw",
   "metadata": {},
   "source": [
    "이걸 역이용해서 원하는 %로 n_components를 튜닝할 수 있다"
   ]
  },
  {
   "cell_type": "code",
   "execution_count": 18,
   "metadata": {},
   "outputs": [
    {
     "name": "stdout",
     "output_type": "stream",
     "text": [
      "[0.40242142 0.55165324 0.67224947 0.76779711 0.83401567 0.89428759\n",
      " 0.94794364 0.99131196 0.99914395 1.        ]\n",
      "[False False False False False False False  True  True  True]\n",
      "8\n"
     ]
    }
   ],
   "source": [
    "pca = PCA()\n",
    "pca.fit(x)\n",
    "cumsum = np.cumsum(pca.explained_variance_ratio_)  # '순서대로'의 누적합을 눈으로 확인할 수 있음 \n",
    "print(cumsum)\n",
    "\n",
    "n_components = np.argmax(cumsum >= 0.99)+1  # argmax가 어찌 돌아가는지는 찍어봐야 알듯.. 제일 큰거 아니었어..?\n",
    "print(cumsum>=0.99)\n",
    "print(n_components)"
   ]
  },
  {
   "cell_type": "code",
   "execution_count": 11,
   "metadata": {},
   "outputs": [
    {
     "data": {
      "text/plain": [
       "numpy.ndarray"
      ]
     },
     "execution_count": 11,
     "metadata": {},
     "output_type": "execute_result"
    }
   ],
   "source": [
    "type(cumsum)"
   ]
  },
  {
   "cell_type": "code",
   "execution_count": 12,
   "metadata": {},
   "outputs": [
    {
     "data": {
      "text/plain": [
       "array([0.40242142, 0.55165324, 0.67224947, 0.76779711, 0.83401567,\n",
       "       0.89428759, 0.94794364, 0.99131196, 0.99914395, 1.        ])"
      ]
     },
     "execution_count": 12,
     "metadata": {},
     "output_type": "execute_result"
    }
   ],
   "source": [
    "cumsum  # 이렇게 눈으로 볼 수 있음"
   ]
  },
  {
   "cell_type": "code",
   "execution_count": 17,
   "metadata": {},
   "outputs": [
    {
     "data": {
      "text/plain": [
       "5"
      ]
     },
     "execution_count": 17,
     "metadata": {},
     "output_type": "execute_result"
    }
   ],
   "source": [
    "np.argmax([0,1,2,3,4,5]) # argmax는 가장 큰 i를 보여주는 것이 맞았지만,"
   ]
  },
  {
   "cell_type": "code",
   "execution_count": 16,
   "metadata": {},
   "outputs": [
    {
     "data": {
      "text/plain": [
       "5"
      ]
     },
     "execution_count": 16,
     "metadata": {},
     "output_type": "execute_result"
    }
   ],
   "source": [
    "np.argmax(np.array([0,1,2,3,4,5])) # 심지어 np.array를 시켜도 똑같았지만,"
   ]
  },
  {
   "cell_type": "code",
   "execution_count": 15,
   "metadata": {},
   "outputs": [
    {
     "data": {
      "text/plain": [
       "3"
      ]
     },
     "execution_count": 15,
     "metadata": {},
     "output_type": "execute_result"
    }
   ],
   "source": [
    "np.argmax(np.array([0,1,2,3,4,5]) >= 3) # >= 기호를 넣는 순간,, 왠일인지 제일 작은 i를 (처음 조건에 걸리는 i일수도..) 보여주었다.."
   ]
  },
  {
   "cell_type": "raw",
   "metadata": {},
   "source": [
    "즉, 그냥 n컴포넌트 구할때 저거쓴다^^@ 로 기억하면 됨~!!"
   ]
  },
  {
   "cell_type": "code",
   "execution_count": null,
   "metadata": {},
   "outputs": [],
   "source": [
    "# mnist에 적용해보면, 700대 칼럼임(이미지니까)"
   ]
  },
  {
   "cell_type": "code",
   "execution_count": 19,
   "metadata": {},
   "outputs": [],
   "source": [
    "(x_train, y_train), (x_test, y_test) = mnist.load_data()"
   ]
  },
  {
   "cell_type": "code",
   "execution_count": 25,
   "metadata": {},
   "outputs": [
    {
     "data": {
      "text/plain": [
       "'\\n음,, pca도 여전히 2차원에서만 사용 가능하네..? 이 부분을 대체 왜 아직도 이렇게 불편하게 냅둔건지 이해하지 못했다 아직 ㅠ\\n'"
      ]
     },
     "execution_count": 25,
     "metadata": {},
     "output_type": "execute_result"
    }
   ],
   "source": [
    "x_train = (x_train/255).reshape(-1, 28*28)\n",
    "x_test = (x_test/255).reshape(-1, 28*28) \n",
    "'''\n",
    "음,, pca도 여전히 2차원에서만 사용 가능하네..? 이 부분을 대체 왜 아직도 이렇게 불편하게 냅둔건지 이해하지 못했다 아직 ㅠ\n",
    "'''"
   ]
  },
  {
   "cell_type": "code",
   "execution_count": 26,
   "metadata": {},
   "outputs": [
    {
     "name": "stdout",
     "output_type": "stream",
     "text": [
      "(70000, 784)\n"
     ]
    }
   ],
   "source": [
    "x = np.append(x_train, x_test, axis=0)\n",
    "# 전처리는 합쳐서 진행한다 (적용하는 대상데이터가 변동하면 안되는 문제라서) -> 앞으로 모델링할때도 명심할 것\n",
    "print(x.shape)  # (70000, 784)"
   ]
  },
  {
   "cell_type": "code",
   "execution_count": 27,
   "metadata": {},
   "outputs": [
    {
     "name": "stdout",
     "output_type": "stream",
     "text": [
      "[0.09746116 0.16901561 0.23051091 0.28454476 0.3334341  0.37648637\n",
      " 0.40926898 0.4381654  0.46574904 0.48917044 0.51023733 0.53061286\n",
      " 0.5476835  0.5646237  0.58045752 0.59532097 0.60851456 0.6213047\n",
      " 0.63317742 0.64470679 0.65536719 0.66546513 0.67505665 0.684153\n",
      " 0.69298586 0.70137405 0.70947236 0.71732954 0.72473217 0.73163231\n",
      " 0.73819375 0.74464845 0.75065664 0.75651276 0.7621803  0.767615\n",
      " 0.77266217 0.77753297 0.78232252 0.78699846 0.79154214 0.79599132\n",
      " 0.80017349 0.80413513 0.8079722  0.81173005 0.81534432 0.81883456\n",
      " 0.82222188 0.82541884 0.82858738 0.83168883 0.83465363 0.83752465\n",
      " 0.84034978 0.84304401 0.84572793 0.84829303 0.85082471 0.85327119\n",
      " 0.85566821 0.85805402 0.86034636 0.86255585 0.86468645 0.86674963\n",
      " 0.86877744 0.87072779 0.8726425  0.87452799 0.87639775 0.8781988\n",
      " 0.87996667 0.88170025 0.88334875 0.88498112 0.8865952  0.88813824\n",
      " 0.88960844 0.89103044 0.8924406  0.89384206 0.89523811 0.89658836\n",
      " 0.89791207 0.899231   0.90052297 0.90177469 0.90299999 0.90420418\n",
      " 0.90536781 0.906511   0.90763647 0.90873509 0.90981852 0.91089027\n",
      " 0.91192719 0.91296138 0.91396728 0.91496661 0.91594334 0.91688496\n",
      " 0.91782079 0.91873245 0.91963319 0.92052269 0.92138427 0.92223682\n",
      " 0.92307782 0.92389505 0.92468107 0.92545857 0.92623439 0.92699917\n",
      " 0.92775974 0.92850853 0.92923877 0.92996413 0.93067997 0.93138338\n",
      " 0.93207512 0.93276204 0.93344142 0.93411316 0.93477443 0.93541711\n",
      " 0.93604988 0.93667828 0.93729791 0.93789931 0.93849958 0.93909337\n",
      " 0.93967965 0.9402631  0.940842   0.94141475 0.94197813 0.94253042\n",
      " 0.943066   0.94359172 0.94411446 0.94462437 0.94512666 0.9456248\n",
      " 0.94612065 0.946613   0.94709678 0.94757768 0.94804925 0.94851596\n",
      " 0.94898019 0.94944218 0.94990047 0.95034997 0.95079714 0.95123805\n",
      " 0.95167605 0.95210242 0.95252328 0.95294145 0.95335445 0.95376287\n",
      " 0.95416113 0.95455512 0.95494687 0.95533599 0.95571939 0.95609788\n",
      " 0.95647432 0.95684638 0.95721271 0.95757751 0.95793954 0.95829637\n",
      " 0.95865012 0.95900242 0.95934903 0.95969382 0.96003568 0.96037455\n",
      " 0.9607095  0.96103861 0.96136648 0.96169065 0.96201344 0.9623336\n",
      " 0.96265022 0.96296557 0.96327544 0.96358481 0.96389067 0.96419322\n",
      " 0.96449444 0.96479476 0.96509028 0.9653854  0.96567824 0.96596999\n",
      " 0.96625661 0.96653954 0.9668211  0.96709847 0.96737282 0.96764487\n",
      " 0.96791337 0.96818032 0.96844491 0.96870854 0.96897011 0.96922878\n",
      " 0.96948623 0.96974278 0.96999724 0.97024999 0.97050172 0.97075021\n",
      " 0.97099709 0.97124223 0.97148479 0.97172585 0.97196658 0.97220574\n",
      " 0.97244411 0.97268057 0.97291231 0.97314346 0.97337294 0.97360044\n",
      " 0.9738275  0.97405068 0.97427157 0.97449133 0.9747087  0.97492482\n",
      " 0.97513932 0.97535229 0.97556485 0.97577473 0.9759841  0.97619041\n",
      " 0.97639504 0.97659779 0.9767991  0.97699991 0.97719834 0.97739582\n",
      " 0.97759133 0.97778421 0.97797684 0.9781686  0.97835942 0.9785481\n",
      " 0.97873539 0.9789226  0.97910818 0.97929318 0.97947707 0.97965934\n",
      " 0.97984133 0.9800213  0.98019827 0.98037474 0.98055032 0.9807241\n",
      " 0.98089718 0.9810694  0.98124063 0.98141076 0.9815795  0.98174654\n",
      " 0.98191313 0.98207944 0.98224342 0.98240691 0.98256983 0.98273155\n",
      " 0.98289154 0.98305114 0.98320998 0.98336736 0.98352336 0.98367788\n",
      " 0.98383147 0.98398451 0.98413622 0.98428614 0.98443561 0.98458358\n",
      " 0.98473136 0.98487746 0.98502198 0.9851652  0.98530797 0.98545006\n",
      " 0.98559153 0.98573178 0.98586954 0.98600685 0.98614311 0.98627883\n",
      " 0.98641389 0.98654826 0.9866818  0.98681423 0.98694508 0.98707455\n",
      " 0.98720327 0.98733096 0.9874583  0.98758506 0.98771121 0.98783717\n",
      " 0.98796179 0.988085   0.98820693 0.98832839 0.98844898 0.98856873\n",
      " 0.98868781 0.98880663 0.98892392 0.98904079 0.98915683 0.98927271\n",
      " 0.98938754 0.98950182 0.98961399 0.98972509 0.98983526 0.98994529\n",
      " 0.99005503 0.99016416 0.9902724  0.99037985 0.99048639 0.99059265\n",
      " 0.99069885 0.99080369 0.99090686 0.9910095  0.99111119 0.99121161\n",
      " 0.99131175 0.99141112 0.99151036 0.99160868 0.99170619 0.99180308\n",
      " 0.99189801 0.99199211 0.99208598 0.99217929 0.99227162 0.99236323\n",
      " 0.99245439 0.99254478 0.99263456 0.99272373 0.99281259 0.99290056\n",
      " 0.99298752 0.99307382 0.99315945 0.99324427 0.99332894 0.99341255\n",
      " 0.9934952  0.99357759 0.99365961 0.99374051 0.99382135 0.99390072\n",
      " 0.99397991 0.99405814 0.99413601 0.99421317 0.99428941 0.99436531\n",
      " 0.99443978 0.99451366 0.99458698 0.99465999 0.99473239 0.99480435\n",
      " 0.99487561 0.99494588 0.99501547 0.99508477 0.99515276 0.99522017\n",
      " 0.99528704 0.99535295 0.99541771 0.9954817  0.99554505 0.99560818\n",
      " 0.99566995 0.99573098 0.99579104 0.99585078 0.9959097  0.99596825\n",
      " 0.99602628 0.99608361 0.99614003 0.996196   0.9962514  0.99630588\n",
      " 0.99636024 0.99641449 0.99646742 0.9965202  0.99657247 0.9966241\n",
      " 0.99667525 0.9967259  0.99677565 0.99682503 0.99687401 0.99692228\n",
      " 0.99696977 0.9970167  0.99706304 0.9971093  0.99715454 0.99719914\n",
      " 0.99724256 0.99728497 0.99732703 0.99736898 0.9974102  0.99745141\n",
      " 0.99749225 0.99753274 0.99757293 0.99761143 0.99764964 0.99768763\n",
      " 0.99772533 0.99776254 0.99779943 0.99783586 0.99787114 0.99790623\n",
      " 0.99794118 0.99797567 0.99801002 0.99804427 0.99807724 0.99810988\n",
      " 0.99814192 0.9981737  0.99820509 0.9982359  0.99826576 0.99829545\n",
      " 0.99832467 0.99835366 0.99838258 0.9984109  0.9984386  0.99846609\n",
      " 0.99849326 0.99852001 0.99854566 0.99857088 0.99859584 0.99862051\n",
      " 0.99864497 0.99866931 0.99869345 0.99871743 0.99874088 0.99876424\n",
      " 0.99878734 0.99880978 0.99883194 0.99885349 0.99887488 0.9988961\n",
      " 0.99891695 0.99893763 0.99895791 0.99897781 0.99899756 0.99901705\n",
      " 0.99903634 0.99905537 0.99907416 0.99909254 0.99911058 0.99912854\n",
      " 0.99914581 0.99916293 0.99917913 0.99919524 0.99921106 0.99922682\n",
      " 0.99924222 0.99925759 0.99927283 0.99928769 0.99930236 0.99931678\n",
      " 0.99933093 0.99934485 0.99935849 0.99937201 0.99938544 0.99939873\n",
      " 0.9994116  0.99942416 0.99943642 0.99944866 0.99946081 0.99947275\n",
      " 0.99948434 0.99949583 0.99950726 0.99951858 0.99952979 0.99954077\n",
      " 0.99955159 0.99956213 0.99957255 0.99958282 0.99959284 0.99960219\n",
      " 0.99961139 0.99962054 0.99962964 0.99963858 0.99964724 0.99965569\n",
      " 0.99966375 0.99967161 0.99967944 0.99968722 0.99969499 0.9997026\n",
      " 0.99971012 0.99971754 0.99972483 0.99973202 0.99973916 0.99974617\n",
      " 0.99975292 0.99975965 0.99976598 0.99977223 0.9997784  0.99978423\n",
      " 0.99978989 0.9997954  0.99980089 0.99980626 0.99981158 0.99981678\n",
      " 0.99982168 0.99982653 0.99983136 0.99983615 0.9998407  0.9998452\n",
      " 0.99984966 0.99985411 0.99985848 0.99986262 0.99986673 0.99987068\n",
      " 0.99987456 0.9998784  0.99988221 0.9998856  0.99988892 0.99989212\n",
      " 0.99989529 0.99989844 0.99990155 0.99990463 0.99990768 0.99991064\n",
      " 0.99991354 0.99991643 0.99991918 0.9999217  0.9999242  0.99992658\n",
      " 0.99992889 0.99993105 0.9999332  0.99993531 0.99993741 0.99993944\n",
      " 0.99994146 0.99994343 0.99994535 0.99994717 0.99994896 0.9999507\n",
      " 0.99995244 0.99995412 0.99995576 0.99995737 0.99995897 0.99996052\n",
      " 0.99996202 0.99996332 0.99996462 0.99996591 0.99996718 0.99996839\n",
      " 0.99996954 0.99997063 0.99997171 0.99997279 0.99997385 0.99997489\n",
      " 0.99997591 0.9999769  0.99997784 0.99997876 0.9999796  0.99998044\n",
      " 0.99998126 0.99998207 0.99998287 0.9999836  0.9999843  0.99998496\n",
      " 0.99998561 0.99998623 0.99998684 0.99998745 0.99998805 0.99998862\n",
      " 0.99998917 0.99998972 0.99999024 0.99999075 0.99999123 0.99999168\n",
      " 0.99999213 0.99999254 0.99999293 0.99999331 0.99999368 0.99999405\n",
      " 0.99999439 0.99999468 0.99999496 0.99999524 0.99999551 0.99999578\n",
      " 0.99999604 0.9999963  0.99999654 0.99999675 0.99999696 0.99999715\n",
      " 0.99999733 0.99999751 0.99999769 0.99999785 0.999998   0.99999815\n",
      " 0.99999828 0.99999841 0.99999852 0.99999864 0.99999876 0.99999887\n",
      " 0.99999898 0.99999907 0.99999916 0.99999924 0.99999931 0.99999939\n",
      " 0.99999945 0.99999951 0.99999956 0.99999961 0.99999965 0.99999969\n",
      " 0.99999972 0.99999976 0.99999978 0.99999981 0.99999984 0.99999986\n",
      " 0.99999988 0.99999989 0.9999999  0.99999992 0.99999993 0.99999994\n",
      " 0.99999995 0.99999996 0.99999996 0.99999997 0.99999998 0.99999998\n",
      " 0.99999998 0.99999999 0.99999999 1.         1.         1.\n",
      " 1.         1.         1.         1.         1.         1.\n",
      " 1.         1.         1.         1.         1.         1.\n",
      " 1.         1.         1.         1.         1.         1.\n",
      " 1.         1.         1.         1.         1.         1.\n",
      " 1.         1.         1.         1.         1.         1.\n",
      " 1.         1.         1.         1.         1.         1.\n",
      " 1.         1.         1.         1.         1.         1.\n",
      " 1.         1.         1.         1.         1.         1.\n",
      " 1.         1.         1.         1.         1.         1.\n",
      " 1.         1.         1.         1.         1.         1.\n",
      " 1.         1.         1.         1.         1.         1.\n",
      " 1.         1.         1.         1.         1.         1.\n",
      " 1.         1.         1.         1.        ]\n"
     ]
    }
   ],
   "source": [
    "pca = PCA()\n",
    "pca.fit(x)\n",
    "cumsum = np.cumsum(pca.explained_variance_ratio_)\n",
    "print(cumsum)"
   ]
  },
  {
   "cell_type": "code",
   "execution_count": 28,
   "metadata": {},
   "outputs": [
    {
     "name": "stdout",
     "output_type": "stream",
     "text": [
      "331\n"
     ]
    }
   ],
   "source": [
    "n_components = np.argmax(cumsum >= 0.99)+1\n",
    "print(n_components)"
   ]
  },
  {
   "cell_type": "code",
   "execution_count": 29,
   "metadata": {},
   "outputs": [],
   "source": [
    "pca = PCA(n_components=n_components)\n",
    "pca.fit(x)\n",
    "x = pca.transform(x)"
   ]
  },
  {
   "cell_type": "code",
   "execution_count": 30,
   "metadata": {},
   "outputs": [],
   "source": [
    "x_train = x[:60000,:]\n",
    "x_test = x[60000:,:]"
   ]
  },
  {
   "cell_type": "code",
   "execution_count": 34,
   "metadata": {},
   "outputs": [],
   "source": [
    "from keras.utils import np_utils\n",
    "y_train = np_utils.to_categorical(y_train)\n",
    "y_test = np_utils.to_categorical(y_test)"
   ]
  },
  {
   "cell_type": "code",
   "execution_count": 35,
   "metadata": {},
   "outputs": [
    {
     "name": "stdout",
     "output_type": "stream",
     "text": [
      "Model: \"sequential_2\"\n",
      "_________________________________________________________________\n",
      "Layer (type)                 Output Shape              Param #   \n",
      "=================================================================\n",
      "dense_6 (Dense)              (None, 100)               33200     \n",
      "_________________________________________________________________\n",
      "dense_7 (Dense)              (None, 120)               12120     \n",
      "_________________________________________________________________\n",
      "dense_8 (Dense)              (None, 80)                9680      \n",
      "_________________________________________________________________\n",
      "dense_9 (Dense)              (None, 32)                2592      \n",
      "_________________________________________________________________\n",
      "dense_10 (Dense)             (None, 10)                330       \n",
      "=================================================================\n",
      "Total params: 57,922\n",
      "Trainable params: 57,922\n",
      "Non-trainable params: 0\n",
      "_________________________________________________________________\n"
     ]
    }
   ],
   "source": [
    "from keras.models import Sequential\n",
    "from keras.layers import Dense, Conv2D, MaxPooling2D, Flatten\n",
    "model = Sequential()\n",
    "model.add(Dense(100, input_dim=(n_components)))   # 첫번째 노드가 100 일때\n",
    "model.add(Dense(120))\n",
    "model.add(Dense(80))\n",
    "model.add(Dense(32))\n",
    "model.add(Dense(10, activation='softmax')) \n",
    "model.summary()"
   ]
  },
  {
   "cell_type": "code",
   "execution_count": 37,
   "metadata": {},
   "outputs": [
    {
     "name": "stdout",
     "output_type": "stream",
     "text": [
      "Epoch 1/10\n",
      "60000/60000 [==============================] - 3s 55us/step - loss: 0.2870 - acc: 0.9198\n",
      "Epoch 2/10\n",
      "60000/60000 [==============================] - 3s 54us/step - loss: 0.2840 - acc: 0.9200\n",
      "Epoch 3/10\n",
      "60000/60000 [==============================] - 3s 54us/step - loss: 0.2811 - acc: 0.9205\n",
      "Epoch 4/10\n",
      "60000/60000 [==============================] - 3s 54us/step - loss: 0.2819 - acc: 0.9212\n",
      "Epoch 5/10\n",
      "60000/60000 [==============================] - 3s 53us/step - loss: 0.2805 - acc: 0.9206\n",
      "Epoch 6/10\n",
      "60000/60000 [==============================] - 3s 54us/step - loss: 0.2787 - acc: 0.9213\n",
      "Epoch 7/10\n",
      "60000/60000 [==============================] - 3s 54us/step - loss: 0.2779 - acc: 0.9214\n",
      "Epoch 8/10\n",
      "60000/60000 [==============================] - 3s 57us/step - loss: 0.2763 - acc: 0.9226\n",
      "Epoch 9/10\n",
      "60000/60000 [==============================] - 3s 55us/step - loss: 0.2760 - acc: 0.9223\n",
      "Epoch 10/10\n",
      "60000/60000 [==============================] - 3s 54us/step - loss: 0.2752 - acc: 0.9225\n",
      "10000/10000 [==============================] - 0s 43us/step\n",
      "loss 는 0.29365944241583347\n",
      "acc 는 0.9165999889373779\n",
      "[7 2 1 ... 4 5 6]\n"
     ]
    }
   ],
   "source": [
    "#3. 설명한 후 훈련\n",
    "model.compile(loss='categorical_crossentropy', optimizer='adam', metrics=['acc']) \n",
    "\n",
    "model.fit(x_train,y_train, epochs=10, batch_size=50)  # 정리할때는 epoch 10번 이상 하지 말기\n",
    "\n",
    "#4. 평가와 예측\n",
    "loss, acc = model.evaluate(x_test,y_test) \n",
    "print('loss 는',loss)\n",
    "print('acc 는',acc)\n",
    "\n",
    "predict = model.predict(x_test)\n",
    "print(np.argmax(predict, axis = 1))"
   ]
  },
  {
   "cell_type": "code",
   "execution_count": 40,
   "metadata": {},
   "outputs": [
    {
     "name": "stdout",
     "output_type": "stream",
     "text": [
      "Model: \"sequential_4\"\n",
      "_________________________________________________________________\n",
      "Layer (type)                 Output Shape              Param #   \n",
      "=================================================================\n",
      "dense_16 (Dense)             (None, 30)                9960      \n",
      "_________________________________________________________________\n",
      "dense_17 (Dense)             (None, 400)               12400     \n",
      "_________________________________________________________________\n",
      "dense_18 (Dense)             (None, 100)               40100     \n",
      "_________________________________________________________________\n",
      "dense_19 (Dense)             (None, 32)                3232      \n",
      "_________________________________________________________________\n",
      "dense_20 (Dense)             (None, 10)                330       \n",
      "=================================================================\n",
      "Total params: 66,022\n",
      "Trainable params: 66,022\n",
      "Non-trainable params: 0\n",
      "_________________________________________________________________\n"
     ]
    }
   ],
   "source": [
    "from keras.models import Sequential\n",
    "from keras.layers import Dense, Conv2D, MaxPooling2D, Flatten\n",
    "model = Sequential()\n",
    "model.add(Dense(30, input_dim=(n_components)))   # 첫번째 노드가 30 일때 (배운것 상으로는 성능 안좋아져야됨)\n",
    "model.add(Dense(400))\n",
    "model.add(Dense(100))\n",
    "model.add(Dense(32))\n",
    "model.add(Dense(10, activation='softmax')) \n",
    "model.summary()"
   ]
  },
  {
   "cell_type": "code",
   "execution_count": 41,
   "metadata": {},
   "outputs": [
    {
     "name": "stdout",
     "output_type": "stream",
     "text": [
      "Epoch 1/10\n",
      "60000/60000 [==============================] - 3s 57us/step - loss: 0.3955 - acc: 0.8827\n",
      "Epoch 2/10\n",
      "60000/60000 [==============================] - 3s 56us/step - loss: 0.3209 - acc: 0.9087\n",
      "Epoch 3/10\n",
      "60000/60000 [==============================] - 3s 53us/step - loss: 0.3103 - acc: 0.9113\n",
      "Epoch 4/10\n",
      "60000/60000 [==============================] - 3s 55us/step - loss: 0.3024 - acc: 0.9144\n",
      "Epoch 5/10\n",
      "60000/60000 [==============================] - 3s 55us/step - loss: 0.2995 - acc: 0.9158\n",
      "Epoch 6/10\n",
      "60000/60000 [==============================] - 3s 56us/step - loss: 0.2960 - acc: 0.9165\n",
      "Epoch 7/10\n",
      "60000/60000 [==============================] - 3s 55us/step - loss: 0.2935 - acc: 0.9165\n",
      "Epoch 8/10\n",
      "60000/60000 [==============================] - 3s 56us/step - loss: 0.2909 - acc: 0.9183\n",
      "Epoch 9/10\n",
      "60000/60000 [==============================] - 3s 55us/step - loss: 0.2879 - acc: 0.9199\n",
      "Epoch 10/10\n",
      "60000/60000 [==============================] - 3s 56us/step - loss: 0.2857 - acc: 0.9196\n",
      "10000/10000 [==============================] - 0s 41us/step\n",
      "loss 는 0.2919033525198698\n",
      "acc 는 0.9185000061988831\n",
      "[7 2 1 ... 4 5 6]\n"
     ]
    }
   ],
   "source": [
    "#3. 설명한 후 훈련\n",
    "model.compile(loss='categorical_crossentropy', optimizer='adam', metrics=['acc']) \n",
    "\n",
    "model.fit(x_train,y_train, epochs=10, batch_size=50)\n",
    "\n",
    "#4. 평가와 예측\n",
    "loss, acc = model.evaluate(x_test,y_test) \n",
    "print('loss 는',loss)\n",
    "print('acc 는',acc)\n",
    "\n",
    "predict = model.predict(x_test)\n",
    "print(np.argmax(predict, axis = 1))"
   ]
  },
  {
   "cell_type": "raw",
   "metadata": {},
   "source": [
    "-> 한마디로 pca를 98% 정도 해서\n",
    "첫레이어를 (압축되지 않도록) 비슷한 수준에서 주거나\n",
    "\n",
    "아니면 pca 98%한 정도로 첫노드수를 줄이거나 해서 (pca는 선형이고, 노드수로 조정은 비선형 등의 방식적인 차이 있지만 배우지는 않음)\n",
    "노이즈 제거하고 모델학습 하는게 좋다는 것 !"
   ]
  },
  {
   "cell_type": "raw",
   "metadata": {},
   "source": [
    "오토인코더는 딱 이 압축을 목적으로만 떼 내서 학습 이전에 일단 진행하는 것 (물론 레이어를 늘릴수도 있음.. 그냥 첫번째 레이어에서 압축이 된다는 느낌만 보고 가면 될 것 같다)\n",
    "아래를 보면..."
   ]
  },
  {
   "cell_type": "code",
   "execution_count": 46,
   "metadata": {},
   "outputs": [],
   "source": [
    "(x_train, y_train), (x_test, y_test) = mnist.load_data()\n",
    "\n",
    "x_train = (x_train/255).reshape(-1, 28*28)\n",
    "x_test = (x_test/255).reshape(-1, 28*28)"
   ]
  },
  {
   "cell_type": "code",
   "execution_count": 47,
   "metadata": {},
   "outputs": [
    {
     "name": "stdout",
     "output_type": "stream",
     "text": [
      "Epoch 1/10\n",
      "60000/60000 [==============================] - 4s 66us/step - loss: 0.0112 - acc: 0.0128\n",
      "Epoch 2/10\n",
      "60000/60000 [==============================] - 4s 65us/step - loss: 0.0023 - acc: 0.0147\n",
      "Epoch 3/10\n",
      "60000/60000 [==============================] - 4s 69us/step - loss: 0.0017 - acc: 0.0158\n",
      "Epoch 4/10\n",
      "60000/60000 [==============================] - 4s 66us/step - loss: 0.0014 - acc: 0.0169\n",
      "Epoch 5/10\n",
      "60000/60000 [==============================] - 4s 67us/step - loss: 0.0012 - acc: 0.0183\n",
      "Epoch 6/10\n",
      "60000/60000 [==============================] - 4s 68us/step - loss: 0.0011 - acc: 0.0183\n",
      "Epoch 7/10\n",
      "60000/60000 [==============================] - 4s 67us/step - loss: 0.0010 - acc: 0.0195\n",
      "Epoch 8/10\n",
      "60000/60000 [==============================] - 4s 66us/step - loss: 9.8186e-04 - acc: 0.0195\n",
      "Epoch 9/10\n",
      "60000/60000 [==============================] - 4s 66us/step - loss: 9.3866e-04 - acc: 0.0198\n",
      "Epoch 10/10\n",
      "60000/60000 [==============================] - 4s 67us/step - loss: 9.0181e-04 - acc: 0.0209\n"
     ]
    }
   ],
   "source": [
    "def autoencoder(hidden_layer_size) :\n",
    "    model = Sequential()\n",
    "    model.add(Dense(units=hidden_layer_size, input_shape=(784,), activation='relu'))\n",
    "    model.add(Dense(units=784, activation='sigmoid'))\n",
    "    return model\n",
    "\n",
    "model = autoencoder(hidden_layer_size=n_components)\n",
    "\n",
    "model.compile(optimizer='adam', loss='mse', metrics=['acc']) \n",
    "model.fit(x_train, x_train, epochs=10)\n",
    "\n",
    "output = model.predict(x_test)"
   ]
  },
  {
   "cell_type": "code",
   "execution_count": 53,
   "metadata": {},
   "outputs": [
    {
     "data": {
      "image/png": "[encoded data removed]",
      "text/plain": [
       "<Figure size 720x360 with 10 Axes>"
      ]
     },
     "metadata": {},
     "output_type": "display_data"
    }
   ],
   "source": [
    "from matplotlib import pyplot as plt\n",
    "import random\n",
    "fig, ((ax1, ax2, ax3, ax4, ax5), (ax6, ax7, ax8, ax9, ax10)) = plt.subplots(2, 5, figsize=(10, 5))\n",
    "\n",
    "# 이미지 다섯 개를 무작위로 고른다. \n",
    "random_images = random.sample(range(output.shape[0]), 5)\n",
    "\n",
    "# 원본(입력) 이미지를 맨 위에 그린다.\n",
    "for i, ax in enumerate([ax1, ax2, ax3, ax4, ax5]):\n",
    "    ax.imshow(x_test[random_images[i]].reshape(28, 28))\n",
    "    if i ==0 : \n",
    "        ax.set_ylabel(\"INPUT\", size=20)\n",
    "    ax.grid(False)\n",
    "    ax.set_xticks([])\n",
    "    ax.set_yticks([])\n",
    "\n",
    "# 오토 인코더가 출력한 이미지를 아래에 그린다.\n",
    "for i, ax in enumerate([ax6, ax7, ax8, ax9, ax10]):\n",
    "    ax.imshow(output[random_images[i]].reshape(28,28))\n",
    "    if i ==0 : \n",
    "        ax.set_ylabel(\"OUTPUT\", size=20)\n",
    "    ax.grid(False)\n",
    "    ax.set_xticks([])\n",
    "    ax.set_yticks([])\n",
    "\n",
    "plt.show()"
   ]
  },
  {
   "cell_type": "code",
   "execution_count": 55,
   "metadata": {},
   "outputs": [
    {
     "name": "stdout",
     "output_type": "stream",
     "text": [
      "Epoch 1/10\n",
      "60000/60000 [==============================] - 4s 66us/step - loss: 0.0482 - acc: 0.0111\n",
      "Epoch 2/10\n",
      "60000/60000 [==============================] - 4s 65us/step - loss: 0.0335 - acc: 0.0116\n",
      "Epoch 3/10\n",
      "60000/60000 [==============================] - 4s 65us/step - loss: 0.0319 - acc: 0.0113\n",
      "Epoch 4/10\n",
      "60000/60000 [==============================] - 4s 67us/step - loss: 0.0311 - acc: 0.0107\n",
      "Epoch 5/10\n",
      "60000/60000 [==============================] - 4s 66us/step - loss: 0.0307 - acc: 0.0102\n",
      "Epoch 6/10\n",
      "60000/60000 [==============================] - 4s 66us/step - loss: 0.0305 - acc: 0.0097\n",
      "Epoch 7/10\n",
      "60000/60000 [==============================] - 4s 66us/step - loss: 0.0303 - acc: 0.0097\n",
      "Epoch 8/10\n",
      "60000/60000 [==============================] - 4s 66us/step - loss: 0.0302 - acc: 0.0096\n",
      "Epoch 9/10\n",
      "60000/60000 [==============================] - 4s 67us/step - loss: 0.0301 - acc: 0.0095\n",
      "Epoch 10/10\n",
      "60000/60000 [==============================] - 4s 66us/step - loss: 0.0301 - acc: 0.0091\n",
      "size=10 끝\n",
      "Epoch 1/10\n",
      "60000/60000 [==============================] - 4s 68us/step - loss: 0.0269 - acc: 0.0104\n",
      "Epoch 2/10\n",
      "60000/60000 [==============================] - 4s 67us/step - loss: 0.0087 - acc: 0.0115\n",
      "Epoch 3/10\n",
      "60000/60000 [==============================] - 4s 66us/step - loss: 0.0066 - acc: 0.0116\n",
      "Epoch 4/10\n",
      "60000/60000 [==============================] - 4s 67us/step - loss: 0.0061 - acc: 0.0126\n",
      "Epoch 5/10\n",
      "60000/60000 [==============================] - 4s 67us/step - loss: 0.0059 - acc: 0.0123\n",
      "Epoch 6/10\n",
      "60000/60000 [==============================] - 4s 67us/step - loss: 0.0058 - acc: 0.0122\n",
      "Epoch 7/10\n",
      "60000/60000 [==============================] - 4s 65us/step - loss: 0.0057 - acc: 0.0125\n",
      "Epoch 8/10\n",
      "60000/60000 [==============================] - 4s 65us/step - loss: 0.0057 - acc: 0.0118\n",
      "Epoch 9/10\n",
      "60000/60000 [==============================] - 4s 65us/step - loss: 0.0057 - acc: 0.0124\n",
      "Epoch 10/10\n",
      "60000/60000 [==============================] - 4s 65us/step - loss: 0.0056 - acc: 0.0123\n",
      "size=50 끝\n",
      "Epoch 1/10\n",
      "60000/60000 [==============================] - 4s 66us/step - loss: 0.0194 - acc: 0.0105\n",
      "Epoch 2/10\n",
      "60000/60000 [==============================] - 4s 65us/step - loss: 0.0048 - acc: 0.0122\n",
      "Epoch 3/10\n",
      "60000/60000 [==============================] - 4s 65us/step - loss: 0.0033 - acc: 0.0124\n",
      "Epoch 4/10\n",
      "60000/60000 [==============================] - 4s 65us/step - loss: 0.0028 - acc: 0.0134\n",
      "Epoch 5/10\n",
      "60000/60000 [==============================] - 4s 65us/step - loss: 0.0026 - acc: 0.0141\n",
      "Epoch 6/10\n",
      "60000/60000 [==============================] - 4s 67us/step - loss: 0.0025 - acc: 0.0141\n",
      "Epoch 7/10\n",
      "60000/60000 [==============================] - 4s 70us/step - loss: 0.0024 - acc: 0.0133\n",
      "Epoch 8/10\n",
      "60000/60000 [==============================] - 4s 72us/step - loss: 0.0023 - acc: 0.0140\n",
      "Epoch 9/10\n",
      "60000/60000 [==============================] - 4s 69us/step - loss: 0.0023 - acc: 0.0142\n",
      "Epoch 10/10\n",
      "60000/60000 [==============================] - 4s 68us/step - loss: 0.0022 - acc: 0.0140\n",
      "size=100 끝\n",
      "Epoch 1/10\n",
      "60000/60000 [==============================] - 4s 68us/step - loss: 0.0113 - acc: 0.0125\n",
      "Epoch 2/10\n",
      "60000/60000 [==============================] - 4s 68us/step - loss: 0.0023 - acc: 0.0140\n",
      "Epoch 3/10\n",
      "60000/60000 [==============================] - 4s 69us/step - loss: 0.0017 - acc: 0.0150\n",
      "Epoch 4/10\n",
      "60000/60000 [==============================] - 4s 69us/step - loss: 0.0014 - acc: 0.0159\n",
      "Epoch 5/10\n",
      "60000/60000 [==============================] - 4s 68us/step - loss: 0.0012 - acc: 0.0165\n",
      "Epoch 6/10\n",
      "60000/60000 [==============================] - 4s 68us/step - loss: 0.0011 - acc: 0.0180\n",
      "Epoch 7/10\n",
      "60000/60000 [==============================] - 4s 69us/step - loss: 0.0010 - acc: 0.0193\n",
      "Epoch 8/10\n",
      "60000/60000 [==============================] - 4s 69us/step - loss: 9.6544e-04 - acc: 0.0191\n",
      "Epoch 9/10\n",
      "60000/60000 [==============================] - 4s 71us/step - loss: 9.2557e-04 - acc: 0.0192\n",
      "Epoch 10/10\n",
      "60000/60000 [==============================] - 4s 69us/step - loss: 8.9206e-04 - acc: 0.0203\n",
      "size=330 끝\n",
      "Epoch 1/10\n",
      "60000/60000 [==============================] - 4s 73us/step - loss: 0.0093 - acc: 0.0130\n",
      "Epoch 2/10\n",
      "60000/60000 [==============================] - 4s 72us/step - loss: 0.0019 - acc: 0.0153\n",
      "Epoch 3/10\n",
      "60000/60000 [==============================] - 4s 72us/step - loss: 0.0014 - acc: 0.0172\n",
      "Epoch 4/10\n",
      "60000/60000 [==============================] - 4s 72us/step - loss: 0.0012 - acc: 0.0195\n",
      "Epoch 5/10\n",
      "60000/60000 [==============================] - 4s 74us/step - loss: 0.0011 - acc: 0.0204\n",
      "Epoch 6/10\n",
      "60000/60000 [==============================] - 4s 74us/step - loss: 9.8422e-04 - acc: 0.0195\n",
      "Epoch 7/10\n",
      "60000/60000 [==============================] - 4s 72us/step - loss: 9.3648e-04 - acc: 0.0214\n",
      "Epoch 8/10\n",
      "60000/60000 [==============================] - 4s 71us/step - loss: 8.9511e-04 - acc: 0.0224\n",
      "Epoch 9/10\n",
      "60000/60000 [==============================] - 4s 72us/step - loss: 8.6114e-04 - acc: 0.0224\n",
      "Epoch 10/10\n",
      "60000/60000 [==============================] - 4s 72us/step - loss: 8.3256e-04 - acc: 0.0236\n",
      "size=550 끝\n"
     ]
    }
   ],
   "source": [
    "def autoencoder(hidden_layer_size) :\n",
    "    model = Sequential()\n",
    "    model.add(Dense(units=hidden_layer_size, input_shape=(784,), activation='relu'))\n",
    "    model.add(Dense(units=784, activation='sigmoid'))\n",
    "    return model\n",
    "\n",
    "model_01 = autoencoder(hidden_layer_size=10)\n",
    "model_02 = autoencoder(hidden_layer_size=50)\n",
    "model_03 = autoencoder(hidden_layer_size=100)\n",
    "model_04 = autoencoder(hidden_layer_size=330)\n",
    "model_05 = autoencoder(hidden_layer_size=550)\n",
    "\n",
    "model_01.compile(optimizer='adam', loss='mse', metrics=['acc'])\n",
    "model_01.fit(x_train, x_train, epochs=10)\n",
    "print('size=10 끝')\n",
    "model_02.compile(optimizer='adam', loss='mse', metrics=['acc'])\n",
    "model_02.fit(x_train, x_train, epochs=10)\n",
    "print('size=50 끝')\n",
    "model_03.compile(optimizer='adam', loss='mse', metrics=['acc'])\n",
    "model_03.fit(x_train, x_train, epochs=10)\n",
    "print('size=100 끝')\n",
    "model_04.compile(optimizer='adam', loss='mse', metrics=['acc'])\n",
    "model_04.fit(x_train, x_train, epochs=10)\n",
    "print('size=330 끝')\n",
    "model_05.compile(optimizer='adam', loss='mse', metrics=['acc'])\n",
    "model_05.fit(x_train, x_train, epochs=10)\n",
    "print('size=550 끝')\n",
    "\n",
    "output_01 = model_01.predict(x_test)\n",
    "output_02 = model_02.predict(x_test)\n",
    "output_03 = model_03.predict(x_test)\n",
    "output_04 = model_04.predict(x_test)\n",
    "output_05 = model_05.predict(x_test)"
   ]
  },
  {
   "cell_type": "raw",
   "metadata": {},
   "source": [
    "확실히 330, 550이 우수함을 볼 수 있다\n",
    "97 ~ 98로 끊는게 적당한 것 같다."
   ]
  },
  {
   "cell_type": "code",
   "execution_count": 59,
   "metadata": {},
   "outputs": [
    {
     "data": {
      "image/png": "[encoded data removed]",
      "text/plain": [
       "<Figure size 720x720 with 30 Axes>"
      ]
     },
     "metadata": {},
     "output_type": "display_data"
    }
   ],
   "source": [
    "from matplotlib import pyplot as plt\n",
    "import random\n",
    "\n",
    "fig, axes = plt.subplots(6, 5, figsize=(10,10))\n",
    "random_imgs = random.sample(range(output_01.shape[0]), 5)\n",
    "outputs = [x_test, output_01, output_02, output_03, output_04, output_05]\n",
    "\n",
    "for row_num, row in enumerate(axes) :\n",
    "    for col_num, ax in enumerate(row) :\n",
    "        ax.imshow(outputs[row_num][random_imgs[col_num]].reshape(28,28), cmap='gray')\n",
    "        ax.grid(False)\n",
    "        ax.set_xticks([])\n",
    "        ax.set_yticks([])\n",
    "\n",
    "plt.show()"
   ]
  },
  {
   "cell_type": "code",
   "execution_count": null,
   "metadata": {},
   "outputs": [],
   "source": [
    "# 95% 대인 50부터는 사실상 눈으로는 별 차이없게 나오는 것을 볼 수 있음"
   ]
  }
 ],
 "metadata": {
  "kernelspec": {
   "display_name": "Python 3",
   "language": "python",
   "name": "python3"
  },
  "language_info": {
   "codemirror_mode": {
    "name": "ipython",
    "version": 3
   },
   "file_extension": ".py",
   "mimetype": "text/x-python",
   "name": "python",
   "nbconvert_exporter": "python",
   "pygments_lexer": "ipython3",
   "version": "3.7.6"
  }
 },
 "nbformat": 4,
 "nbformat_minor": 4
}
