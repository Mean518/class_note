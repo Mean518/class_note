{
 "cells": [
  {
   "cell_type": "code",
   "execution_count": 1,
   "metadata": {},
   "outputs": [],
   "source": [
    "import math\n",
    "import random"
   ]
  },
  {
   "cell_type": "code",
   "execution_count": 23,
   "metadata": {},
   "outputs": [
    {
     "data": {
      "text/plain": [
       "-0.7347909937375274"
      ]
     },
     "execution_count": 23,
     "metadata": {},
     "output_type": "execute_result"
    }
   ],
   "source": [
    "a = random.uniform(-1,1)\n",
    "a"
   ]
  },
  {
   "cell_type": "code",
   "execution_count": 24,
   "metadata": {},
   "outputs": [
    {
     "data": {
      "text/plain": [
       "0.9091857477089786"
      ]
     },
     "execution_count": 24,
     "metadata": {},
     "output_type": "execute_result"
    }
   ],
   "source": [
    "b = random.uniform(-1,1)\n",
    "b"
   ]
  },
  {
   "cell_type": "code",
   "execution_count": 25,
   "metadata": {},
   "outputs": [],
   "source": [
    "c = random.uniform(-1,1)\n",
    "d = random.uniform(-1,1)\n",
    "e = random.uniform(-1,1)\n",
    "f = random.uniform(-1,1)\n",
    "g = random.uniform(-1,1)\n",
    "h = random.uniform(-1,1)\n",
    "i = random.uniform(-1,1)"
   ]
  },
  {
   "cell_type": "code",
   "execution_count": 30,
   "metadata": {},
   "outputs": [],
   "source": [
    "lr = 0.1"
   ]
  },
  {
   "cell_type": "code",
   "execution_count": 31,
   "metadata": {},
   "outputs": [],
   "source": [
    "def sigmoid(x) :\n",
    "    return 1.0 / (1.0 + math.exp(-x))\n",
    "# math.exp : e(약 2.71828) 값을 인자 값만큼 거듭제곱 하는 지수함수"
   ]
  },
  {
   "cell_type": "code",
   "execution_count": 32,
   "metadata": {},
   "outputs": [],
   "source": [
    "data = [(5,10),(7,18),(10,8),(15,15),(20,3),(23,12)]\n",
    "labels = [-1,-1,+1,+1,-1,-1]"
   ]
  },
  {
   "cell_type": "code",
   "execution_count": 33,
   "metadata": {},
   "outputs": [
    {
     "name": "stdout",
     "output_type": "stream",
     "text": [
      "counter=0.000000, a=-1.516338,b=-0.336257,c=0.474293,d=2.615706,e=-4.247320,f=0.115992,g=-245.168361,h=18.389290,i=-5.002636,\n",
      "========================================\n",
      "counter=100.000000, a=-3.234156,b=-3.766767,c=0.131207,d=-0.721819,e=-9.581264,f=-0.321502,g=-3338.287104,h=1376.094306,i=-0.333333,\n",
      "========================================\n",
      "counter=200.000000, a=-3.234156,b=-3.766767,c=0.131207,d=-0.721819,e=-9.581264,f=-0.321502,g=-3404.953771,h=1416.094306,i=-0.333333,\n",
      "========================================\n",
      "counter=300.000000, a=-3.234156,b=-3.766767,c=0.131207,d=-0.721819,e=-9.581264,f=-0.321502,g=-3471.620437,h=1456.094306,i=-0.333333,\n",
      "========================================\n",
      "counter=400.000000, a=-3.234156,b=-3.766767,c=0.131207,d=-0.721819,e=-9.581264,f=-0.321502,g=-3538.287104,h=1496.094306,i=-0.333333,\n",
      "========================================\n",
      "counter=500.000000, a=-3.234156,b=-3.766767,c=0.131207,d=-0.721819,e=-9.581264,f=-0.321502,g=-3604.953771,h=1536.094306,i=-0.333333,\n",
      "========================================\n",
      "counter=600.000000, a=-3.234156,b=-3.766767,c=0.131207,d=-0.721819,e=-9.581264,f=-0.321502,g=-3671.620437,h=1576.094306,i=-0.333333,\n",
      "========================================\n",
      "counter=700.000000, a=-3.234156,b=-3.766767,c=0.131207,d=-0.721819,e=-9.581264,f=-0.321502,g=-3738.287104,h=1616.094306,i=-0.333333,\n",
      "========================================\n",
      "counter=800.000000, a=-3.234156,b=-3.766767,c=0.131207,d=-0.721819,e=-9.581264,f=-0.321502,g=-3804.953771,h=1656.094306,i=-0.333333,\n",
      "========================================\n",
      "counter=900.000000, a=-3.234156,b=-3.766767,c=0.131207,d=-0.721819,e=-9.581264,f=-0.321502,g=-3871.620437,h=1696.094306,i=-0.333333,\n",
      "========================================\n",
      "counter=1000.000000, a=-3.234156,b=-3.766767,c=0.131207,d=-0.721819,e=-9.581264,f=-0.321502,g=-3938.287104,h=1736.094306,i=-0.333333,\n",
      "========================================\n"
     ]
    }
   ],
   "source": [
    "for counter in range(1001) :\n",
    "    da=db=dc=dd=de=df=dg=dh=di=0.0\n",
    "    for idx in range(len(data)) :\n",
    "        x = float(data[idx][0])\n",
    "        y = float(data[idx][1])\n",
    "        z1 = a*x + b*y + c\n",
    "        z2 = d*x + e*y + f\n",
    "        X = sigmoid(z1)\n",
    "        Y = sigmoid(z2)\n",
    "        z = g*X + h*Y + i\n",
    "        Z = labels[idx]\n",
    "        \n",
    "        dz = 2 * (z-Z)\n",
    "        \n",
    "        dz1 = dz * g * sigmoid(z1)*(1.0-sigmoid(z1))\n",
    "        dz2 = dz * g * sigmoid(z2)*(1.0-sigmoid(z2))\n",
    "        da += dz1 * x  # 오차의 총합을 미분한 것을 다 더해준다 -> 이게 0이 되어야함. 만약 아니라면 +일때 왼쪽, -일때 오른쪽으로 이동\n",
    "        db += dz1 * y\n",
    "        dc += dz1 * 1.0\n",
    "        \n",
    "        dd += dz2 * x\n",
    "        de += dz2 * y\n",
    "        df += dz2 * 1\n",
    "        \n",
    "        dg += dz * x\n",
    "        dh += dz * y\n",
    "        di += dz * 1\n",
    "    \n",
    "    a = a - lr * da\n",
    "    b = b - lr * db\n",
    "    c = c - lr * dc\n",
    "    d = d - lr * dd\n",
    "    e = e - lr * de\n",
    "    f = f - lr * df\n",
    "    g = g - lr * dg\n",
    "    h = h - lr * dh\n",
    "    i = i - lr * di\n",
    "    \n",
    "    if counter % 100 == 0 :\n",
    "        print('counter=%lf, a=%lf,b=%lf,c=%lf,d=%lf,e=%lf,f=%lf,g=%lf,h=%lf,i=%lf,'\n",
    "             % (counter,a,b,c,d,e,f,g,h,i))\n",
    "        print('========================================')\n",
    "\n",
    "    "
   ]
  },
  {
   "cell_type": "code",
   "execution_count": 34,
   "metadata": {},
   "outputs": [
    {
     "name": "stdout",
     "output_type": "stream",
     "text": [
      "counter=1000.000000, a=-3.234156,b=-3.766767,c=0.131207,d=-0.721819,e=-9.581264,f=-0.321502,g=-3938.287104,h=1736.094306,i=-0.333333,\n"
     ]
    }
   ],
   "source": [
    "print('counter=%lf, a=%lf,b=%lf,c=%lf,d=%lf,e=%lf,f=%lf,g=%lf,h=%lf,i=%lf,'\n",
    "             % (counter,a,b,c,d,e,f,g,h,i))"
   ]
  },
  {
   "cell_type": "code",
   "execution_count": null,
   "metadata": {},
   "outputs": [],
   "source": [
    "# 이게 우리가 말하는 w웨이트 값"
   ]
  },
  {
   "cell_type": "code",
   "execution_count": null,
   "metadata": {},
   "outputs": [],
   "source": []
  }
 ],
 "metadata": {
  "kernelspec": {
   "display_name": "Python 3",
   "language": "python",
   "name": "python3"
  },
  "language_info": {
   "codemirror_mode": {
    "name": "ipython",
    "version": 3
   },
   "file_extension": ".py",
   "mimetype": "text/x-python",
   "name": "python",
   "nbconvert_exporter": "python",
   "pygments_lexer": "ipython3",
   "version": "3.7.4"
  }
 },
 "nbformat": 4,
 "nbformat_minor": 2
}
