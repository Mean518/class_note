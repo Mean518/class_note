{
 "cells": [
  {
   "cell_type": "code",
   "execution_count": 7,
   "metadata": {},
   "outputs": [],
   "source": [
    "# 데이터로드\n",
    "from keras.datasets import cifar10\n",
    "(x_train, y_train),(x_test,y_test) = cifar10.load_data()  # (50000, 32, 32, 3) -> 32x32 rgb 그림이 5만장 있다."
   ]
  },
  {
   "cell_type": "code",
   "execution_count": 8,
   "metadata": {
    "scrolled": true
   },
   "outputs": [
    {
     "data": {
      "text/plain": [
       "array([[[158, 112,  49],\n",
       "        [159, 111,  47],\n",
       "        [165, 116,  51],\n",
       "        ...,\n",
       "        [137,  95,  36],\n",
       "        [126,  91,  36],\n",
       "        [116,  85,  33]],\n",
       "\n",
       "       [[152, 112,  51],\n",
       "        [151, 110,  40],\n",
       "        [159, 114,  45],\n",
       "        ...,\n",
       "        [136,  95,  31],\n",
       "        [125,  91,  32],\n",
       "        [119,  88,  34]],\n",
       "\n",
       "       [[151, 110,  47],\n",
       "        [151, 109,  33],\n",
       "        [158, 111,  36],\n",
       "        ...,\n",
       "        [139,  98,  34],\n",
       "        [130,  95,  34],\n",
       "        [120,  89,  33]],\n",
       "\n",
       "       ...,\n",
       "\n",
       "       [[ 68, 124, 177],\n",
       "        [ 42, 100, 148],\n",
       "        [ 31,  88, 137],\n",
       "        ...,\n",
       "        [ 38,  97, 146],\n",
       "        [ 13,  64, 108],\n",
       "        [ 40,  85, 127]],\n",
       "\n",
       "       [[ 61, 116, 168],\n",
       "        [ 49, 102, 148],\n",
       "        [ 35,  85, 132],\n",
       "        ...,\n",
       "        [ 26,  82, 130],\n",
       "        [ 29,  82, 126],\n",
       "        [ 20,  64, 107]],\n",
       "\n",
       "       [[ 54, 107, 160],\n",
       "        [ 56, 105, 149],\n",
       "        [ 45,  89, 132],\n",
       "        ...,\n",
       "        [ 24,  77, 124],\n",
       "        [ 34,  84, 129],\n",
       "        [ 21,  67, 110]]], dtype=uint8)"
      ]
     },
     "execution_count": 8,
     "metadata": {},
     "output_type": "execute_result"
    }
   ],
   "source": [
    "x_test[0]"
   ]
  },
  {
   "cell_type": "code",
   "execution_count": 9,
   "metadata": {},
   "outputs": [
    {
     "name": "stdout",
     "output_type": "stream",
     "text": [
      "[3]\n"
     ]
    },
    {
     "data": {
      "text/plain": [
       "<matplotlib.image.AxesImage at 0x297f53cdc88>"
      ]
     },
     "execution_count": 9,
     "metadata": {},
     "output_type": "execute_result"
    },
    {
     "data": {
      "image/png": "[encoded data removed]",
      "text/plain": [
       "<Figure size 432x288 with 1 Axes>"
      ]
     },
     "metadata": {
      "needs_background": "light"
     },
     "output_type": "display_data"
    }
   ],
   "source": [
    "import matplotlib.pyplot as plt\n",
    "print(y_test[0])\n",
    "plt.imshow(x_test[0])"
   ]
  },
  {
   "cell_type": "code",
   "execution_count": 13,
   "metadata": {},
   "outputs": [
    {
     "data": {
      "text/plain": [
       "(50000, 32, 32, 3)"
      ]
     },
     "execution_count": 13,
     "metadata": {},
     "output_type": "execute_result"
    }
   ],
   "source": [
    "x_train.shape"
   ]
  },
  {
   "cell_type": "code",
   "execution_count": 14,
   "metadata": {},
   "outputs": [
    {
     "data": {
      "text/plain": [
       "(50000, 10)"
      ]
     },
     "execution_count": 14,
     "metadata": {},
     "output_type": "execute_result"
    }
   ],
   "source": [
    "y_train.shape"
   ]
  },
  {
   "cell_type": "code",
   "execution_count": 10,
   "metadata": {},
   "outputs": [],
   "source": [
    "# 전처리\n",
    "# x는 표준화\n",
    "# x_train = x_train/99\n",
    "# x_test = x_test/99 이건 대체 왜한거야?\n",
    "# y는 원핫 인코딩\n",
    "from keras.utils import np_utils\n",
    "y_train = np_utils.to_categorical(y_train)\n",
    "y_test = np_utils.to_categorical(y_test)"
   ]
  },
  {
   "cell_type": "code",
   "execution_count": 19,
   "metadata": {},
   "outputs": [
    {
     "name": "stdout",
     "output_type": "stream",
     "text": [
      "Model: \"sequential_3\"\n",
      "_________________________________________________________________\n",
      "Layer (type)                 Output Shape              Param #   \n",
      "=================================================================\n",
      "conv2d_19 (Conv2D)           (None, 32, 32, 16)        208       \n",
      "_________________________________________________________________\n",
      "conv2d_20 (Conv2D)           (None, 32, 32, 16)        6416      \n",
      "_________________________________________________________________\n",
      "max_pooling2d_9 (MaxPooling2 (None, 16, 16, 16)        0         \n",
      "_________________________________________________________________\n",
      "dropout_9 (Dropout)          (None, 16, 16, 16)        0         \n",
      "_________________________________________________________________\n",
      "conv2d_21 (Conv2D)           (None, 16, 16, 32)        4640      \n",
      "_________________________________________________________________\n",
      "conv2d_22 (Conv2D)           (None, 16, 16, 32)        25632     \n",
      "_________________________________________________________________\n",
      "max_pooling2d_10 (MaxPooling (None, 8, 8, 32)          0         \n",
      "_________________________________________________________________\n",
      "dropout_10 (Dropout)         (None, 8, 8, 32)          0         \n",
      "_________________________________________________________________\n",
      "flatten_5 (Flatten)          (None, 2048)              0         \n",
      "_________________________________________________________________\n",
      "dense_5 (Dense)              (None, 10)                20490     \n",
      "=================================================================\n",
      "Total params: 57,386\n",
      "Trainable params: 57,386\n",
      "Non-trainable params: 0\n",
      "_________________________________________________________________\n"
     ]
    }
   ],
   "source": [
    "from keras.layers import Dense, LSTM, Conv2D, Dropout, MaxPool2D, Flatten\n",
    "\n",
    "model = Sequential()\n",
    "model.add(Conv2D(16, (2,2), input_shape=(32,32,3), padding='same'))\n",
    "model.add(Conv2D(16, kernel_size = (5,5), padding = 'Same',activation ='relu'))\n",
    "model.add(MaxPool2D(pool_size=(2,2)))\n",
    "model.add(Dropout(0.25))\n",
    "\n",
    "model.add(Conv2D(32, (3,3), padding='same', activation='relu'))\n",
    "model.add(Conv2D(32, kernel_size = (5,5), padding = 'same',activation ='relu'))\n",
    "model.add(MaxPool2D(pool_size=(2,2)))\n",
    "model.add(Dropout(0.2))\n",
    "\n",
    "# model.add(Conv2D(32, (2,2), padding='same',activation ='relu'))\n",
    "# model.add(Conv2D(32, (2,2), padding='same',activation ='relu'))\n",
    "# model.add(MaxPooling2D(2,2)) \n",
    "# model.add(Dropout(0.2))\n",
    "\n",
    "model.add(Flatten())\n",
    "model.add(Dense(10, activation='softmax'))\n",
    "model.summary()"
   ]
  },
  {
   "cell_type": "code",
   "execution_count": 20,
   "metadata": {
    "scrolled": true
   },
   "outputs": [
    {
     "name": "stdout",
     "output_type": "stream",
     "text": [
      "Train on 40000 samples, validate on 10000 samples\n",
      "Epoch 1/50\n",
      "40000/40000 [==============================] - 3s 66us/step - loss: 5.4183 - acc: 0.1042 - val_loss: 2.3011 - val_acc: 0.1040\n",
      "Epoch 2/50\n",
      "40000/40000 [==============================] - 2s 48us/step - loss: 2.2825 - acc: 0.1303 - val_loss: 2.2152 - val_acc: 0.1881\n",
      "Epoch 3/50\n",
      "40000/40000 [==============================] - 2s 48us/step - loss: 2.1692 - acc: 0.1938 - val_loss: 2.0814 - val_acc: 0.2642\n",
      "Epoch 4/50\n",
      "40000/40000 [==============================] - 2s 48us/step - loss: 2.0695 - acc: 0.2484 - val_loss: 1.9522 - val_acc: 0.3157\n",
      "Epoch 5/50\n",
      "40000/40000 [==============================] - 2s 48us/step - loss: 1.9487 - acc: 0.3003 - val_loss: 1.8570 - val_acc: 0.3566\n",
      "Epoch 6/50\n",
      "40000/40000 [==============================] - 2s 49us/step - loss: 1.8557 - acc: 0.3359 - val_loss: 1.7637 - val_acc: 0.3816\n",
      "Epoch 7/50\n",
      "40000/40000 [==============================] - 2s 49us/step - loss: 1.7991 - acc: 0.3595 - val_loss: 1.7117 - val_acc: 0.4045\n",
      "Epoch 8/50\n",
      "40000/40000 [==============================] - 2s 48us/step - loss: 1.7361 - acc: 0.3794 - val_loss: 1.6651 - val_acc: 0.4203\n",
      "Epoch 9/50\n",
      "40000/40000 [==============================] - 2s 50us/step - loss: 1.6909 - acc: 0.3975 - val_loss: 1.6121 - val_acc: 0.4362\n",
      "Epoch 10/50\n",
      "40000/40000 [==============================] - 2s 50us/step - loss: 1.6582 - acc: 0.4105 - val_loss: 1.5806 - val_acc: 0.4461\n",
      "Epoch 11/50\n",
      "40000/40000 [==============================] - 2s 50us/step - loss: 1.6663 - acc: 0.4071 - val_loss: 1.5702 - val_acc: 0.4556\n",
      "Epoch 12/50\n",
      "40000/40000 [==============================] - 2s 49us/step - loss: 1.6252 - acc: 0.4207 - val_loss: 1.5759 - val_acc: 0.4490\n",
      "Epoch 13/50\n",
      "40000/40000 [==============================] - 2s 49us/step - loss: 1.6084 - acc: 0.4268 - val_loss: 1.5436 - val_acc: 0.4580\n",
      "Epoch 14/50\n",
      "40000/40000 [==============================] - 2s 49us/step - loss: 1.5910 - acc: 0.4320 - val_loss: 1.5249 - val_acc: 0.4685\n",
      "Epoch 15/50\n",
      "40000/40000 [==============================] - 2s 49us/step - loss: 1.5693 - acc: 0.4387 - val_loss: 1.5047 - val_acc: 0.4727\n",
      "Epoch 16/50\n",
      "40000/40000 [==============================] - 2s 49us/step - loss: 1.5557 - acc: 0.4444 - val_loss: 1.5006 - val_acc: 0.4764\n",
      "Epoch 17/50\n",
      "40000/40000 [==============================] - 2s 49us/step - loss: 1.5440 - acc: 0.4494 - val_loss: 1.4696 - val_acc: 0.4878\n",
      "Epoch 18/50\n",
      "40000/40000 [==============================] - 2s 49us/step - loss: 1.5265 - acc: 0.4530 - val_loss: 1.4489 - val_acc: 0.4923\n",
      "Epoch 19/50\n",
      "40000/40000 [==============================] - 2s 50us/step - loss: 1.5041 - acc: 0.4661 - val_loss: 1.4320 - val_acc: 0.4992\n",
      "Epoch 20/50\n",
      "40000/40000 [==============================] - 2s 51us/step - loss: 1.4931 - acc: 0.4672 - val_loss: 1.4032 - val_acc: 0.5081\n",
      "Epoch 21/50\n",
      "40000/40000 [==============================] - 2s 51us/step - loss: 1.4618 - acc: 0.4786 - val_loss: 1.4065 - val_acc: 0.5100\n",
      "Epoch 22/50\n",
      "40000/40000 [==============================] - 2s 51us/step - loss: 1.4465 - acc: 0.4833 - val_loss: 1.3666 - val_acc: 0.5229\n",
      "Epoch 23/50\n",
      "40000/40000 [==============================] - 2s 49us/step - loss: 1.4152 - acc: 0.4985 - val_loss: 1.3500 - val_acc: 0.5207\n",
      "Epoch 24/50\n",
      "40000/40000 [==============================] - 2s 49us/step - loss: 1.3874 - acc: 0.5078 - val_loss: 1.3173 - val_acc: 0.5369\n",
      "Epoch 25/50\n",
      "40000/40000 [==============================] - 2s 49us/step - loss: 1.3588 - acc: 0.5189 - val_loss: 1.3081 - val_acc: 0.5372\n",
      "Epoch 26/50\n",
      "40000/40000 [==============================] - 2s 50us/step - loss: 1.3432 - acc: 0.5265 - val_loss: 1.2825 - val_acc: 0.5513\n",
      "Epoch 27/50\n",
      "40000/40000 [==============================] - 2s 49us/step - loss: 1.3341 - acc: 0.5269 - val_loss: 1.2881 - val_acc: 0.5524\n",
      "Epoch 28/50\n",
      "40000/40000 [==============================] - 2s 49us/step - loss: 1.3024 - acc: 0.5401 - val_loss: 1.2398 - val_acc: 0.5709\n",
      "Epoch 29/50\n",
      "40000/40000 [==============================] - 2s 49us/step - loss: 1.2754 - acc: 0.5498 - val_loss: 1.2278 - val_acc: 0.5715\n",
      "Epoch 30/50\n",
      "40000/40000 [==============================] - 2s 49us/step - loss: 1.2615 - acc: 0.5554 - val_loss: 1.2270 - val_acc: 0.5769\n",
      "Epoch 31/50\n",
      "40000/40000 [==============================] - 2s 49us/step - loss: 1.2462 - acc: 0.5599 - val_loss: 1.1854 - val_acc: 0.5834\n",
      "Epoch 32/50\n",
      "40000/40000 [==============================] - 2s 49us/step - loss: 1.2280 - acc: 0.5656 - val_loss: 1.1639 - val_acc: 0.5947\n",
      "Epoch 33/50\n",
      "40000/40000 [==============================] - 2s 49us/step - loss: 1.2232 - acc: 0.5697 - val_loss: 1.1633 - val_acc: 0.5910\n",
      "Epoch 34/50\n",
      "40000/40000 [==============================] - 2s 50us/step - loss: 1.1856 - acc: 0.5856 - val_loss: 1.1485 - val_acc: 0.6012\n",
      "Epoch 35/50\n",
      "40000/40000 [==============================] - 2s 49us/step - loss: 1.1826 - acc: 0.5846 - val_loss: 1.1409 - val_acc: 0.6001\n",
      "Epoch 36/50\n",
      "40000/40000 [==============================] - 2s 49us/step - loss: 1.1720 - acc: 0.5887 - val_loss: 1.1285 - val_acc: 0.6078\n",
      "Epoch 37/50\n",
      "40000/40000 [==============================] - 2s 49us/step - loss: 1.1519 - acc: 0.5949 - val_loss: 1.1152 - val_acc: 0.6029\n",
      "Epoch 38/50\n",
      "40000/40000 [==============================] - 2s 49us/step - loss: 1.1362 - acc: 0.6018 - val_loss: 1.1202 - val_acc: 0.6021\n",
      "Epoch 39/50\n",
      "40000/40000 [==============================] - 2s 49us/step - loss: 1.1233 - acc: 0.6022 - val_loss: 1.0847 - val_acc: 0.6210\n",
      "Epoch 40/50\n",
      "40000/40000 [==============================] - 2s 49us/step - loss: 1.1208 - acc: 0.6068 - val_loss: 1.0889 - val_acc: 0.6186\n",
      "Epoch 41/50\n",
      "40000/40000 [==============================] - 2s 49us/step - loss: 1.1081 - acc: 0.6111 - val_loss: 1.1114 - val_acc: 0.6017\n",
      "Epoch 42/50\n",
      "40000/40000 [==============================] - 2s 49us/step - loss: 1.1055 - acc: 0.6111 - val_loss: 1.0713 - val_acc: 0.6248\n",
      "Epoch 43/50\n",
      "40000/40000 [==============================] - 2s 49us/step - loss: 1.0746 - acc: 0.6209 - val_loss: 1.0657 - val_acc: 0.6236\n",
      "Epoch 44/50\n",
      "40000/40000 [==============================] - 2s 49us/step - loss: 1.0713 - acc: 0.6232 - val_loss: 1.0443 - val_acc: 0.6329\n",
      "Epoch 45/50\n",
      "40000/40000 [==============================] - 2s 49us/step - loss: 1.0549 - acc: 0.6301 - val_loss: 1.0487 - val_acc: 0.6342\n",
      "Epoch 46/50\n",
      "40000/40000 [==============================] - 2s 50us/step - loss: 1.0436 - acc: 0.6334 - val_loss: 1.0240 - val_acc: 0.6436\n",
      "Epoch 47/50\n",
      "40000/40000 [==============================] - 2s 50us/step - loss: 1.0305 - acc: 0.6353 - val_loss: 1.0294 - val_acc: 0.6393\n",
      "Epoch 48/50\n",
      "40000/40000 [==============================] - 2s 52us/step - loss: 1.0312 - acc: 0.6369 - val_loss: 1.0100 - val_acc: 0.6480\n",
      "Epoch 49/50\n",
      "40000/40000 [==============================] - 2s 51us/step - loss: 1.0316 - acc: 0.6363 - val_loss: 1.0200 - val_acc: 0.6402\n",
      "Epoch 50/50\n",
      "40000/40000 [==============================] - 2s 50us/step - loss: 1.0149 - acc: 0.6444 - val_loss: 0.9988 - val_acc: 0.6473\n",
      "10000/10000 [==============================] - 1s 93us/step\n",
      "loss 는 1.010586117553711\n",
      "acc 는 0.645799994468689\n"
     ]
    }
   ],
   "source": [
    "# 설명과 훈련\n",
    "from keras.callbacks import EarlyStopping, ModelCheckpoint\n",
    "early_stop = EarlyStopping(monitor='loss', patience=50, mode='auto')\n",
    "path = './model/{epoch:02d}-{loss:.4f}.hdf5'\n",
    "checkpoint = ModelCheckpoint(filepath=path, monitor='val_loss',save_best_only=True)\n",
    "model.compile(loss='categorical_crossentropy', optimizer='adam', metrics=['acc'])\n",
    "hist = model.fit(x_train,y_train, epochs=50, batch_size=1000, validation_split=0.2\n",
    "                ,callbacks=[early_stop, checkpoint])\n",
    "\n",
    "loss, acc = model.evaluate(x_test,y_test) \n",
    "print('loss 는',loss)\n",
    "print('acc 는',acc)"
   ]
  },
  {
   "cell_type": "code",
   "execution_count": 21,
   "metadata": {},
   "outputs": [
    {
     "data": {
      "image/png": "[encoded data removed]",
      "text/plain": [
       "<Figure size 720x720 with 2 Axes>"
      ]
     },
     "metadata": {
      "needs_background": "light"
     },
     "output_type": "display_data"
    }
   ],
   "source": [
    "# 시각화\n",
    "import matplotlib.pyplot as plt\n",
    "plt.figure(figsize=(10,10))\n",
    "plt.subplot(2,1,1) # 2행 1열 에 첫번째꺼 그리겠다\n",
    "plt.plot(hist.history['loss'], marker='.', c='gray', label='loss')\n",
    "plt.plot(hist.history['val_loss'], marker='.', c='red', label='val_loss')\n",
    "plt.grid()\n",
    "plt.xlabel('epoch', size=15)\n",
    "plt.ylabel('loss', size=16)\n",
    "plt.legend(loc='upper left')\n",
    "\n",
    "plt.subplot(2,1,2) # 2행 1열 에 두번째꺼 그리겠다\n",
    "plt.plot(hist.history['acc'], marker='.', c='gray', label='acc')  \n",
    "plt.plot(hist.history['val_acc'], marker='.', c='red', label='val_acc')\n",
    "plt.grid()\n",
    "plt.xlabel('epoch', size=15)\n",
    "plt.ylabel('acc', size=16)\n",
    "plt.legend(loc='upper left')\n",
    "plt.show()"
   ]
  },
  {
   "cell_type": "code",
   "execution_count": 8,
   "metadata": {},
   "outputs": [
    {
     "data": {
      "text/plain": [
       "<matplotlib.image.AxesImage at 0x18070c1ef88>"
      ]
     },
     "execution_count": 8,
     "metadata": {},
     "output_type": "execute_result"
    },
    {
     "data": {
      "image/png": "[encoded data removed]",
      "text/plain": [
       "<Figure size 432x288 with 1 Axes>"
      ]
     },
     "metadata": {
      "needs_background": "light"
     },
     "output_type": "display_data"
    }
   ],
   "source": [
    "plt.imshow(x_test[0])"
   ]
  },
  {
   "cell_type": "code",
   "execution_count": 9,
   "metadata": {},
   "outputs": [],
   "source": [
    "import numpy as np"
   ]
  },
  {
   "cell_type": "code",
   "execution_count": 10,
   "metadata": {},
   "outputs": [
    {
     "data": {
      "text/plain": [
       "array([49, 33, 72, ..., 51, 42, 70], dtype=int64)"
      ]
     },
     "execution_count": 10,
     "metadata": {},
     "output_type": "execute_result"
    }
   ],
   "source": [
    "np.argmax(y_test, axis=1)"
   ]
  },
  {
   "cell_type": "code",
   "execution_count": 11,
   "metadata": {},
   "outputs": [],
   "source": [
    "predict = model.predict(x_test)"
   ]
  },
  {
   "cell_type": "code",
   "execution_count": 12,
   "metadata": {},
   "outputs": [
    {
     "data": {
      "text/plain": [
       "array([79, 80, 73, ..., 44, 78, 92], dtype=int64)"
      ]
     },
     "execution_count": 12,
     "metadata": {},
     "output_type": "execute_result"
    }
   ],
   "source": [
    "np.argmax(predict, axis=1)  # 33퍼 맞니..? 성능 왜이래...? ㅠ"
   ]
  },
  {
   "cell_type": "code",
   "execution_count": 14,
   "metadata": {},
   "outputs": [],
   "source": [
    "from keras.models import load_model\n",
    "model = load_model('./model/22-0.3191.hdf5')"
   ]
  },
  {
   "cell_type": "code",
   "execution_count": 16,
   "metadata": {},
   "outputs": [
    {
     "name": "stdout",
     "output_type": "stream",
     "text": [
      "Model: \"model_3\"\n",
      "_________________________________________________________________\n",
      "Layer (type)                 Output Shape              Param #   \n",
      "=================================================================\n",
      "input_3 (InputLayer)         (None, 32, 32, 3)         0         \n",
      "_________________________________________________________________\n",
      "conv2d_9 (Conv2D)            (None, 32, 32, 15)        1140      \n",
      "_________________________________________________________________\n",
      "conv2d_10 (Conv2D)           (None, 32, 32, 320)       120320    \n",
      "_________________________________________________________________\n",
      "max_pooling2d_5 (MaxPooling2 (None, 16, 16, 320)       0         \n",
      "_________________________________________________________________\n",
      "dropout_5 (Dropout)          (None, 16, 16, 320)       0         \n",
      "_________________________________________________________________\n",
      "flatten_3 (Flatten)          (None, 81920)             0         \n",
      "_________________________________________________________________\n",
      "dense_3 (Dense)              (None, 100)               8192100   \n",
      "=================================================================\n",
      "Total params: 8,313,560\n",
      "Trainable params: 8,313,560\n",
      "Non-trainable params: 0\n",
      "_________________________________________________________________\n"
     ]
    }
   ],
   "source": [
    "model.summary()"
   ]
  },
  {
   "cell_type": "code",
   "execution_count": 20,
   "metadata": {},
   "outputs": [
    {
     "data": {
      "text/plain": [
       "array([[1., 0., 0., 0., 0.],\n",
       "       [0., 1., 0., 0., 0.],\n",
       "       [0., 0., 1., 0., 0.],\n",
       "       [0., 0., 0., 1., 0.],\n",
       "       [0., 0., 0., 0., 1.],\n",
       "       [1., 0., 0., 0., 0.],\n",
       "       [0., 1., 0., 0., 0.],\n",
       "       [0., 0., 1., 0., 0.],\n",
       "       [0., 0., 0., 1., 0.],\n",
       "       [0., 0., 0., 0., 1.]], dtype=float32)"
      ]
     },
     "execution_count": 20,
     "metadata": {},
     "output_type": "execute_result"
    }
   ],
   "source": [
    "import numpy as np\n",
    "y = np.array([1,2,3,4,5,1,2,3,4,5])\n",
    "\n",
    "from keras.utils import np_utils\n",
    "y = np_utils.to_categorical(y)\n",
    "y = y[:,1:] \n",
    "y "
   ]
  },
  {
   "cell_type": "code",
   "execution_count": 24,
   "metadata": {},
   "outputs": [
    {
     "data": {
      "text/plain": [
       "array([[1., 0., 0., 0., 0.],\n",
       "       [0., 1., 0., 0., 0.],\n",
       "       [0., 0., 1., 0., 0.],\n",
       "       [0., 0., 0., 1., 0.],\n",
       "       [0., 0., 0., 0., 1.],\n",
       "       [1., 0., 0., 0., 0.],\n",
       "       [0., 1., 0., 0., 0.],\n",
       "       [0., 0., 1., 0., 0.],\n",
       "       [0., 0., 0., 1., 0.],\n",
       "       [0., 0., 0., 0., 1.]])"
      ]
     },
     "execution_count": 24,
     "metadata": {},
     "output_type": "execute_result"
    }
   ],
   "source": [
    "from sklearn.preprocessing import OneHotEncoder\n",
    "y = np.array([1,2,3,4,5,1,2,3,4,5])\n",
    "y = y.reshape(10,1)\n",
    "onehot = OneHotEncoder()\n",
    "onehot.fit(y)\n",
    "y = onehot.transform(y).toarray()\n",
    "y"
   ]
  },
  {
   "cell_type": "code",
   "execution_count": null,
   "metadata": {},
   "outputs": [],
   "source": []
  }
 ],
 "metadata": {
  "kernelspec": {
   "display_name": "Python 3",
   "language": "python",
   "name": "python3"
  },
  "language_info": {
   "codemirror_mode": {
    "name": "ipython",
    "version": 3
   },
   "file_extension": ".py",
   "mimetype": "text/x-python",
   "name": "python",
   "nbconvert_exporter": "python",
   "pygments_lexer": "ipython3",
   "version": "3.7.6"
  }
 },
 "nbformat": 4,
 "nbformat_minor": 4
}
