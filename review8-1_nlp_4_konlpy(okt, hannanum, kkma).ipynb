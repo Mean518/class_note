{
 "cells": [
  {
   "cell_type": "code",
   "execution_count": 1,
   "metadata": {},
   "outputs": [
    {
     "data": {
      "text/plain": [
       "['분명', '잘', '가고있는', '거', '맞을', '겁니다', '!']"
      ]
     },
     "execution_count": 1,
     "metadata": {},
     "output_type": "execute_result"
    }
   ],
   "source": [
    "from konlpy.tag import Okt\n",
    "okt = Okt()\n",
    "\n",
    "okt.morphs('분명 잘 가고있는 거 맞을겁니다 !')"
   ]
  },
  {
   "cell_type": "code",
   "execution_count": 2,
   "metadata": {},
   "outputs": [
    {
     "data": {
      "text/plain": [
       "['분명', '잘', '가', '고', '있', '는', '것', '맞', '을', '것', '이', 'ㅂ니다', '!']"
      ]
     },
     "execution_count": 2,
     "metadata": {},
     "output_type": "execute_result"
    }
   ],
   "source": [
    "from konlpy.tag import Hannanum\n",
    "hannanum = Hannanum()\n",
    "hannanum.morphs('분명 잘 가고있는 거 맞을겁니다 !')"
   ]
  },
  {
   "cell_type": "code",
   "execution_count": 3,
   "metadata": {},
   "outputs": [
    {
     "data": {
      "text/plain": [
       "['분명', '잘', '가', '고', '있', '는', '거', '맞', '을', '것', '이', 'ㅂ니다', '!']"
      ]
     },
     "execution_count": 3,
     "metadata": {},
     "output_type": "execute_result"
    }
   ],
   "source": [
    "from konlpy.tag import Kkma\n",
    "kkma = Kkma()\n",
    "kkma.morphs('분명 잘 가고있는 거 맞을겁니다 !')"
   ]
  },
  {
   "cell_type": "raw",
   "metadata": {},
   "source": [
    "Okt()\n",
    "    >>> from konlpy.tag import Okt\n",
    "    >>> okt = Okt()\n",
    "    \n",
    "  1. morphs : 형태소로 쪼개기\n",
    "    okt.morphs(u'단독입찰보다 복수입찰의 경우')\n",
    "    >>> ['단독', '입찰', '보다', '복수', '입찰', '의', '경우']\n",
    "   \n",
    "  2. nouns : 명사만 남기기\n",
    "    okt.nouns(u'유일하게 항공기 체계 종합개발 경험을 갖고 있는 KAI는'))\n",
    "    >>> ['항공기', '체계', '종합', '개발', '경험']\n",
    "    \n",
    "  3. phrases : 구로 쪼개기 (잘 안쓸듯)\n",
    "    okt.phrases(u'날카로운 분석과 신뢰감 있는 진행으로'))\n",
    "     >>> ['날카로운 분석', '날카로운 분석과 신뢰감', '날카로운 분석과 신뢰감 있는 진행', '분석', '신뢰', '진행']\n",
    " \n",
    "  4. pos : 품사로 쪼개고 품사 이름과 set\n",
    "    okt.pos(u'이것도 되나욬ㅋㅋ')\n",
    "    >>> [('이', 'Determiner'), ('것', 'Noun'), ('도', 'Josa'), ('되나욬', 'Noun'), ('ㅋㅋ', 'KoreanParticle')]\n",
    "\n",
    "  4-1. norm=True 뭔가 표준화 시켜서 품사 부착한 듯 싶다.\n",
    "    okt.pos(u'이것도 되나욬ㅋㅋ', norm=True))\n",
    "    >>> [('이', 'Determiner'), ('것', 'Noun'), ('도', 'Josa'), ('되나요', 'Verb'), ('ㅋㅋ', 'KoreanParticle')]\n",
    "    \n",
    "  4-2.  norm=True, stem=True 표준화 + 원형으로 품사 부착한 듯 싶다.\n",
    "    okt.pos(u'이것도 되나욬ㅋㅋ', norm=True, stem=True))\n",
    "    >>> [('이', 'Determiner'), ('것', 'Noun'), ('도', 'Josa'), ('되다', 'Verb'), ('ㅋㅋ', 'KoreanParticle')]"
   ]
  },
  {
   "cell_type": "raw",
   "metadata": {},
   "source": [
    "Hannanum 한나눔\n",
    ">>> from konlpy.tag import Hannanum\n",
    ">>> hannanum = Hannanum()\n",
    "\n",
    "    1. analyze\n",
    "    hannanum.analyze(u'롯데마트의 흑마늘 양념 치킨이 논란이 되고 있다.'))\n",
    "    >>> [[[('롯데마트', 'ncn'), ('의', 'jcm')], [('롯데마트의', 'ncn')], [('롯데마트', 'nqq'), ('의', 'jcm')], [('롯데마트의', 'nqq')]], [[('흑마늘', 'ncn')], [('흑마늘', 'nqq')]], [[('양념', 'ncn')]], [[('치킨', 'ncn'), ('이', 'jcc')], [('치킨', 'ncn'), ('이', 'jcs')], [('치킨', 'ncn'), ('이', 'ncn')]], [[('논란', 'ncpa'), ('이', 'jcc')], [('논란', 'ncpa'), ('이', 'jcs')], [('논란', 'ncpa'), ('이', 'ncn')]], [[('되', 'nbu'), ('고', 'jcj')], [('되', 'nbu'), ('이', 'jp'), ('고', 'ecc')], [('되', 'nbu'), ('이', 'jp'), ('고', 'ecs')], [('되', 'nbu'), ('이', 'jp'), ('고', 'ecx')], [('되', 'paa'), ('고', 'ecc')], [('되', 'paa'), ('고', 'ecs')], [('되', 'paa'), ('고', 'ecx')], [('되', 'pvg'), ('고', 'ecc')], [('되', 'pvg'), ('고', 'ecs')], [('되', 'pvg'), ('고', 'ecx')], [('되', 'px'), ('고', 'ecc')], [('되', 'px'), ('고', 'ecs')], [('되', 'px'), ('고', 'ecx')]], [[('있', 'paa'), ('다', 'ef')], [('있', 'px'), ('다', 'ef')]], [[('.', 'sf')], [('.', 'sy')]]]\n",
    "\n",
    "    2. morphs\n",
    "    hannanum.morphs(u'롯데마트의 흑마늘 양념 치킨이 논란이 되고 있다.'))\n",
    "    >>> ['롯데마트', '의', '흑마늘', '양념', '치킨', '이', '논란', '이', '되', '고', '있', '다', '.']\n",
    "\n",
    "    3. nouns\n",
    "    hannanum.nouns(u'다람쥐 헌 쳇바퀴에 타고파'))\n",
    "    >>> ['다람쥐', '쳇바퀴', '타고파']\n",
    "\n",
    "    4. pos\n",
    "    hannanum.pos(u'웃으면 더 행복합니다!'))\n",
    "    >>> [('웃', 'P'), ('으면', 'E'), ('더', 'M'), ('행복', 'N'), ('하', 'X'), ('ㅂ니다', 'E'), ('!', 'S')]"
   ]
  },
  {
   "cell_type": "raw",
   "metadata": {},
   "source": [
    "Kkma 꼬꼬마 \n",
    ">>> from konlpy.tag import Kkma\n",
    ">>> kkma = Kkma()\n",
    "    \n",
    "  1. morphs\n",
    "    kkma.morphs(u'공부를 하면할수록 모르는게 많다는 것을 알게 됩니다.'))\n",
    "    >>> ['공부', '를', '하', '면', '하', 'ㄹ수록', '모르', '는', '것', '이', '많', '다는', '것', '을', '알', '게', '되', 'ㅂ니다', '.']\n",
    "    \n",
    "  2. nouns\n",
    "    kkma.nouns(u'대학에서 DB, 통계학, 이산수학 등을 배웠지만...'))\n",
    "    >>> ['대학', '통계학', '이산', '이산수학', '수학', '등']\n",
    "    \n",
    "  3. pos\n",
    "    kkma.pos(u'다 까먹어버렸네요?ㅋㅋ'))\n",
    "    >>> [('다', 'MAG'), ('까먹', 'VV'), ('어', 'ECD'), ('버리', 'VXV'), ('었', 'EPT'), ('네요', 'EFN'), ('?', 'SF'), ('ㅋㅋ', 'EMO')]\n",
    "\n",
    "  4. sentences\n",
    "    kkma.sentences(u'그래도 계속 공부합니다. 재밌으니까!'))\n",
    "    >>> ['그래도 계속 공부합니다.', '재밌으니까!']"
   ]
  }
 ],
 "metadata": {
  "kernelspec": {
   "display_name": "Python 3",
   "language": "python",
   "name": "python3"
  },
  "language_info": {
   "codemirror_mode": {
    "name": "ipython",
    "version": 3
   },
   "file_extension": ".py",
   "mimetype": "text/x-python",
   "name": "python",
   "nbconvert_exporter": "python",
   "pygments_lexer": "ipython3",
   "version": "3.7.6"
  }
 },
 "nbformat": 4,
 "nbformat_minor": 4
}
