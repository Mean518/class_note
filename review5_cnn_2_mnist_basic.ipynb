{
 "cells": [
  {
   "cell_type": "code",
   "execution_count": 2,
   "metadata": {},
   "outputs": [
    {
     "name": "stderr",
     "output_type": "stream",
     "text": [
      "Using TensorFlow backend.\n"
     ]
    },
    {
     "name": "stdout",
     "output_type": "stream",
     "text": [
      "(60000, 28, 28)\n",
      "(10000, 28, 28)\n",
      "(60000,)\n",
      "(10000,)\n"
     ]
    }
   ],
   "source": [
    "import numpy as np\n",
    "import matplotlib.pyplot as plt\n",
    "from keras.datasets import mnist\n",
    "\n",
    "(x_train, y_train), (x_test, y_test) = mnist.load_data()\n",
    "\n",
    "print(x_train.shape)\n",
    "print(x_test.shape)\n",
    "print(y_train.shape)\n",
    "print(y_test.shape)"
   ]
  },
  {
   "cell_type": "code",
   "execution_count": 3,
   "metadata": {},
   "outputs": [
    {
     "name": "stdout",
     "output_type": "stream",
     "text": [
      "7\n"
     ]
    },
    {
     "data": {
      "text/plain": [
       "<matplotlib.image.AxesImage at 0x1f3fd875c88>"
      ]
     },
     "execution_count": 3,
     "metadata": {},
     "output_type": "execute_result"
    },
    {
     "data": {
      "image/png": "[encoded data removed]",
      "text/plain": [
       "<Figure size 432x288 with 1 Axes>"
      ]
     },
     "metadata": {
      "needs_background": "light"
     },
     "output_type": "display_data"
    }
   ],
   "source": [
    "print(y_test[0])\n",
    "plt.imshow(x_test[0])"
   ]
  },
  {
   "cell_type": "code",
   "execution_count": 4,
   "metadata": {},
   "outputs": [
    {
     "name": "stdout",
     "output_type": "stream",
     "text": [
      "(60000, 10)\n"
     ]
    }
   ],
   "source": [
    "from keras.utils import np_utils\n",
    "y_train = np_utils.to_categorical(y_train)\n",
    "y_test = np_utils.to_categorical(y_test)\n",
    "print(y_train.shape)"
   ]
  },
  {
   "cell_type": "code",
   "execution_count": 5,
   "metadata": {},
   "outputs": [],
   "source": [
    "x_train = (x_train/255).reshape(60000, 28, 28, 1)\n",
    "x_test = (x_test/255).reshape(10000, 28, 28, 1)"
   ]
  },
  {
   "cell_type": "code",
   "execution_count": 15,
   "metadata": {},
   "outputs": [
    {
     "name": "stdout",
     "output_type": "stream",
     "text": [
      "Model: \"sequential_2\"\n",
      "_________________________________________________________________\n",
      "Layer (type)                 Output Shape              Param #   \n",
      "=================================================================\n",
      "conv2d_3 (Conv2D)            (None, 28, 28, 5)         25        \n",
      "_________________________________________________________________\n",
      "conv2d_4 (Conv2D)            (None, 28, 28, 32)        1472      \n",
      "_________________________________________________________________\n",
      "conv2d_5 (Conv2D)            (None, 28, 28, 64)        8256      \n",
      "_________________________________________________________________\n",
      "conv2d_6 (Conv2D)            (None, 28, 28, 5)         1285      \n",
      "_________________________________________________________________\n",
      "flatten_2 (Flatten)          (None, 3920)              0         \n",
      "_________________________________________________________________\n",
      "dense_2 (Dense)              (None, 10)                39210     \n",
      "=================================================================\n",
      "Total params: 50,248\n",
      "Trainable params: 50,248\n",
      "Non-trainable params: 0\n",
      "_________________________________________________________________\n"
     ]
    }
   ],
   "source": [
    "from keras.models import Sequential\n",
    "from keras.layers import Dense, Conv2D, MaxPooling2D, Flatten\n",
    "\n",
    "model = Sequential()\n",
    "model.add(Conv2D(5, (2,2), input_shape=(28,28,1), padding='same')) \n",
    "model.add(Conv2D(32, (3,3), padding='same')) \n",
    "model.add(Conv2D(64, (2,2), padding='same')) \n",
    "# model.add(Conv2D(16, (2,2), padding='same'))\n",
    "model.add(Conv2D(5, (2,2), padding='same')) \n",
    "# model.add(Conv2D(5, (2,2), strides=2))  # (3,3,5) 6/2=3\n",
    "# model.add(Conv2D(5, (2,2), strides=2, padding='same'))  # (3,3,5) 6/2=3\n",
    "# model.add(MaxPooling2D(pool_size=2)) # (None, 3, 3, 5)\n",
    "# 4차원을 2차원으로 쫙 펴준다\n",
    "model.add(Flatten())\n",
    "model.add(Dense(10, activation='softmax'))\n",
    "model.summary()"
   ]
  },
  {
   "cell_type": "code",
   "execution_count": 16,
   "metadata": {},
   "outputs": [
    {
     "data": {
      "image/png": "[encoded data removed]",
      "text/plain": [
       "<Figure size 432x288 with 1 Axes>"
      ]
     },
     "metadata": {
      "needs_background": "light"
     },
     "output_type": "display_data"
    }
   ],
   "source": [
    "import matplotlib.pyplot as plt\n",
    "nodes = [1,5,10] #,848,1048,100,5,6]\n",
    "plt.plot(list(range(len(nodes))),nodes)\n",
    "plt.show()"
   ]
  },
  {
   "cell_type": "code",
   "execution_count": 17,
   "metadata": {
    "scrolled": true
   },
   "outputs": [
    {
     "name": "stdout",
     "output_type": "stream",
     "text": [
      "Train on 48000 samples, validate on 12000 samples\n",
      "Epoch 1/50\n",
      "48000/48000 [==============================] - 2s 52us/step - loss: 0.5605 - acc: 0.8419 - val_loss: 0.3072 - val_acc: 0.9137\n",
      "Epoch 2/50\n",
      "48000/48000 [==============================] - 2s 44us/step - loss: 0.3030 - acc: 0.9134 - val_loss: 0.2822 - val_acc: 0.9211\n",
      "Epoch 3/50\n",
      "48000/48000 [==============================] - 2s 44us/step - loss: 0.2941 - acc: 0.9168 - val_loss: 0.2773 - val_acc: 0.9232\n",
      "Epoch 4/50\n",
      "48000/48000 [==============================] - 2s 44us/step - loss: 0.2832 - acc: 0.9199 - val_loss: 0.2767 - val_acc: 0.9248\n",
      "Epoch 5/50\n",
      "48000/48000 [==============================] - 2s 44us/step - loss: 0.2797 - acc: 0.9212 - val_loss: 0.2788 - val_acc: 0.9243\n",
      "Epoch 6/50\n",
      "48000/48000 [==============================] - 2s 44us/step - loss: 0.2775 - acc: 0.9224 - val_loss: 0.2762 - val_acc: 0.9252\n",
      "Epoch 7/50\n",
      "48000/48000 [==============================] - 2s 45us/step - loss: 0.2737 - acc: 0.9229 - val_loss: 0.2786 - val_acc: 0.9242\n",
      "Epoch 8/50\n",
      "48000/48000 [==============================] - 2s 44us/step - loss: 0.2706 - acc: 0.9240 - val_loss: 0.2681 - val_acc: 0.9273\n",
      "Epoch 9/50\n",
      "48000/48000 [==============================] - 2s 45us/step - loss: 0.2649 - acc: 0.9264 - val_loss: 0.2711 - val_acc: 0.9273\n",
      "Epoch 10/50\n",
      "48000/48000 [==============================] - 2s 44us/step - loss: 0.2643 - acc: 0.9255 - val_loss: 0.2701 - val_acc: 0.9268\n",
      "Epoch 11/50\n",
      "48000/48000 [==============================] - 2s 45us/step - loss: 0.2603 - acc: 0.9265 - val_loss: 0.2681 - val_acc: 0.9296\n",
      "Epoch 12/50\n",
      "48000/48000 [==============================] - 2s 45us/step - loss: 0.2569 - acc: 0.9275 - val_loss: 0.2711 - val_acc: 0.9269\n",
      "Epoch 13/50\n",
      "48000/48000 [==============================] - 2s 45us/step - loss: 0.2547 - acc: 0.9291 - val_loss: 0.2775 - val_acc: 0.9260\n",
      "Epoch 14/50\n",
      "48000/48000 [==============================] - 2s 45us/step - loss: 0.2520 - acc: 0.9289 - val_loss: 0.2757 - val_acc: 0.9250\n",
      "Epoch 15/50\n",
      "48000/48000 [==============================] - 2s 44us/step - loss: 0.2489 - acc: 0.9300 - val_loss: 0.2792 - val_acc: 0.9248\n",
      "Epoch 16/50\n",
      "48000/48000 [==============================] - 2s 45us/step - loss: 0.2459 - acc: 0.9311 - val_loss: 0.2778 - val_acc: 0.9260\n",
      "Epoch 17/50\n",
      "48000/48000 [==============================] - 2s 44us/step - loss: 0.2461 - acc: 0.9300 - val_loss: 0.2850 - val_acc: 0.9223\n",
      "Epoch 18/50\n",
      "48000/48000 [==============================] - 2s 44us/step - loss: 0.2431 - acc: 0.9312 - val_loss: 0.2816 - val_acc: 0.9258\n",
      "Epoch 19/50\n",
      "48000/48000 [==============================] - 2s 45us/step - loss: 0.2427 - acc: 0.9313 - val_loss: 0.2819 - val_acc: 0.9238\n",
      "Epoch 20/50\n",
      "48000/48000 [==============================] - 2s 44us/step - loss: 0.2404 - acc: 0.9322 - val_loss: 0.2865 - val_acc: 0.9225\n",
      "Epoch 21/50\n",
      "48000/48000 [==============================] - 2s 45us/step - loss: 0.2387 - acc: 0.9328 - val_loss: 0.2861 - val_acc: 0.9211\n",
      "Epoch 22/50\n",
      "48000/48000 [==============================] - 2s 44us/step - loss: 0.2373 - acc: 0.9326 - val_loss: 0.2893 - val_acc: 0.9215\n",
      "Epoch 23/50\n",
      "48000/48000 [==============================] - 2s 45us/step - loss: 0.2393 - acc: 0.9321 - val_loss: 0.2873 - val_acc: 0.9222\n",
      "Epoch 24/50\n",
      "48000/48000 [==============================] - 2s 44us/step - loss: 0.2389 - acc: 0.9316 - val_loss: 0.2891 - val_acc: 0.9208\n",
      "Epoch 25/50\n",
      "48000/48000 [==============================] - 2s 45us/step - loss: 0.2358 - acc: 0.9332 - val_loss: 0.2873 - val_acc: 0.9222\n",
      "Epoch 26/50\n",
      "48000/48000 [==============================] - 2s 45us/step - loss: 0.2346 - acc: 0.9340 - val_loss: 0.2948 - val_acc: 0.9195\n",
      "Epoch 27/50\n",
      "48000/48000 [==============================] - 2s 45us/step - loss: 0.2333 - acc: 0.9332 - val_loss: 0.2938 - val_acc: 0.9210\n",
      "Epoch 28/50\n",
      "48000/48000 [==============================] - 2s 44us/step - loss: 0.2340 - acc: 0.9333 - val_loss: 0.2906 - val_acc: 0.9216\n",
      "Epoch 29/50\n",
      "48000/48000 [==============================] - 2s 45us/step - loss: 0.2346 - acc: 0.9326 - val_loss: 0.2899 - val_acc: 0.9227\n",
      "Epoch 30/50\n",
      "48000/48000 [==============================] - 2s 45us/step - loss: 0.2311 - acc: 0.9348 - val_loss: 0.2898 - val_acc: 0.9218\n",
      "Epoch 31/50\n",
      "48000/48000 [==============================] - 2s 45us/step - loss: 0.2315 - acc: 0.9340 - val_loss: 0.2940 - val_acc: 0.9219\n",
      "Epoch 32/50\n",
      "48000/48000 [==============================] - 2s 45us/step - loss: 0.2314 - acc: 0.9337 - val_loss: 0.2902 - val_acc: 0.9223\n",
      "Epoch 33/50\n",
      "48000/48000 [==============================] - 2s 45us/step - loss: 0.2294 - acc: 0.9347 - val_loss: 0.2913 - val_acc: 0.9224\n",
      "Epoch 34/50\n",
      "48000/48000 [==============================] - 2s 45us/step - loss: 0.2300 - acc: 0.9349 - val_loss: 0.2902 - val_acc: 0.9229\n",
      "Epoch 35/50\n",
      "48000/48000 [==============================] - 2s 44us/step - loss: 0.2300 - acc: 0.9344 - val_loss: 0.2942 - val_acc: 0.9192\n",
      "Epoch 36/50\n",
      "48000/48000 [==============================] - 2s 44us/step - loss: 0.2299 - acc: 0.9342 - val_loss: 0.2943 - val_acc: 0.9207\n",
      "Epoch 37/50\n",
      "48000/48000 [==============================] - 2s 44us/step - loss: 0.2289 - acc: 0.9347 - val_loss: 0.2933 - val_acc: 0.9227\n",
      "Epoch 38/50\n",
      "48000/48000 [==============================] - 2s 45us/step - loss: 0.2297 - acc: 0.9346 - val_loss: 0.2977 - val_acc: 0.9189\n",
      "Epoch 39/50\n",
      "48000/48000 [==============================] - 2s 45us/step - loss: 0.2291 - acc: 0.9339 - val_loss: 0.2931 - val_acc: 0.9212\n",
      "Epoch 40/50\n",
      "48000/48000 [==============================] - 2s 45us/step - loss: 0.2275 - acc: 0.9364 - val_loss: 0.2903 - val_acc: 0.9219\n",
      "Epoch 41/50\n",
      "48000/48000 [==============================] - 2s 45us/step - loss: 0.2271 - acc: 0.9360 - val_loss: 0.2939 - val_acc: 0.9222\n",
      "Epoch 42/50\n",
      "48000/48000 [==============================] - 2s 46us/step - loss: 0.2283 - acc: 0.9354 - val_loss: 0.2943 - val_acc: 0.9213\n",
      "Epoch 43/50\n",
      "48000/48000 [==============================] - 2s 45us/step - loss: 0.2269 - acc: 0.9355 - val_loss: 0.2929 - val_acc: 0.9241\n",
      "Epoch 44/50\n",
      "48000/48000 [==============================] - 2s 45us/step - loss: 0.2265 - acc: 0.9354 - val_loss: 0.2934 - val_acc: 0.9234\n",
      "Epoch 45/50\n",
      "48000/48000 [==============================] - 2s 45us/step - loss: 0.2278 - acc: 0.9352 - val_loss: 0.3016 - val_acc: 0.9174\n",
      "Epoch 46/50\n",
      "48000/48000 [==============================] - 2s 45us/step - loss: 0.2268 - acc: 0.9354 - val_loss: 0.2939 - val_acc: 0.9222\n",
      "Epoch 47/50\n",
      "48000/48000 [==============================] - 2s 45us/step - loss: 0.2254 - acc: 0.9359 - val_loss: 0.2984 - val_acc: 0.9202\n",
      "Epoch 48/50\n",
      "48000/48000 [==============================] - 2s 45us/step - loss: 0.2250 - acc: 0.9358 - val_loss: 0.2972 - val_acc: 0.9223\n",
      "Epoch 49/50\n",
      "48000/48000 [==============================] - 2s 45us/step - loss: 0.2247 - acc: 0.9365 - val_loss: 0.2957 - val_acc: 0.9222\n",
      "Epoch 50/50\n",
      "48000/48000 [==============================] - 2s 45us/step - loss: 0.2261 - acc: 0.9360 - val_loss: 0.2927 - val_acc: 0.9236\n"
     ]
    }
   ],
   "source": [
    "model.compile(loss='categorical_crossentropy', optimizer='adam', metrics=['acc'])  \n",
    "hist = model.fit(x_train,y_train, epochs=50, validation_split=0.2, batch_size=500) "
   ]
  },
  {
   "cell_type": "code",
   "execution_count": 18,
   "metadata": {},
   "outputs": [
    {
     "data": {
      "image/png": "[encoded data removed]",
      "text/plain": [
       "<Figure size 720x720 with 2 Axes>"
      ]
     },
     "metadata": {
      "needs_background": "light"
     },
     "output_type": "display_data"
    }
   ],
   "source": [
    "import matplotlib.pyplot as plt\n",
    "plt.figure(figsize=(10,10))\n",
    "plt.subplot(2,1,1) # 2행 1열 에 첫번째꺼 그리겠다\n",
    "plt.plot(hist.history['loss'], marker='.', c='gray', label='loss')\n",
    "plt.plot(hist.history['val_loss'], marker='.', c='red', label='val_loss')\n",
    "plt.grid()\n",
    "plt.xlabel('epoch', size=15)\n",
    "plt.ylabel('loss', size=16)\n",
    "plt.legend(loc='upper left')\n",
    "\n",
    "plt.subplot(2,1,2) # 2행 1열 에 두번째꺼 그리겠다\n",
    "plt.plot(hist.history['acc'], marker='.', c='gray', label='acc')  \n",
    "plt.plot(hist.history['val_acc'], marker='.', c='red', label='val_acc')\n",
    "plt.grid()\n",
    "plt.xlabel('epoch', size=15)\n",
    "plt.ylabel('acc', size=16)\n",
    "plt.legend(loc='upper left')\n",
    "plt.show()"
   ]
  },
  {
   "cell_type": "code",
   "execution_count": 23,
   "metadata": {},
   "outputs": [
    {
     "name": "stdout",
     "output_type": "stream",
     "text": [
      "10000/10000 [==============================] - 1s 66us/step\n",
      "loss 는 0.2965618529379368\n",
      "acc 는 0.9225999712944031\n"
     ]
    }
   ],
   "source": [
    "loss, acc = model.evaluate(x_test,y_test) \n",
    "print('loss 는',loss)\n",
    "print('acc 는',acc)"
   ]
  },
  {
   "cell_type": "code",
   "execution_count": 26,
   "metadata": {},
   "outputs": [
    {
     "data": {
      "text/plain": [
       "array([7, 2, 1, ..., 4, 5, 6], dtype=int64)"
      ]
     },
     "execution_count": 26,
     "metadata": {},
     "output_type": "execute_result"
    }
   ],
   "source": [
    "predict = model.predict(x_test)\n",
    "# print(predict)\n",
    "np.argmax(predict, axis = 1)"
   ]
  },
  {
   "cell_type": "code",
   "execution_count": 25,
   "metadata": {},
   "outputs": [
    {
     "data": {
      "text/plain": [
       "array([7, 2, 1, ..., 4, 5, 6], dtype=int64)"
      ]
     },
     "execution_count": 25,
     "metadata": {},
     "output_type": "execute_result"
    }
   ],
   "source": [
    "np.argmax(y_test, axis = 1)"
   ]
  },
  {
   "cell_type": "code",
   "execution_count": null,
   "metadata": {},
   "outputs": [],
   "source": [
    "# mnist는 학습 잘함"
   ]
  },
  {
   "cell_type": "code",
   "execution_count": null,
   "metadata": {},
   "outputs": [],
   "source": []
  },
  {
   "cell_type": "code",
   "execution_count": null,
   "metadata": {},
   "outputs": [],
   "source": []
  },
  {
   "cell_type": "code",
   "execution_count": null,
   "metadata": {},
   "outputs": [],
   "source": []
  },
  {
   "cell_type": "code",
   "execution_count": null,
   "metadata": {},
   "outputs": [],
   "source": []
  },
  {
   "cell_type": "code",
   "execution_count": null,
   "metadata": {},
   "outputs": [],
   "source": []
  }
 ],
 "metadata": {
  "kernelspec": {
   "display_name": "Python 3",
   "language": "python",
   "name": "python3"
  },
  "language_info": {
   "codemirror_mode": {
    "name": "ipython",
    "version": 3
   },
   "file_extension": ".py",
   "mimetype": "text/x-python",
   "name": "python",
   "nbconvert_exporter": "python",
   "pygments_lexer": "ipython3",
   "version": "3.7.6"
  }
 },
 "nbformat": 4,
 "nbformat_minor": 4
}
